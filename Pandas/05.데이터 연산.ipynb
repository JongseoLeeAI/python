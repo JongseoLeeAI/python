{
 "cells": [
  {
   "cell_type": "markdown",
   "metadata": {},
   "source": [
    "# 데이터 연산 (Universal Functions)"
   ]
  },
  {
   "cell_type": "markdown",
   "metadata": {},
   "source": [
    "- Numpy와 같이 사칙연산, 삼각함수 지수와로그함수,UFuncs 사용 가능"
   ]
  },
  {
   "cell_type": "code",
   "execution_count": 1,
   "metadata": {},
   "outputs": [
    {
     "name": "stdout",
     "output_type": "stream",
     "text": [
      "pandas ver :  0.24.2\n",
      "numpy ver :  1.16.4\n"
     ]
    }
   ],
   "source": [
    "import pandas as pd\n",
    "import numpy as np\n",
    "\n",
    "print(\"pandas ver : \",pd.__version__)\n",
    "print(\"numpy ver : \",np.__version__)"
   ]
  },
  {
   "cell_type": "code",
   "execution_count": 2,
   "metadata": {},
   "outputs": [
    {
     "name": "stdout",
     "output_type": "stream",
     "text": [
      "Series - ser : \n",
      " 0    6\n",
      "1    3\n",
      "2    7\n",
      "3    4\n",
      "dtype: int64\n",
      "\n",
      "\n",
      "Dataframe - df : \n",
      "    A  B  C  D\n",
      "0  6  9  2  6\n",
      "1  7  4  3  7\n",
      "2  7  2  5  4\n"
     ]
    }
   ],
   "source": [
    "# Series, Dataframe 데이터 선언\n",
    "rng = np.random.RandomState(42)\n",
    "ser = pd.Series(rng.randint(0,10,4))\n",
    "print(\"Series - ser : \\n\",ser)\n",
    "print(\"\\n\")\n",
    "\n",
    "df = pd.DataFrame(rng.randint(0,10,(3,4)), columns=['A', 'B', 'C', 'D'])\n",
    "print(\"Dataframe - df : \\n\",df)"
   ]
  },
  {
   "cell_type": "markdown",
   "metadata": {},
   "source": [
    "### [ 인덱스 보존 ]"
   ]
  },
  {
   "cell_type": "markdown",
   "metadata": {},
   "source": [
    "- **UFuncs를 적용**\n",
    "  - 결과는 인덱스가 보존된 객체를 반환함\n",
    "  - 원본 데이터 값은 변경안됨"
   ]
  },
  {
   "cell_type": "code",
   "execution_count": 3,
   "metadata": {},
   "outputs": [
    {
     "name": "stdout",
     "output_type": "stream",
     "text": [
      "원본 데이터\n",
      "ser : \n",
      " 0    6\n",
      "1    3\n",
      "2    7\n",
      "3    4\n",
      "dtype: int64\n",
      "df : \n",
      "    A  B  C  D\n",
      "0  6  9  2  6\n",
      "1  7  4  3  7\n",
      "2  7  2  5  4\n",
      "------------------------\n",
      "UFuncs 적용\n",
      "result_ser : \n",
      " 0     403.428793\n",
      "1      20.085537\n",
      "2    1096.633158\n",
      "3      54.598150\n",
      "dtype: float64\n",
      "<class 'pandas.core.series.Series'>\n",
      "\n",
      "\n",
      "result_df : \n",
      "              A            B           C            D\n",
      "0   403.428793  8103.083928    7.389056   403.428793\n",
      "1  1096.633158    54.598150   20.085537  1096.633158\n",
      "2  1096.633158     7.389056  148.413159    54.598150\n",
      "<class 'pandas.core.frame.DataFrame'>\n",
      "------------------------\n",
      "원본데이터\n",
      "ser : \n",
      " 0    6\n",
      "1    3\n",
      "2    7\n",
      "3    4\n",
      "dtype: int64\n",
      "df : \n",
      "    A  B  C  D\n",
      "0  6  9  2  6\n",
      "1  7  4  3  7\n",
      "2  7  2  5  4\n"
     ]
    }
   ],
   "source": [
    "print(\"원본 데이터\")\n",
    "print(\"ser : \\n\",ser)\n",
    "print(\"df : \\n\",df)\n",
    "print(\"------------------------\")\n",
    "\n",
    "print(\"UFuncs 적용\")\n",
    "result_ser = np.exp(ser)\n",
    "result_df = np.exp(df)\n",
    "print(\"result_ser : \\n\",result_ser)\n",
    "print(type(result_ser))\n",
    "print(\"\\n\")\n",
    "print(\"result_df : \\n\",result_df)\n",
    "print(type(result_df))\n",
    "\n",
    "print(\"------------------------\")\n",
    "print(\"원본데이터\")\n",
    "print(\"ser : \\n\",ser)\n",
    "print(\"df : \\n\",df)"
   ]
  },
  {
   "cell_type": "markdown",
   "metadata": {},
   "source": [
    "###### 예) UFuncs 를 이용한 계산"
   ]
  },
  {
   "cell_type": "code",
   "execution_count": 4,
   "metadata": {},
   "outputs": [
    {
     "data": {
      "text/html": [
       "<div>\n",
       "<style scoped>\n",
       "    .dataframe tbody tr th:only-of-type {\n",
       "        vertical-align: middle;\n",
       "    }\n",
       "\n",
       "    .dataframe tbody tr th {\n",
       "        vertical-align: top;\n",
       "    }\n",
       "\n",
       "    .dataframe thead th {\n",
       "        text-align: right;\n",
       "    }\n",
       "</style>\n",
       "<table border=\"1\" class=\"dataframe\">\n",
       "  <thead>\n",
       "    <tr style=\"text-align: right;\">\n",
       "      <th></th>\n",
       "      <th>A</th>\n",
       "      <th>B</th>\n",
       "      <th>C</th>\n",
       "      <th>D</th>\n",
       "    </tr>\n",
       "  </thead>\n",
       "  <tbody>\n",
       "    <tr>\n",
       "      <th>0</th>\n",
       "      <td>-1.000000</td>\n",
       "      <td>7.071068e-01</td>\n",
       "      <td>1.000000</td>\n",
       "      <td>-1.000000e+00</td>\n",
       "    </tr>\n",
       "    <tr>\n",
       "      <th>1</th>\n",
       "      <td>-0.707107</td>\n",
       "      <td>1.224647e-16</td>\n",
       "      <td>0.707107</td>\n",
       "      <td>-7.071068e-01</td>\n",
       "    </tr>\n",
       "    <tr>\n",
       "      <th>2</th>\n",
       "      <td>-0.707107</td>\n",
       "      <td>1.000000e+00</td>\n",
       "      <td>-0.707107</td>\n",
       "      <td>1.224647e-16</td>\n",
       "    </tr>\n",
       "  </tbody>\n",
       "</table>\n",
       "</div>"
      ],
      "text/plain": [
       "          A             B         C             D\n",
       "0 -1.000000  7.071068e-01  1.000000 -1.000000e+00\n",
       "1 -0.707107  1.224647e-16  0.707107 -7.071068e-01\n",
       "2 -0.707107  1.000000e+00 -0.707107  1.224647e-16"
      ]
     },
     "execution_count": 4,
     "metadata": {},
     "output_type": "execute_result"
    }
   ],
   "source": [
    "np.sin(df * np.pi / 4)"
   ]
  },
  {
   "cell_type": "markdown",
   "metadata": {},
   "source": [
    "### [ 인덱스 정렬 ]"
   ]
  },
  {
   "cell_type": "markdown",
   "metadata": {},
   "source": [
    "- **Series 인덱스 정렬**"
   ]
  },
  {
   "cell_type": "code",
   "execution_count": 5,
   "metadata": {},
   "outputs": [],
   "source": [
    "# Sereis 데이터 선언 \n",
    "area = pd.Series({'Alaska': 1723337, 'Texas': 695662,\n",
    "                  'California': 423967}, name='area')\n",
    "population = pd.Series({'California': 38332521, 'Texas': 26448193,\n",
    "                        'New York': 19651127}, name='population')"
   ]
  },
  {
   "cell_type": "code",
   "execution_count": 6,
   "metadata": {},
   "outputs": [
    {
     "name": "stdout",
     "output_type": "stream",
     "text": [
      "area : \n",
      " Alaska        1723337\n",
      "Texas          695662\n",
      "California     423967\n",
      "Name: area, dtype: int64\n",
      "\n",
      "\n",
      "population : \n",
      " California    38332521\n",
      "Texas         26448193\n",
      "New York      19651127\n",
      "Name: population, dtype: int64\n"
     ]
    }
   ],
   "source": [
    "print(\"area : \\n\",area)\n",
    "print(\"\\n\")\n",
    "print(\"population : \\n\",population)"
   ]
  },
  {
   "cell_type": "code",
   "execution_count": 7,
   "metadata": {},
   "outputs": [
    {
     "name": "stdout",
     "output_type": "stream",
     "text": [
      "density : \n",
      " Alaska              NaN\n",
      "California    90.413926\n",
      "New York            NaN\n",
      "Texas         38.018740\n",
      "dtype: float64\n"
     ]
    }
   ],
   "source": [
    "# area, population Series 데이터를 이용하여 인구 밀도 계산\n",
    "density = population / area\n",
    "print(\"density : \\n\", density)"
   ]
  },
  {
   "cell_type": "markdown",
   "metadata": {},
   "source": [
    "- 두 Series 데이터의 인덱스를 합쳐서 계산 하게 되는데 데이터가 없는 부분은 NaN(Not a Number)값이 됨\n",
    "- **인덱스 부분이 알파벳 순으로 정렬되어 결과가 출력됨**"
   ]
  },
  {
   "cell_type": "code",
   "execution_count": 8,
   "metadata": {},
   "outputs": [
    {
     "name": "stdout",
     "output_type": "stream",
     "text": [
      "A : \n",
      " 0    2\n",
      "1    4\n",
      "2    6\n",
      "dtype: int64\n",
      "\n",
      "\n",
      "B : \n",
      " 1    1\n",
      "2    3\n",
      "3    5\n",
      "dtype: int64\n"
     ]
    }
   ],
   "source": [
    "A = pd.Series([2,4,6], index=[0,1,2])\n",
    "B = pd.Series([1,3,5], index=[1,2,3])\n",
    "\n",
    "print(\"A : \\n\",A)\n",
    "print(\"\\n\")\n",
    "print(\"B : \\n\",B)"
   ]
  },
  {
   "cell_type": "code",
   "execution_count": 9,
   "metadata": {},
   "outputs": [
    {
     "name": "stdout",
     "output_type": "stream",
     "text": [
      "Int64Index([0, 1, 2, 3], dtype='int64')\n"
     ]
    }
   ],
   "source": [
    "print(A.index | B.index)"
   ]
  },
  {
   "cell_type": "code",
   "execution_count": 10,
   "metadata": {},
   "outputs": [
    {
     "name": "stdout",
     "output_type": "stream",
     "text": [
      "0    NaN\n",
      "1    5.0\n",
      "2    9.0\n",
      "3    NaN\n",
      "dtype: float64\n"
     ]
    }
   ],
   "source": [
    "# A+ B 연산 결과 \n",
    "print(A+B)"
   ]
  },
  {
   "cell_type": "markdown",
   "metadata": {},
   "source": [
    "* A에는 인덱스 3이 없고 B에는 인덱스 0이 없기 때문에 각 Series 데이터간 + 연산이 안되고 NaN으로 결과가 나옴"
   ]
  },
  {
   "cell_type": "markdown",
   "metadata": {},
   "source": [
    "- NaN으로 표시하지 않고 결측값을 임의의 값으로 지정하여 계산 할 수 있음\n",
    "- `Series.add` 이용\n",
    "  - 선언 : `Series.add(other, level=None, fill_value=None, axis=0)`"
   ]
  },
  {
   "cell_type": "code",
   "execution_count": 11,
   "metadata": {},
   "outputs": [
    {
     "name": "stdout",
     "output_type": "stream",
     "text": [
      "0    2.0\n",
      "1    5.0\n",
      "2    9.0\n",
      "3    5.0\n",
      "dtype: float64\n",
      "<class 'pandas.core.series.Series'>\n"
     ]
    }
   ],
   "source": [
    "# 결측값들을 0으로 지정하여 계산함\n",
    "result = A.add(B, fill_value=0)\n",
    "print(result)\n",
    "print(type(result))"
   ]
  },
  {
   "cell_type": "markdown",
   "metadata": {},
   "source": [
    "- **Dataframe 인덱스 정렬**"
   ]
  },
  {
   "cell_type": "code",
   "execution_count": 12,
   "metadata": {},
   "outputs": [
    {
     "name": "stdout",
     "output_type": "stream",
     "text": [
      "    A   B\n",
      "0   6  19\n",
      "1  14  10\n"
     ]
    }
   ],
   "source": [
    "rng = np.random.RandomState(42)\n",
    "A = pd.DataFrame(rng.randint(0,20,(2,2)), columns=list('AB'))\n",
    "print(A)"
   ]
  },
  {
   "cell_type": "code",
   "execution_count": 13,
   "metadata": {},
   "outputs": [
    {
     "name": "stdout",
     "output_type": "stream",
     "text": [
      "   B  A  C\n",
      "0  7  4  6\n",
      "1  9  2  6\n",
      "2  7  4  3\n"
     ]
    }
   ],
   "source": [
    "B = pd.DataFrame(rng.randint(0,10,(3,3)), columns=list('BAC'))\n",
    "print(B)"
   ]
  },
  {
   "cell_type": "code",
   "execution_count": 14,
   "metadata": {},
   "outputs": [
    {
     "name": "stdout",
     "output_type": "stream",
     "text": [
      "      A     B   C\n",
      "0  10.0  26.0 NaN\n",
      "1  16.0  19.0 NaN\n",
      "2   NaN   NaN NaN\n"
     ]
    }
   ],
   "source": [
    "result = A+B\n",
    "print(result)"
   ]
  },
  {
   "cell_type": "markdown",
   "metadata": {},
   "source": [
    "- A, B DataFrame 의 column은 A, B, C 알파벳 순으로 정렬 되어 있지 않음\n",
    "- A + B 연산을 통한 결과인 result DataFrame은 인덱스가 정렬되어 나옴"
   ]
  },
  {
   "cell_type": "markdown",
   "metadata": {},
   "source": [
    "- `DataFrame.stack(level=-1, dropna=True)`\n",
    "  - 각각의 컬럼에서 인덱스(행 row) 를 기준으로 각각의 컬럼(열 column) 데이터를 하나의 Series로 만들어 순서대로 쌓아놓은 구조로 반환"
   ]
  },
  {
   "cell_type": "code",
   "execution_count": 15,
   "metadata": {},
   "outputs": [
    {
     "name": "stdout",
     "output_type": "stream",
     "text": [
      "0  A     6\n",
      "   B    19\n",
      "1  A    14\n",
      "   B    10\n",
      "dtype: int64\n",
      "<class 'pandas.core.series.Series'>\n"
     ]
    }
   ],
   "source": [
    "print(A.stack())\n",
    "print(type(A.stack()))"
   ]
  },
  {
   "cell_type": "code",
   "execution_count": 16,
   "metadata": {},
   "outputs": [
    {
     "name": "stdout",
     "output_type": "stream",
     "text": [
      "A     6\n",
      "B    19\n",
      "dtype: int64\n",
      "\n",
      "\n",
      "A    14\n",
      "B    10\n",
      "dtype: int64\n"
     ]
    }
   ],
   "source": [
    "# Series 접근\n",
    "print(A.stack()[0])\n",
    "print(\"\\n\")\n",
    "print(A.stack()[1])"
   ]
  },
  {
   "cell_type": "code",
   "execution_count": 17,
   "metadata": {},
   "outputs": [
    {
     "name": "stdout",
     "output_type": "stream",
     "text": [
      "0-B :  19\n",
      "\n",
      "\n",
      "1-A :  14\n"
     ]
    }
   ],
   "source": [
    "# Series 항목 접근\n",
    "print(\"0-B : \",A.stack()[0]['B'])\n",
    "print(\"\\n\")\n",
    "print(\"1-A : \",A.stack()[1,'A'])"
   ]
  },
  {
   "cell_type": "code",
   "execution_count": 18,
   "metadata": {},
   "outputs": [
    {
     "name": "stdout",
     "output_type": "stream",
     "text": [
      "A :\n",
      "     A   B\n",
      "0   6  19\n",
      "1  14  10\n",
      "\n",
      "\n",
      "B :\n",
      "    B  A  C\n",
      "0  7  4  6\n",
      "1  9  2  6\n",
      "2  7  4  3\n",
      "\n",
      "\n",
      "result : \n",
      "       A     B   C\n",
      "0  10.0  26.0 NaN\n",
      "1  16.0  19.0 NaN\n",
      "2   NaN   NaN NaN\n",
      "\n",
      "\n",
      "A.values.sum()/A.size :  12.25\n",
      "A_Element_mean =  12.25\n",
      "result2 : \n",
      "        A      B      C\n",
      "0  10.00  26.00  18.25\n",
      "1  16.00  19.00  18.25\n",
      "2  16.25  19.25  15.25\n"
     ]
    }
   ],
   "source": [
    "print(\"A :\\n\",A)\n",
    "print(\"\\n\")\n",
    "print(\"B :\\n\",B)\n",
    "print(\"\\n\")\n",
    "print(\"result : \\n\",result)\n",
    "print(\"\\n\")\n",
    "\n",
    "print(\"A.values.sum()/A.size : \",A.values.sum()/A.size)\n",
    "A_Element_mean = A.stack().mean()\n",
    "print(\"A_Element_mean = \",A_Element_mean)\n",
    "result2 = A.add(B, fill_value=A_Element_mean)\n",
    "print(\"result2 : \\n\",result2)"
   ]
  },
  {
   "cell_type": "markdown",
   "metadata": {},
   "source": [
    "###### Python 연산자와  Pandas 메서드 \n",
    "\n",
    "| Python Operator | Pandas Method(s)                      |\n",
    "|-----------------|---------------------------------------|\n",
    "| ``+``           | ``add()``                             |\n",
    "| ``-``           | ``sub()``, ``subtract()``             |\n",
    "| ``*``           | ``mul()``, ``multiply()``             |\n",
    "| ``/``           | ``truediv()``, ``div()``, ``divide()``|\n",
    "| ``//``          | ``floordiv()``                        |\n",
    "| ``%``           | ``mod()``                             |\n",
    "| ``**``          | ``pow()``                             |"
   ]
  },
  {
   "cell_type": "markdown",
   "metadata": {},
   "source": [
    "### [ Series 와 DataFrame 사이의 UFuncs 연산 ]"
   ]
  },
  {
   "cell_type": "markdown",
   "metadata": {},
   "source": [
    "- Series 와 Dataframe 사이의 연산에서 인덱스와 열의 순서는 비슷하게 유지됨\n",
    "- 1차원 Numpy 배열과 2차원 Numpy 배열 사이의 연산과 비슷함"
   ]
  },
  {
   "cell_type": "code",
   "execution_count": 21,
   "metadata": {},
   "outputs": [
    {
     "name": "stdout",
     "output_type": "stream",
     "text": [
      "[[4 8 6 1]\n",
      " [3 8 1 9]\n",
      " [8 9 4 1]]\n",
      "<class 'numpy.ndarray'>\n",
      "\n",
      "\n",
      "[4 8 6 1]\n",
      "<class 'numpy.ndarray'>\n"
     ]
    }
   ],
   "source": [
    "# Dataframe 데이터 선언\n",
    "A = rng.randint(10, size=(3,4))\n",
    "print(A)\n",
    "print(type(A))\n",
    "print(\"\\n\")\n",
    "# Sereis 데이터 선언(Dataframe에서 추출함)\n",
    "B = A[0]\n",
    "print(B)\n",
    "print(type(B))"
   ]
  },
  {
   "cell_type": "markdown",
   "metadata": {},
   "source": [
    "- Dataframe, Series  행 방향으로 연산 \n",
    "  - 2차원 배열에서 배열의 행 하나를 뺌\n",
    "  - **Pandas에서 연산 규칙은 기본적으로 행 방향으로 적용됨**"
   ]
  },
  {
   "cell_type": "code",
   "execution_count": 25,
   "metadata": {},
   "outputs": [
    {
     "name": "stdout",
     "output_type": "stream",
     "text": [
      "[[ 0  0  0  0]\n",
      " [-1  0 -5  8]\n",
      " [ 4  1 -2  0]]\n",
      "<class 'numpy.ndarray'>\n"
     ]
    }
   ],
   "source": [
    "result = A - B \n",
    "print(result)\n",
    "print(type(result))"
   ]
  },
  {
   "cell_type": "markdown",
   "metadata": {},
   "source": [
    "- Dataframe, Series 열 방향 연산\n",
    "  - UFuncs 을 이용하여 axis 키워드를 지정하면 됨"
   ]
  },
  {
   "cell_type": "code",
   "execution_count": 29,
   "metadata": {},
   "outputs": [
    {
     "name": "stdout",
     "output_type": "stream",
     "text": [
      "   Q  R  S  T\n",
      "0  4  8  6  1\n",
      "1  3  8  1  9\n",
      "2  8  9  4  1\n",
      "<class 'pandas.core.frame.DataFrame'>\n"
     ]
    }
   ],
   "source": [
    "df = pd.DataFrame(A, columns=list(\"QRST\"))\n",
    "print(df)\n",
    "print(type(df))"
   ]
  },
  {
   "cell_type": "code",
   "execution_count": 30,
   "metadata": {},
   "outputs": [
    {
     "name": "stdout",
     "output_type": "stream",
     "text": [
      "0    8\n",
      "1    8\n",
      "2    9\n",
      "Name: R, dtype: int64\n",
      "<class 'pandas.core.series.Series'>\n"
     ]
    }
   ],
   "source": [
    "ser = df['R']\n",
    "print(ser)\n",
    "print(type(ser))"
   ]
  },
  {
   "cell_type": "code",
   "execution_count": 34,
   "metadata": {},
   "outputs": [
    {
     "name": "stdout",
     "output_type": "stream",
     "text": [
      "   Q  R  S  T\n",
      "0 -4  0 -2 -7\n",
      "1 -5  0 -7  1\n",
      "2 -1  0 -5 -8\n",
      "<class 'pandas.core.frame.DataFrame'>\n"
     ]
    }
   ],
   "source": [
    "result_df = df.subtract(ser, axis=0)\n",
    "print(result_df)\n",
    "print(type(result_df))"
   ]
  },
  {
   "cell_type": "code",
   "execution_count": null,
   "metadata": {},
   "outputs": [],
   "source": []
  }
 ],
 "metadata": {
  "kernelspec": {
   "display_name": "Python 3",
   "language": "python",
   "name": "python3"
  },
  "language_info": {
   "codemirror_mode": {
    "name": "ipython",
    "version": 3
   },
   "file_extension": ".py",
   "mimetype": "text/x-python",
   "name": "python",
   "nbconvert_exporter": "python",
   "pygments_lexer": "ipython3",
   "version": "3.6.8"
  }
 },
 "nbformat": 4,
 "nbformat_minor": 2
}
