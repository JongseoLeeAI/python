{
 "cells": [
  {
   "cell_type": "markdown",
   "metadata": {},
   "source": [
    "# Pandas Series\n",
    "- **Series**\n",
    "- Dataframe"
   ]
  },
  {
   "cell_type": "code",
   "execution_count": 2,
   "metadata": {},
   "outputs": [
    {
     "name": "stdout",
     "output_type": "stream",
     "text": [
      "pandas ver :  0.24.2\n",
      "numpy ver :  1.16.4\n"
     ]
    }
   ],
   "source": [
    "import pandas as pd\n",
    "import numpy as np\n",
    "\n",
    "print(\"pandas ver : \",pd.__version__)\n",
    "print(\"numpy ver : \",np.__version__)"
   ]
  },
  {
   "cell_type": "markdown",
   "metadata": {},
   "source": [
    "## Series\n",
    "- 인덱싱된 데이터의 1차원 배열\n",
    "- 리스트나 배열로 만들 수 있음"
   ]
  },
  {
   "cell_type": "markdown",
   "metadata": {},
   "source": [
    "### [Pandas Series 객체 선언]\n",
    "  - [DOC](https://pandas.pydata.org/pandas-docs/stable/reference/series.html)"
   ]
  },
  {
   "cell_type": "markdown",
   "metadata": {},
   "source": [
    "#### Series 객체 선언 및 정보 확인  "
   ]
  },
  {
   "cell_type": "markdown",
   "metadata": {},
   "source": [
    "- **선언**\n",
    "  - `class pandas.Series(data=None, index=None, dtype=None, name=None, copy=False, fastpath=False)`\n",
    "  - data : 리스트, Numpy배열, tuple, dictionary(키값이 인덱스가 됨), 정수1개(인덱스의 수에 따라 모두 같은 정수 값이 들어감)\n"
   ]
  },
  {
   "cell_type": "code",
   "execution_count": 3,
   "metadata": {},
   "outputs": [
    {
     "name": "stdout",
     "output_type": "stream",
     "text": [
      "* 리스트 : \n",
      "0    44\n",
      "1    22\n",
      "2    33\n",
      "3    11\n",
      "dtype: int64\n",
      "\n",
      "\n",
      "* Numpy배열 : \n",
      "0    0\n",
      "1    1\n",
      "2    2\n",
      "3    3\n",
      "4    4\n",
      "5    5\n",
      "dtype: int64\n",
      "\n",
      "\n",
      "* tuple : \n",
      "0    44\n",
      "1    22\n",
      "2    33\n",
      "3    11\n",
      "dtype: int64\n",
      "\n",
      "\n",
      "* Dictionary : \n",
      "a    1\n",
      "b    2\n",
      "c    3\n",
      "d    4\n",
      "dtype: int64\n",
      "\n",
      "\n",
      "* 정수1개 : \n",
      "1    100\n",
      "2    100\n",
      "3    100\n",
      "4    100\n",
      "5    100\n",
      "dtype: int64\n",
      "\n",
      "\n"
     ]
    }
   ],
   "source": [
    "print(\"* 리스트 : \")\n",
    "print(pd.Series([44,22,33,11]))\n",
    "print(\"\\n\")\n",
    "print(\"* Numpy배열 : \")\n",
    "print(pd.Series(np.arange(0,6)))\n",
    "print(\"\\n\")\n",
    "print(\"* tuple : \")\n",
    "print(pd.Series((44,22,33,11)))\n",
    "print(\"\\n\")\n",
    "print(\"* Dictionary : \")\n",
    "print(pd.Series({\"a\":1,\"b\":2,\"c\":3,\"d\":4}))\n",
    "print(\"\\n\")\n",
    "print(\"* 정수1개 : \")\n",
    "print(pd.Series(100, index=[1,2,3,4,5]))\n",
    "print(\"\\n\")"
   ]
  },
  {
   "cell_type": "code",
   "execution_count": 4,
   "metadata": {},
   "outputs": [
    {
     "name": "stdout",
     "output_type": "stream",
     "text": [
      "arr :  [-0.38114027 -1.0497343   0.62237906 -0.41795164]\n",
      "type :  <class 'numpy.ndarray'>\n",
      "ndim :  1\n",
      "shape :  (4,)\n",
      "size :  4\n",
      "\n",
      "\n",
      "data(Series) : \n",
      " 0   -0.381140\n",
      "1   -1.049734\n",
      "2    0.622379\n",
      "3   -0.417952\n",
      "dtype: float64\n"
     ]
    }
   ],
   "source": [
    "arr = np.random.normal(loc=0, scale=1, size=[4])\n",
    "print(\"arr : \",arr)\n",
    "print(\"type : \",type(arr))\n",
    "print(\"ndim : \",arr.ndim)\n",
    "print(\"shape : \",arr.shape)\n",
    "print(\"size : \",arr.size)\n",
    "print(\"\\n\")\n",
    "\n",
    "# numpy ndarray 이용한 Pandas Series 선언\n",
    "data = pd.Series(arr)\n",
    "print(\"data(Series) : \\n\", data)"
   ]
  },
  {
   "cell_type": "code",
   "execution_count": 5,
   "metadata": {},
   "outputs": [
    {
     "name": "stdout",
     "output_type": "stream",
     "text": [
      "listData :  [11, 22, 33, 44, 55]\n",
      "type :  <class 'list'>\n",
      "size :  5\n",
      "\n",
      "\n",
      "data2(Series) : \n",
      " 0    11\n",
      "1    22\n",
      "2    33\n",
      "3    44\n",
      "4    55\n",
      "dtype: int64\n"
     ]
    }
   ],
   "source": [
    "listData = [11,22,33,44,55]\n",
    "print(\"listData : \",listData)\n",
    "print(\"type : \",type(listData))\n",
    "print(\"size : \",len(listData))\n",
    "print(\"\\n\")\n",
    "# python list 이용한 Pandas Series 선언\n",
    "data2 = pd.Series(listData)\n",
    "print(\"data2(Series) : \\n\",data2)"
   ]
  },
  {
   "cell_type": "markdown",
   "metadata": {},
   "source": [
    "#### Series 객체 Attribute "
   ]
  },
  {
   "cell_type": "markdown",
   "metadata": {},
   "source": [
    "- **`Series.values`** : Series 데이터 확인\n",
    "  - return : ndarray"
   ]
  },
  {
   "cell_type": "code",
   "execution_count": 6,
   "metadata": {},
   "outputs": [
    {
     "name": "stdout",
     "output_type": "stream",
     "text": [
      "[-0.38114027 -1.0497343   0.62237906 -0.41795164]\n",
      "type :  <class 'numpy.ndarray'>\n",
      "\n",
      "\n",
      "[11 22 33 44 55]\n",
      "type :  <class 'numpy.ndarray'>\n"
     ]
    }
   ],
   "source": [
    "result_values = data.values\n",
    "print(result_values)\n",
    "print(\"type : \",type(result_values))\n",
    "print(\"\\n\")\n",
    "result2_values = data2.values\n",
    "print(result2_values)\n",
    "print(\"type : \",type(result2_values))"
   ]
  },
  {
   "cell_type": "markdown",
   "metadata": {},
   "source": [
    "- **`Series.index`** : 인덱스 확인"
   ]
  },
  {
   "cell_type": "code",
   "execution_count": 7,
   "metadata": {},
   "outputs": [
    {
     "name": "stdout",
     "output_type": "stream",
     "text": [
      "result_index :  RangeIndex(start=0, stop=4, step=1)\n",
      "\n",
      "\n",
      "result2_index :  RangeIndex(start=0, stop=5, step=1)\n"
     ]
    }
   ],
   "source": [
    "result_index = data.index\n",
    "print(\"result_index : \",result_index)\n",
    "print(\"\\n\")\n",
    "result2_index = data2.index\n",
    "print(\"result2_index : \",result2_index)"
   ]
  },
  {
   "cell_type": "markdown",
   "metadata": {},
   "source": [
    "- **`Series.shape`** : 데이터 형태 확인"
   ]
  },
  {
   "cell_type": "code",
   "execution_count": 8,
   "metadata": {},
   "outputs": [
    {
     "data": {
      "text/plain": [
       "(4,)"
      ]
     },
     "execution_count": 8,
     "metadata": {},
     "output_type": "execute_result"
    }
   ],
   "source": [
    "data.shape"
   ]
  },
  {
   "cell_type": "markdown",
   "metadata": {},
   "source": [
    "- **`Series.ndim`** : 데이터 차원 확인"
   ]
  },
  {
   "cell_type": "code",
   "execution_count": 9,
   "metadata": {},
   "outputs": [
    {
     "data": {
      "text/plain": [
       "1"
      ]
     },
     "execution_count": 9,
     "metadata": {},
     "output_type": "execute_result"
    }
   ],
   "source": [
    "data.ndim"
   ]
  },
  {
   "cell_type": "markdown",
   "metadata": {},
   "source": [
    "- **`Series.size`** : 데이터 크기 확인"
   ]
  },
  {
   "cell_type": "code",
   "execution_count": 10,
   "metadata": {},
   "outputs": [
    {
     "data": {
      "text/plain": [
       "4"
      ]
     },
     "execution_count": 10,
     "metadata": {},
     "output_type": "execute_result"
    }
   ],
   "source": [
    "data.size"
   ]
  },
  {
   "cell_type": "markdown",
   "metadata": {},
   "source": [
    "- **`Series.array`** : PandasArray 데이터 반환 \n",
    "  - return : PandasArray\n",
    "  - [Pandas Array DOC](https://pandas.pydata.org/pandas-docs/stable/reference/arrays.html)\n",
    "  "
   ]
  },
  {
   "cell_type": "code",
   "execution_count": 11,
   "metadata": {},
   "outputs": [
    {
     "name": "stdout",
     "output_type": "stream",
     "text": [
      "<PandasArray>\n",
      "[-0.3811402693085281, -1.0497342980461437,  0.6223790550858628,\n",
      " -0.4179516415152897]\n",
      "Length: 4, dtype: float64\n",
      "<class 'pandas.core.arrays.numpy_.PandasArray'>\n"
     ]
    }
   ],
   "source": [
    "print(data.array)\n",
    "print(type(data.array))"
   ]
  },
  {
   "cell_type": "markdown",
   "metadata": {},
   "source": [
    "* **`Series.keys()`** : Series index 반환"
   ]
  },
  {
   "cell_type": "code",
   "execution_count": 15,
   "metadata": {},
   "outputs": [
    {
     "name": "stdout",
     "output_type": "stream",
     "text": [
      "0   -0.381140\n",
      "1   -1.049734\n",
      "2    0.622379\n",
      "3   -0.417952\n",
      "dtype: float64\n",
      "\n",
      "\n",
      "RangeIndex(start=0, stop=4, step=1)\n",
      "0\n",
      "1\n",
      "2\n",
      "3\n"
     ]
    }
   ],
   "source": [
    "print(data)\n",
    "print(\"\\n\")\n",
    "print(data.keys())\n",
    "for ind in data.keys():\n",
    "    print(ind)"
   ]
  },
  {
   "cell_type": "markdown",
   "metadata": {},
   "source": [
    "#### Series 데이터 접근\n",
    "- 대괄호안에 인덱스로 접근 가능하며 슬라이싱도 사용 가능"
   ]
  },
  {
   "cell_type": "code",
   "execution_count": 55,
   "metadata": {},
   "outputs": [
    {
     "name": "stdout",
     "output_type": "stream",
     "text": [
      "data Series : \n",
      " 0   -1.682291\n",
      "1    1.635158\n",
      "2    0.969099\n",
      "3    0.745511\n",
      "dtype: float64\n",
      "\n",
      "\n",
      "data[2] = \n",
      " 0.9690992535067479\n"
     ]
    }
   ],
   "source": [
    "print(\"data Series : \\n\",data)\n",
    "print(\"\\n\")\n",
    "\n",
    "\n",
    "# 인덱스로 데이터 접근\n",
    "print(\"data[2] = \\n\",data[2])"
   ]
  },
  {
   "cell_type": "code",
   "execution_count": 56,
   "metadata": {},
   "outputs": [
    {
     "name": "stdout",
     "output_type": "stream",
     "text": [
      "data[:2] : \n",
      " 0   -1.682291\n",
      "1    1.635158\n",
      "dtype: float64\n"
     ]
    }
   ],
   "source": [
    "# 슬라이싱을 이용한 데이터 접근\n",
    "print(\"data[:2] : \\n\",data[:2])"
   ]
  },
  {
   "cell_type": "code",
   "execution_count": null,
   "metadata": {},
   "outputs": [],
   "source": []
  },
  {
   "cell_type": "markdown",
   "metadata": {},
   "source": [
    "### [Series 와 Numpy배열]"
   ]
  },
  {
   "cell_type": "markdown",
   "metadata": {},
   "source": [
    "- **차이점**\n",
    "  - Series는 **명시적으로 정의된 인덱스**를 사용\n",
    "  - Numpy 배열은 암묵적으로 정의된 정수형 인덱스 사용\n",
    "- Series에 인덱스를 추가 할 수 있게 하며 다양한 타입을 사용 가능 \n",
    "- 정의된 인덱스 뿐만 아니라 **정수형 인덱스도 함께 사용** 하여 데이터 접근 가능"
   ]
  },
  {
   "cell_type": "code",
   "execution_count": 59,
   "metadata": {},
   "outputs": [
    {
     "name": "stdout",
     "output_type": "stream",
     "text": [
      "a    0.25\n",
      "b    0.50\n",
      "c    0.75\n",
      "d    1.00\n",
      "dtype: float64\n"
     ]
    }
   ],
   "source": [
    "# index 를 추가하여 Series 선언\n",
    "data = pd.Series([0.25, 0.5, 0.75, 1.0],\n",
    "                 index=['a', 'b', 'c', 'd'])\n",
    "print(data)"
   ]
  },
  {
   "cell_type": "code",
   "execution_count": 60,
   "metadata": {},
   "outputs": [
    {
     "name": "stdout",
     "output_type": "stream",
     "text": [
      "data[d] :  1.0\n",
      "data[3] :  1.0\n"
     ]
    }
   ],
   "source": [
    "# 정의된 인덱스를 이용하여 데이터 접근\n",
    "print(\"data[d] : \",data['d'])\n",
    "print(\"data[3] : \",data[3])"
   ]
  },
  {
   "cell_type": "markdown",
   "metadata": {},
   "source": [
    "- 정의된 인덱스를 정수형으로 추가 한다면 기존 정수형 인덱스로 접근 했던 정수로는 접근이 안됨\n",
    "- 새롭게 정의된 정수형 인덱스로만 접근이 가능, 주의해야함!"
   ]
  },
  {
   "cell_type": "code",
   "execution_count": 65,
   "metadata": {},
   "outputs": [
    {
     "name": "stdout",
     "output_type": "stream",
     "text": [
      "data series : \n",
      " 2    0.25\n",
      "5    0.50\n",
      "3    0.75\n",
      "7    1.00\n",
      "dtype: float64\n",
      "\n",
      "\n",
      "data[2] :  0.25\n"
     ]
    }
   ],
   "source": [
    "data = pd.Series([0.25, 0.5, 0.75, 1.0],\n",
    "                 index=[2, 5, 3, 7])\n",
    "print(\"data series : \\n\",data)\n",
    "print(\"\\n\")\n",
    "print(\"data[2] : \",data[2])"
   ]
  },
  {
   "cell_type": "markdown",
   "metadata": {},
   "source": [
    "### [ Dictionary ... Series ]"
   ]
  },
  {
   "cell_type": "markdown",
   "metadata": {},
   "source": [
    "- Python Dictionary(이하 Dict) 자료형 : 임의의 값에 임의의 키를 매핑\n",
    "- Pandas Series : **타입이 지정된 키**를 일련의 **타입이 지정된 값**에 매핑\n",
    "\n",
    "- Series는 타입이 지정된 값을 사용하기 때문에 연산을 할 경우에 좀더 효율적인 성능을 보임"
   ]
  },
  {
   "cell_type": "code",
   "execution_count": 68,
   "metadata": {},
   "outputs": [
    {
     "name": "stdout",
     "output_type": "stream",
     "text": [
      "population_dict : \n",
      " {'California': 38332521, 'Texas': 26448193, 'New York': 19651127, 'Florida': 19552860, 'Illinois': 12882135}\n",
      "\n",
      "\n",
      "Population Series : \n",
      " California    38332521\n",
      "Texas         26448193\n",
      "New York      19651127\n",
      "Florida       19552860\n",
      "Illinois      12882135\n",
      "dtype: int64\n"
     ]
    }
   ],
   "source": [
    "population_dict = {'California': 38332521,\n",
    "                   'Texas': 26448193,\n",
    "                   'New York': 19651127,\n",
    "                   'Florida': 19552860,\n",
    "                   'Illinois': 12882135}\n",
    "print(\"population_dict : \\n\",population_dict)\n",
    "print(\"\\n\")\n",
    "\n",
    "# Python Dictionary 자료형으로 Series 객체를 선언함\n",
    "population = pd.Series(population_dict)\n",
    "print(\"Population Series : \\n\",population)"
   ]
  },
  {
   "cell_type": "markdown",
   "metadata": {},
   "source": [
    "- Dict 와 Series의 차이점\n",
    "  - Series는 '키'를 이용하여 슬라이싱이 가능함"
   ]
  },
  {
   "cell_type": "code",
   "execution_count": 76,
   "metadata": {},
   "outputs": [
    {
     "name": "stdout",
     "output_type": "stream",
     "text": [
      "population['New York':'California'] : \n",
      " Series([], dtype: int64)\n",
      "\n",
      "\n",
      "population['New York':'Illinois'] : \n",
      " New York    19651127\n",
      "Florida     19552860\n",
      "Illinois    12882135\n",
      "dtype: int64\n",
      "\n",
      "\n",
      "population[:3] : \n",
      " California    38332521\n",
      "Texas         26448193\n",
      "New York      19651127\n",
      "dtype: int64\n",
      "\n",
      "\n",
      "population['California'] : \n",
      " 38332521\n"
     ]
    }
   ],
   "source": [
    "# 키로 슬라이싱\n",
    "print(\"population['New York':'California'] : \\n\",population['New York':'California'])\n",
    "print(\"\\n\")\n",
    "print(\"population['New York':'Illinois'] : \\n\",population['New York':'Illinois'])\n",
    "print(\"\\n\")\n",
    "print(\"population[:3] : \\n\",population[:3])\n",
    "print(\"\\n\")\n",
    "print(\"population['California'] : \\n\",population['California'])"
   ]
  },
  {
   "cell_type": "code",
   "execution_count": null,
   "metadata": {},
   "outputs": [],
   "source": []
  }
 ],
 "metadata": {
  "kernelspec": {
   "display_name": "Python 3",
   "language": "python",
   "name": "python3"
  },
  "language_info": {
   "codemirror_mode": {
    "name": "ipython",
    "version": 3
   },
   "file_extension": ".py",
   "mimetype": "text/x-python",
   "name": "python",
   "nbconvert_exporter": "python",
   "pygments_lexer": "ipython3",
   "version": "3.6.8"
  }
 },
 "nbformat": 4,
 "nbformat_minor": 2
}
