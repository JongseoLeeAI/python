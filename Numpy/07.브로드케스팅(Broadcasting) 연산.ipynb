{
 "cells": [
  {
   "cell_type": "markdown",
   "metadata": {},
   "source": [
    "# 브로드케스팅 연산"
   ]
  },
  {
   "cell_type": "markdown",
   "metadata": {},
   "source": [
    "- **브로드케스팅(Broadcasting)**\n",
    "  - 벡터화 연산의 또 다른 방법\n",
    "  - 다른 크기의 배열에 이항 UFuncs(사칙연산 등)를 적용하기 위한 규칙\n",
    "  - **서로 다른 크기의 배열에서 수행 가능**"
   ]
  },
  {
   "cell_type": "code",
   "execution_count": 15,
   "metadata": {},
   "outputs": [],
   "source": [
    "import numpy as np"
   ]
  },
  {
   "cell_type": "markdown",
   "metadata": {},
   "source": [
    "###### 예) 1차원 배열 덧셈"
   ]
  },
  {
   "cell_type": "code",
   "execution_count": 16,
   "metadata": {},
   "outputs": [
    {
     "name": "stdout",
     "output_type": "stream",
     "text": [
      "[5 6 7]\n"
     ]
    }
   ],
   "source": [
    "a = np.array([1,2,3])\n",
    "b = np.array([4,4,4])\n",
    "print(a+b)"
   ]
  },
  {
   "cell_type": "markdown",
   "metadata": {},
   "source": [
    "###### 예) 1차원 배열 , 스칼라 덧셈"
   ]
  },
  {
   "cell_type": "code",
   "execution_count": 17,
   "metadata": {},
   "outputs": [
    {
     "name": "stdout",
     "output_type": "stream",
     "text": [
      "6\n",
      "<class 'int'>\n",
      "[7 8 9]\n"
     ]
    }
   ],
   "source": [
    "# 브로드케스팅을 이용한 덧셈연산\n",
    "n = 6\n",
    "print(n)\n",
    "print(type(n))\n",
    "# 배열 + 스칼라\n",
    "print(a + n)"
   ]
  },
  {
   "cell_type": "markdown",
   "metadata": {},
   "source": [
    "* n=6 을 덧셈을 하기 위하여 a와 같은 크기의 배열로 늘려서 연산을 하도록 함\n",
    "* n=[6,6,6] 으로 늘린다고 생각하며 됨"
   ]
  },
  {
   "cell_type": "markdown",
   "metadata": {},
   "source": [
    "### 브로드케스팅 규칙\n",
    "- 규칙 1. 두 배열의 차원수가 다르면 더 작은 수의 차원을 가진 배열 형상의 앞쪽을 1로 채움\n",
    "  - (2,3,4) 배열과 (5,6) 배열이 있으면 (5,6)배열의 왼쪽에 1을 채워서 **(1,5,6)으로 바꾸고 연산함**\n",
    "  - 차원을 늘리는 방법\n",
    "    1. reshape 이용\n",
    "    2. np.newaxis 이용 => arr[np.newaxis, : ]\n"
   ]
  },
  {
   "cell_type": "markdown",
   "metadata": {},
   "source": [
    "- 규칙 2. 두 배열의 형상이 어떤 차원에서도 일치 하지 않는다면 해당 차원의 형상이 1인 배열이 다른 형상과 일치하도록 늘어남 \n",
    "  - (2,3,4) 배열과 (1,3,4) 배열이 있으면 첫번째 차원이 다르기 때문에 형상이 1인 두번째 배열을 첫번째 배열의 형상인 2로 **(2,3,4)로 늘림**\n",
    " "
   ]
  },
  {
   "cell_type": "markdown",
   "metadata": {},
   "source": [
    "- 규칙 3. 임의의 차원에서 크기가 일치하지 않고 1도 아니라면 오류가 발생"
   ]
  },
  {
   "cell_type": "markdown",
   "metadata": {},
   "source": [
    "###### 예) 규칙 1, 2를 적용한 결과 (배열 1개만 변형)"
   ]
  },
  {
   "cell_type": "code",
   "execution_count": 18,
   "metadata": {
    "scrolled": true
   },
   "outputs": [
    {
     "name": "stdout",
     "output_type": "stream",
     "text": [
      "M\n",
      " [[1. 1. 1.]\n",
      " [1. 1. 1.]]\n",
      "a\n",
      " [0 1 2]\n",
      "\n",
      "\n",
      "M shape :  (2, 3)\n",
      "a shape :  (3,)\n"
     ]
    }
   ],
   "source": [
    "M = np.ones((2, 3))\n",
    "a = np.arange(3)\n",
    "print(\"M\\n\",M)\n",
    "print(\"a\\n\",a)\n",
    "print(\"\\n\")\n",
    "print(\"M shape : \",M.shape)\n",
    "print(\"a shape : \",a.shape)"
   ]
  },
  {
   "cell_type": "markdown",
   "metadata": {},
   "source": [
    "- a shape 이 더 작은 차원을 가지고 있기 때문에 앞쪽을 1로 채움(reshape 이용) <=**규칙1 적용**\n",
    "  - shape (3,) -> shaep (1,3)"
   ]
  },
  {
   "cell_type": "code",
   "execution_count": 19,
   "metadata": {},
   "outputs": [
    {
     "name": "stdout",
     "output_type": "stream",
     "text": [
      "[[0 1 2]]\n",
      "a_1 shape :  (1, 3)\n"
     ]
    }
   ],
   "source": [
    "a_1 = a.reshape([1,3])\n",
    "print(a_1)\n",
    "print(\"a_1 shape : \",a_1.shape)"
   ]
  },
  {
   "cell_type": "markdown",
   "metadata": {},
   "source": [
    "* np.newaxis 사용하여 차원 늘릴 수 있음 <= **규칙1적용시**"
   ]
  },
  {
   "cell_type": "code",
   "execution_count": 20,
   "metadata": {},
   "outputs": [
    {
     "name": "stdout",
     "output_type": "stream",
     "text": [
      "[[0 1 2]]\n",
      "a_newaxis ndim :  2\n",
      "a_newaxis shape :  (1, 3)\n"
     ]
    }
   ],
   "source": [
    "a_newaxis = a[np.newaxis, : ]\n",
    "print(a_newaxis)\n",
    "print(\"a_newaxis ndim : \",a_newaxis.ndim)\n",
    "print(\"a_newaxis shape : \",a_newaxis.shape)"
   ]
  },
  {
   "cell_type": "markdown",
   "metadata": {},
   "source": [
    "* 첫번째 차원이 2,1로 다르기 때문에 차원을 일치하도록 동일한 값으로 늘림 <= **규칙2 적용**\n",
    "  * shape(1,3) -> shape(2,3)"
   ]
  },
  {
   "cell_type": "code",
   "execution_count": 21,
   "metadata": {},
   "outputs": [
    {
     "name": "stdout",
     "output_type": "stream",
     "text": [
      "[[0 1 2]\n",
      " [0 1 2]]\n",
      "a_1_2 shape :  (2, 3)\n"
     ]
    }
   ],
   "source": [
    "a_1_2 = np.concatenate([a_1,a_1])\n",
    "print(a_1_2)\n",
    "print(\"a_1_2 shape : \",a_1_2.shape)"
   ]
  },
  {
   "cell_type": "code",
   "execution_count": 22,
   "metadata": {},
   "outputs": [
    {
     "name": "stdout",
     "output_type": "stream",
     "text": [
      "[[1. 2. 3.]\n",
      " [1. 2. 3.]]\n"
     ]
    }
   ],
   "source": [
    "# 직접 바꾼 형태의 배열로 연산한 결과\n",
    "print(M + a_1_2)"
   ]
  },
  {
   "cell_type": "code",
   "execution_count": 23,
   "metadata": {},
   "outputs": [
    {
     "name": "stdout",
     "output_type": "stream",
     "text": [
      "[[1. 2. 3.]\n",
      " [1. 2. 3.]]\n"
     ]
    }
   ],
   "source": [
    "# 브로드케스팅 적용된 결과\n",
    "print(M+a)"
   ]
  },
  {
   "cell_type": "code",
   "execution_count": null,
   "metadata": {},
   "outputs": [],
   "source": []
  },
  {
   "cell_type": "code",
   "execution_count": null,
   "metadata": {},
   "outputs": [],
   "source": []
  },
  {
   "cell_type": "code",
   "execution_count": null,
   "metadata": {},
   "outputs": [],
   "source": []
  },
  {
   "cell_type": "markdown",
   "metadata": {},
   "source": [
    "###### 예) 규칙 1, 2를 적용한 결과 (배열 2개 모두 변형)"
   ]
  },
  {
   "cell_type": "code",
   "execution_count": 24,
   "metadata": {},
   "outputs": [
    {
     "name": "stdout",
     "output_type": "stream",
     "text": [
      "arr1\n",
      " [[0]\n",
      " [1]\n",
      " [2]]\n",
      "arr2\n",
      " [0 1 2]\n",
      "\n",
      "\n",
      "arr1 shape :  (3, 1)\n",
      "arr2 shape :  (3,)\n"
     ]
    }
   ],
   "source": [
    "arr1 = np.arange(3).reshape([3,1])\n",
    "arr2 = np.arange(3)\n",
    "print(\"arr1\\n\",arr1)\n",
    "print(\"arr2\\n\",arr2)\n",
    "print(\"\\n\")\n",
    "print(\"arr1 shape : \",arr1.shape)\n",
    "print(\"arr2 shape : \",arr2.shape)"
   ]
  },
  {
   "cell_type": "markdown",
   "metadata": {},
   "source": [
    "- arr2 이 더 작은 차원을 가지고 있기 때문에 앞쪽을 1로 채움(reshape 이용) <=**규칙1 적용**\n",
    "  - shape (3,) -> shaep (1,3)"
   ]
  },
  {
   "cell_type": "code",
   "execution_count": 25,
   "metadata": {},
   "outputs": [
    {
     "name": "stdout",
     "output_type": "stream",
     "text": [
      "[[0 1 2]]\n",
      "shape :  (1, 3)\n"
     ]
    }
   ],
   "source": [
    "arr2_1 = arr2.reshape([1,3])\n",
    "print(arr2_1)\n",
    "print(\"shape : \",arr2_1.shape)"
   ]
  },
  {
   "cell_type": "markdown",
   "metadata": {},
   "source": [
    "* arr1 shape : (3,1)\n",
    "* arr2_1 shape : (1,3)"
   ]
  },
  {
   "cell_type": "markdown",
   "metadata": {},
   "source": [
    "* arr1의 1, arr2_1의 1의 차원을 서로 맞춰 줌 <= **규칙2 적용**\n",
    "  * arr1   : shape(3,1) -> shape(3,3)\n",
    "  * arr2_1 : shape(1,3) -> shape(3,3)\n"
   ]
  },
  {
   "cell_type": "code",
   "execution_count": 26,
   "metadata": {},
   "outputs": [
    {
     "name": "stdout",
     "output_type": "stream",
     "text": [
      "[[0 0 0]\n",
      " [1 1 1]\n",
      " [2 2 2]]\n"
     ]
    }
   ],
   "source": [
    "arr1_2 = np.concatenate([arr1,arr1,arr1],axis=1)\n",
    "print(arr1_2)"
   ]
  },
  {
   "cell_type": "code",
   "execution_count": 27,
   "metadata": {},
   "outputs": [
    {
     "name": "stdout",
     "output_type": "stream",
     "text": [
      "[[0 1 2]\n",
      " [0 1 2]\n",
      " [0 1 2]]\n"
     ]
    }
   ],
   "source": [
    "arr2_1_2 = np.concatenate([arr2_1,arr2_1,arr2_1])\n",
    "print(arr2_1_2)"
   ]
  },
  {
   "cell_type": "code",
   "execution_count": 28,
   "metadata": {},
   "outputs": [
    {
     "name": "stdout",
     "output_type": "stream",
     "text": [
      "[[0 1 2]\n",
      " [1 2 3]\n",
      " [2 3 4]]\n"
     ]
    }
   ],
   "source": [
    "# 직접 바꾼 형태의 배열로 연산한 결과\n",
    "print(arr1_2 + arr2_1_2)"
   ]
  },
  {
   "cell_type": "code",
   "execution_count": 29,
   "metadata": {},
   "outputs": [
    {
     "name": "stdout",
     "output_type": "stream",
     "text": [
      "[[0 1 2]\n",
      " [1 2 3]\n",
      " [2 3 4]]\n"
     ]
    }
   ],
   "source": [
    "# 브로드케스팅 적용된 결과\n",
    "print(arr1 + arr2)"
   ]
  },
  {
   "cell_type": "markdown",
   "metadata": {},
   "source": [
    "###### 예) 규칙 3"
   ]
  },
  {
   "cell_type": "code",
   "execution_count": 30,
   "metadata": {},
   "outputs": [],
   "source": [
    "M = np.ones((3, 2))\n",
    "a = np.arange(3)"
   ]
  },
  {
   "cell_type": "code",
   "execution_count": 31,
   "metadata": {},
   "outputs": [
    {
     "ename": "ValueError",
     "evalue": "operands could not be broadcast together with shapes (3,2) (3,) ",
     "output_type": "error",
     "traceback": [
      "\u001b[0;31m---------------------------------------------------------------------------\u001b[0m",
      "\u001b[0;31mValueError\u001b[0m                                Traceback (most recent call last)",
      "\u001b[0;32m<ipython-input-31-6afed78ec65b>\u001b[0m in \u001b[0;36m<module>\u001b[0;34m()\u001b[0m\n\u001b[0;32m----> 1\u001b[0;31m \u001b[0mprint\u001b[0m\u001b[0;34m(\u001b[0m\u001b[0mM\u001b[0m\u001b[0;34m+\u001b[0m\u001b[0ma\u001b[0m\u001b[0;34m)\u001b[0m\u001b[0;34m\u001b[0m\u001b[0;34m\u001b[0m\u001b[0m\n\u001b[0m",
      "\u001b[0;31mValueError\u001b[0m: operands could not be broadcast together with shapes (3,2) (3,) "
     ]
    }
   ],
   "source": [
    "print(M+a)"
   ]
  },
  {
   "cell_type": "markdown",
   "metadata": {},
   "source": [
    "* 규칙 1 적용 변형 : a shape : (3, ) -> (1,3)\n",
    "* 규칙 2 적용 비교 \n",
    "  * M shape : (3,2)\n",
    "  * a shape : (1,3)\n",
    "  * **M의 shape 가 (3,2)에서 2 이기 때문에 규칙 2의 1이 아닌 값이라 에러가 발생**\n"
   ]
  },
  {
   "cell_type": "markdown",
   "metadata": {},
   "source": [
    "#### 규칙 1을 적용할때 차원을 왼쪽에 늘리는 것이 아니고 오른쪽으로 늘린다면??\n",
    "* **브로드케스팅은 이런 방식으로 동작하지 않음**"
   ]
  },
  {
   "cell_type": "code",
   "execution_count": 32,
   "metadata": {},
   "outputs": [
    {
     "name": "stdout",
     "output_type": "stream",
     "text": [
      "M\n",
      " [[1. 1.]\n",
      " [1. 1.]\n",
      " [1. 1.]]\n",
      "n\n",
      " [0 1 2]\n",
      "\n",
      "\n",
      "M shape :  (3, 2)\n",
      "a shape :  (3,)\n"
     ]
    }
   ],
   "source": [
    "print(\"M\\n\",M)\n",
    "print(\"n\\n\",a)\n",
    "print(\"\\n\")\n",
    "print(\"M shape : \",M.shape)\n",
    "print(\"a shape : \",a.shape)"
   ]
  },
  {
   "cell_type": "markdown",
   "metadata": {},
   "source": [
    "* a 배열의 오른쪽으로 차원을 늘리고 규칙 2를 적용한다면...."
   ]
  },
  {
   "cell_type": "code",
   "execution_count": 33,
   "metadata": {},
   "outputs": [
    {
     "name": "stdout",
     "output_type": "stream",
     "text": [
      "[[0]\n",
      " [1]\n",
      " [2]]\n",
      "a_addRightDim ndim :  2\n",
      "a_addRightDim shape :  (3, 1)\n"
     ]
    }
   ],
   "source": [
    "a_addRightDim = a[ : , np.newaxis]\n",
    "print(a_addRightDim)\n",
    "print(\"a_addRightDim ndim : \",a_addRightDim.ndim)\n",
    "print(\"a_addRightDim shape : \",a_addRightDim.shape)"
   ]
  },
  {
   "cell_type": "code",
   "execution_count": 35,
   "metadata": {},
   "outputs": [
    {
     "name": "stdout",
     "output_type": "stream",
     "text": [
      "[[0 0]\n",
      " [1 1]\n",
      " [2 2]]\n",
      "a_addRightDim_2 ndim :  2\n",
      "a_addRightDim_2 shape :  (3, 2)\n"
     ]
    }
   ],
   "source": [
    "# 규칙 2를 적용하여 1인 차원을 다른 배열의 차원과 동일하게 해주기 위하여 데이터 늘림\n",
    "a_addRightDim_2 = np.hstack([a_addRightDim, a_addRightDim])\n",
    "print(a_addRightDim_2)\n",
    "print(\"a_addRightDim_2 ndim : \",a_addRightDim_2.ndim)\n",
    "print(\"a_addRightDim_2 shape : \",a_addRightDim_2.shape)"
   ]
  },
  {
   "cell_type": "code",
   "execution_count": 36,
   "metadata": {},
   "outputs": [
    {
     "name": "stdout",
     "output_type": "stream",
     "text": [
      "[[1. 1.]\n",
      " [2. 2.]\n",
      " [3. 3.]]\n"
     ]
    }
   ],
   "source": [
    "# 직접 바꾼 형태의 배열로 연산한 결과\n",
    "print(M+a_addRightDim_2)"
   ]
  },
  {
   "cell_type": "code",
   "execution_count": 37,
   "metadata": {},
   "outputs": [
    {
     "name": "stdout",
     "output_type": "stream",
     "text": [
      "[[1. 1.]\n",
      " [2. 2.]\n",
      " [3. 3.]]\n"
     ]
    }
   ],
   "source": [
    "# 브로드케스팅 적용된 결과\n",
    "print(M+a_addRightDim)"
   ]
  },
  {
   "cell_type": "markdown",
   "metadata": {},
   "source": [
    "* 규칙1은 왼쪽으로 차원을 늘리는 것이지만 오늘쪽으로 늘려서 브로드케스팅을 적용 할 수 있으나...\n",
    "* **브로드케스팅의 동작 방식은 아니다**"
   ]
  },
  {
   "cell_type": "code",
   "execution_count": null,
   "metadata": {},
   "outputs": [],
   "source": []
  },
  {
   "cell_type": "code",
   "execution_count": null,
   "metadata": {},
   "outputs": [],
   "source": []
  },
  {
   "cell_type": "markdown",
   "metadata": {},
   "source": [
    "# 브로드케스팅 연산 실전연습\n",
    "###### 예) 배열을 중앙 정렬하기"
   ]
  },
  {
   "cell_type": "code",
   "execution_count": 41,
   "metadata": {},
   "outputs": [
    {
     "name": "stdout",
     "output_type": "stream",
     "text": [
      "[[0.84753058 0.39609429 0.85551586]\n",
      " [0.54510334 0.99852398 0.51105227]\n",
      " [0.12992009 0.18950895 0.47858539]\n",
      " [0.52955211 0.56414674 0.66028312]\n",
      " [0.28805371 0.87931212 0.87063195]\n",
      " [0.71248486 0.10103614 0.39511667]\n",
      " [0.82871027 0.22180642 0.94396353]\n",
      " [0.41711232 0.58652581 0.15539907]\n",
      " [0.33286357 0.07589971 0.60077712]\n",
      " [0.33597395 0.67242758 0.17556699]]\n",
      "2\n",
      "(10, 3)\n"
     ]
    }
   ],
   "source": [
    "X = np.random.random((10, 3))\n",
    "print(X)\n",
    "print(X.ndim)\n",
    "print(X.shape)"
   ]
  },
  {
   "cell_type": "code",
   "execution_count": 43,
   "metadata": {},
   "outputs": [
    {
     "name": "stdout",
     "output_type": "stream",
     "text": [
      "[0.49673048 0.46852817 0.5646892 ]\n",
      "1\n",
      "(3,)\n"
     ]
    }
   ],
   "source": [
    "Xmean = X.mean(0)\n",
    "print(Xmean)\n",
    "print(Xmean.ndim)\n",
    "print(Xmean.shape)"
   ]
  },
  {
   "cell_type": "code",
   "execution_count": 44,
   "metadata": {},
   "outputs": [],
   "source": [
    "# 브로드케스팅됨\n",
    "X_centered = X - Xmean\n",
    "# (10,3)\n",
    "# (3,)   ->   (1,3)   ->   (10,3)\n",
    "#       규칙1         규칙2"
   ]
  },
  {
   "cell_type": "code",
   "execution_count": 48,
   "metadata": {},
   "outputs": [
    {
     "name": "stdout",
     "output_type": "stream",
     "text": [
      "[-5.55111512e-17 -1.11022302e-17  0.00000000e+00]\n"
     ]
    }
   ],
   "source": [
    "print(X_centered.mean(0))"
   ]
  },
  {
   "cell_type": "code",
   "execution_count": null,
   "metadata": {},
   "outputs": [],
   "source": []
  }
 ],
 "metadata": {
  "kernelspec": {
   "display_name": "Python 3",
   "language": "python",
   "name": "python3"
  },
  "language_info": {
   "codemirror_mode": {
    "name": "ipython",
    "version": 3
   },
   "file_extension": ".py",
   "mimetype": "text/x-python",
   "name": "python",
   "nbconvert_exporter": "python",
   "pygments_lexer": "ipython3",
   "version": "3.6.8"
  }
 },
 "nbformat": 4,
 "nbformat_minor": 2
}
