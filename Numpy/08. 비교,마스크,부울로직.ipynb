{
 "cells": [
  {
   "cell_type": "markdown",
   "metadata": {},
   "source": [
    "\n",
    "# 비교, 마스크, 부울 로직(Comparisons, Masks and Boolean Logic)"
   ]
  },
  {
   "cell_type": "markdown",
   "metadata": {},
   "source": [
    "- **목적**\n",
    "  - 배열내의 값을 검사하고 조작하는데 부울 마스크를 사용함\n",
    "  - 마스킹은 특정 기준에 따라 배열 값을 추출, 계산, 조작 함\n",
    "  - 이상치를 제거 할 수 있음\n",
    "\n",
    "#### [비교 연산자 UFuncs]\n",
    "\n",
    "| Operator\t    | Equivalent ufunc    |\n",
    "|---------------|---------------------|\n",
    "|``==``         |``np.equal``         |\n",
    "|``!=``         |``np.not_equal``     |\n",
    "|``<``          |``np.less``          |\n",
    "|``<=``         |``np.less_equal``    |\n",
    "|``>``          |``np.greater``       |\n",
    "|``>=``         |``np.greater_equal`` |\n",
    "\n",
    "#### [요소수 세기 UFuncs]\n",
    "- np.count_nonzero\n",
    "- np.sum\n",
    "- np.any\n",
    "- np.all\n",
    "\n",
    "#### [비트단위의 부울 연산자 UFuncs]\n",
    "\n",
    "| Operator\t    | Equivalent ufunc    |\n",
    "|---------------|---------------------|\n",
    "|``&``          |``np.bitwise_and``   |\n",
    "|&#124;         |``np.bitwise_or``    |\n",
    "|``^``          |``np.bitwise_xor``   |\n",
    "|``~``          |``np.bitwise_not``   |\n",
    "\n",
    "#### [마스크로서 부울 배열]\n",
    "- 마스킹연산\n",
    "\n",
    "\n",
    "#### [and / or (키워드) 와 & / | (비트연산자) 의 차이 \n",
    "- and/or 키워드는 전체 객체의 참과 거짓을 다룸\n",
    "- & / | 비트연산자는 각 객체의 비트를 참조 "
   ]
  },
  {
   "cell_type": "code",
   "execution_count": null,
   "metadata": {},
   "outputs": [],
   "source": []
  },
  {
   "cell_type": "code",
   "execution_count": null,
   "metadata": {},
   "outputs": [],
   "source": []
  },
  {
   "cell_type": "code",
   "execution_count": null,
   "metadata": {},
   "outputs": [],
   "source": []
  },
  {
   "cell_type": "markdown",
   "metadata": {},
   "source": [
    "###### 예) 시애틀 2014년 비온 날 세기 "
   ]
  },
  {
   "cell_type": "code",
   "execution_count": 1,
   "metadata": {},
   "outputs": [
    {
     "data": {
      "text/plain": [
       "(365,)"
      ]
     },
     "execution_count": 1,
     "metadata": {},
     "output_type": "execute_result"
    }
   ],
   "source": [
    "import numpy as np\n",
    "import pandas as pd\n",
    "\n",
    "# use pandas to extract rainfall inches as a NumPy array\n",
    "rainfall = pd.read_csv('data/Seattle2014.csv')['PRCP'].values\n",
    "inches = rainfall / 254.0  # 1/10mm -> inches\n",
    "inches.shape"
   ]
  },
  {
   "cell_type": "code",
   "execution_count": 11,
   "metadata": {},
   "outputs": [
    {
     "name": "stdout",
     "output_type": "stream",
     "text": [
      "[  0  41  15   0   0   3 122  97  58  43 213  15   0   0   0   0   0   0\n",
      "   0   0   0   5   0   0   0   0   0  89 216   0  23  20   0   0   0   0\n",
      "   0   0  51   5 183 170  46  18  94 117 264 145 152  10  30  28  25  61\n",
      " 130   3   0   0   0   5 191 107 165 467  30   0 323  43 188   0   0   5\n",
      "  69  81 277   3   0   5   0   0   0   0   0  41  36   3 221 140   0   0\n",
      "   0   0  25   0  46   0   0  46   0   0   0   0   0   0   5 109 185   0\n",
      " 137   0  51 142  89 124   0  33  69   0   0   0   0   0 333 160  51   0\n",
      "   0 137  20   5   0   0   0   0   0   0   0   0   0   0   0   0  38   0\n",
      "  56   0   0   0   0   0   0   0   0   0   0   0   0   0   0   0   0   0\n",
      "  18  64   0   5  36  13   0   8   3   0   0   0   0   0   0  18  23   0\n",
      "   0   0   0   0   0   0   0   0   0   0   0   0   0   0   0   0   0   0\n",
      "   0   0   0   0   3 193   0   0   0   0   0   0   0   0   0   5   0   0\n",
      "   0   0   0   0   0   0   5 127 216   0  10   0   0   0   0   0   0   0\n",
      "   0   0   0   0   0   0   0  84  13   0  30   0   0   0   0   0   0   0\n",
      "   0   0   0   0   0   0   0   5   3   0   0   0   3 183 203  43  89   0\n",
      "   0   8   0   0   0   0   0   0   0   0   0   0   3  74   0  76  71  86\n",
      "   0  33 150   0 117  10 320  94  41  61  15   8 127   5 254 170   0  18\n",
      " 109  41  48  41   0   0  51   0   0   0   0   0   0   0   0   0   0  36\n",
      " 152   5 119  13 183   3  33 343  36   0   0   0   0   8  30  74   0  91\n",
      "  99 130  69   0   0   0   0   0  28 130  30 196   0   0 206  53   0   0\n",
      "  33  41   0   0   0]\n",
      "\n",
      "\n",
      "[0.         0.16141732 0.05905512 0.         0.         0.01181102\n",
      " 0.48031496 0.38188976 0.22834646 0.16929134 0.83858268 0.05905512\n",
      " 0.         0.         0.         0.         0.         0.\n",
      " 0.         0.         0.         0.01968504 0.         0.\n",
      " 0.         0.         0.         0.3503937  0.8503937  0.\n",
      " 0.09055118 0.07874016 0.         0.         0.         0.\n",
      " 0.         0.         0.2007874  0.01968504 0.72047244 0.66929134\n",
      " 0.18110236 0.07086614 0.37007874 0.46062992 1.03937008 0.57086614\n",
      " 0.5984252  0.03937008 0.11811024 0.11023622 0.0984252  0.24015748\n",
      " 0.51181102 0.01181102 0.         0.         0.         0.01968504\n",
      " 0.7519685  0.42125984 0.6496063  1.83858268 0.11811024 0.\n",
      " 1.27165354 0.16929134 0.74015748 0.         0.         0.01968504\n",
      " 0.27165354 0.31889764 1.09055118 0.01181102 0.         0.01968504\n",
      " 0.         0.         0.         0.         0.         0.16141732\n",
      " 0.14173228 0.01181102 0.87007874 0.5511811  0.         0.\n",
      " 0.         0.         0.0984252  0.         0.18110236 0.\n",
      " 0.         0.18110236 0.         0.         0.         0.\n",
      " 0.         0.         0.01968504 0.42913386 0.72834646 0.\n",
      " 0.53937008 0.         0.2007874  0.55905512 0.3503937  0.48818898\n",
      " 0.         0.12992126 0.27165354 0.         0.         0.\n",
      " 0.         0.         1.31102362 0.62992126 0.2007874  0.\n",
      " 0.         0.53937008 0.07874016 0.01968504 0.         0.\n",
      " 0.         0.         0.         0.         0.         0.\n",
      " 0.         0.         0.         0.         0.1496063  0.\n",
      " 0.22047244 0.         0.         0.         0.         0.\n",
      " 0.         0.         0.         0.         0.         0.\n",
      " 0.         0.         0.         0.         0.         0.\n",
      " 0.07086614 0.2519685  0.         0.01968504 0.14173228 0.0511811\n",
      " 0.         0.03149606 0.01181102 0.         0.         0.\n",
      " 0.         0.         0.         0.07086614 0.09055118 0.\n",
      " 0.         0.         0.         0.         0.         0.\n",
      " 0.         0.         0.         0.         0.         0.\n",
      " 0.         0.         0.         0.         0.         0.\n",
      " 0.         0.         0.         0.         0.01181102 0.75984252\n",
      " 0.         0.         0.         0.         0.         0.\n",
      " 0.         0.         0.         0.01968504 0.         0.\n",
      " 0.         0.         0.         0.         0.         0.\n",
      " 0.01968504 0.5        0.8503937  0.         0.03937008 0.\n",
      " 0.         0.         0.         0.         0.         0.\n",
      " 0.         0.         0.         0.         0.         0.\n",
      " 0.         0.33070866 0.0511811  0.         0.11811024 0.\n",
      " 0.         0.         0.         0.         0.         0.\n",
      " 0.         0.         0.         0.         0.         0.\n",
      " 0.         0.01968504 0.01181102 0.         0.         0.\n",
      " 0.01181102 0.72047244 0.7992126  0.16929134 0.3503937  0.\n",
      " 0.         0.03149606 0.         0.         0.         0.\n",
      " 0.         0.         0.         0.         0.         0.\n",
      " 0.01181102 0.29133858 0.         0.2992126  0.27952756 0.33858268\n",
      " 0.         0.12992126 0.59055118 0.         0.46062992 0.03937008\n",
      " 1.25984252 0.37007874 0.16141732 0.24015748 0.05905512 0.03149606\n",
      " 0.5        0.01968504 1.         0.66929134 0.         0.07086614\n",
      " 0.42913386 0.16141732 0.18897638 0.16141732 0.         0.\n",
      " 0.2007874  0.         0.         0.         0.         0.\n",
      " 0.         0.         0.         0.         0.         0.14173228\n",
      " 0.5984252  0.01968504 0.46850394 0.0511811  0.72047244 0.01181102\n",
      " 0.12992126 1.3503937  0.14173228 0.         0.         0.\n",
      " 0.         0.03149606 0.11811024 0.29133858 0.         0.35826772\n",
      " 0.38976378 0.51181102 0.27165354 0.         0.         0.\n",
      " 0.         0.         0.11023622 0.51181102 0.11811024 0.77165354\n",
      " 0.         0.         0.81102362 0.20866142 0.         0.\n",
      " 0.12992126 0.16141732 0.         0.         0.        ]\n"
     ]
    }
   ],
   "source": [
    "print(rainfall)\n",
    "print(\"\\n\")\n",
    "print(inches)"
   ]
  },
  {
   "cell_type": "markdown",
   "metadata": {},
   "source": [
    "* 비가 내린 양 히스토그램"
   ]
  },
  {
   "cell_type": "code",
   "execution_count": 12,
   "metadata": {},
   "outputs": [
    {
     "data": {
      "text/plain": [
       "(array([245.,  14.,  13.,  17.,   8.,   6.,   5.,   6.,   4.,   3.,   7.,\n",
       "          6.,   3.,   3.,   3.,   4.,   4.,   2.,   4.,   0.,   0.,   1.,\n",
       "          1.,   1.,   0.,   0.,   0.,   2.,   1.,   1.,   0.,   0.,   0.,\n",
       "          0.,   0.,   0.,   0.,   0.,   0.,   1.]),\n",
       " array([0.        , 0.04596457, 0.09192913, 0.1378937 , 0.18385827,\n",
       "        0.22982283, 0.2757874 , 0.32175197, 0.36771654, 0.4136811 ,\n",
       "        0.45964567, 0.50561024, 0.5515748 , 0.59753937, 0.64350394,\n",
       "        0.6894685 , 0.73543307, 0.78139764, 0.8273622 , 0.87332677,\n",
       "        0.91929134, 0.96525591, 1.01122047, 1.05718504, 1.10314961,\n",
       "        1.14911417, 1.19507874, 1.24104331, 1.28700787, 1.33297244,\n",
       "        1.37893701, 1.42490157, 1.47086614, 1.51683071, 1.56279528,\n",
       "        1.60875984, 1.65472441, 1.70068898, 1.74665354, 1.79261811,\n",
       "        1.83858268]),\n",
       " <a list of 40 Patch objects>)"
      ]
     },
     "execution_count": 12,
     "metadata": {},
     "output_type": "execute_result"
    },
    {
     "data": {
      "image/png": "[encoded data removed]",
      "text/plain": [
       "<Figure size 432x288 with 1 Axes>"
      ]
     },
     "metadata": {},
     "output_type": "display_data"
    }
   ],
   "source": [
    "%matplotlib inline\n",
    "import matplotlib.pyplot as plt\n",
    "import seaborn; seaborn.set()  # set plot styles\n",
    "plt.hist(inches,40)"
   ]
  },
  {
   "cell_type": "markdown",
   "metadata": {},
   "source": [
    "* 히스토그램에서 비가 얼마나 내리는지 알수 있지만 비가 몇일 오는지 알수가 없음"
   ]
  },
  {
   "cell_type": "markdown",
   "metadata": {},
   "source": [
    "* 365일 데이터를 루프를 돌면서 비가 내린날을 카운트를 하는것은 사실상 비효율적이며 표본이 많아질경우 비효율적임\n",
    "* 그래서 UFuncs 를 이용하여 비교 할 수 있음 => 마스킹"
   ]
  },
  {
   "cell_type": "markdown",
   "metadata": {},
   "source": [
    "* **UFuncs를 이용하여 비교 연산자 ( < : 보다 작음 , > : 보다 큼 )를 비교 결과는 항상 Boolean 타입 임**"
   ]
  },
  {
   "cell_type": "markdown",
   "metadata": {},
   "source": [
    "###### 예) 비교 연산 1"
   ]
  },
  {
   "cell_type": "code",
   "execution_count": 13,
   "metadata": {},
   "outputs": [
    {
     "name": "stdout",
     "output_type": "stream",
     "text": [
      "[ True  True False False False]\n"
     ]
    }
   ],
   "source": [
    "# 비교 연산을 위한 배열 선언\n",
    "x = np.array([1,2,3,4,5])\n",
    "# UFuncs를 이용한 비교 연산\n",
    "print(x<3)"
   ]
  },
  {
   "cell_type": "markdown",
   "metadata": {},
   "source": [
    "* 비교 연산자를 사용한 결과는 Boolean 타입의 배열이 나옴"
   ]
  },
  {
   "cell_type": "markdown",
   "metadata": {},
   "source": [
    "###### 예) 비교 연산 2"
   ]
  },
  {
   "cell_type": "code",
   "execution_count": 14,
   "metadata": {},
   "outputs": [
    {
     "name": "stdout",
     "output_type": "stream",
     "text": [
      "a :  [ 2  4  6  8 10]\n",
      "b :  [ 1  4  9 16 25]\n"
     ]
    }
   ],
   "source": [
    "# 두 배열의 항목 비교\n",
    "a = x * 2\n",
    "b = x ** 2\n",
    "print(\"a : \", a)\n",
    "print(\"b : \", b)"
   ]
  },
  {
   "cell_type": "code",
   "execution_count": 15,
   "metadata": {},
   "outputs": [
    {
     "name": "stdout",
     "output_type": "stream",
     "text": [
      "[False  True False False False]\n"
     ]
    }
   ],
   "source": [
    "# For(루프)문을 이용하여 각각의 데이터를 접근하여 비교하지 않고 UFuncs를 이용하여 비교 연산을 함\n",
    "print(a == b)"
   ]
  },
  {
   "cell_type": "markdown",
   "metadata": {},
   "source": [
    "* a, b 배열의 1번째 인덱스의 값이 4로 동일 하기 때문에 Boolean 형 결과 배열의 1번째 인덱스만 True가 됨"
   ]
  },
  {
   "cell_type": "markdown",
   "metadata": {},
   "source": [
    "## [비교 연산자 UFuncs]\n",
    "\n",
    "| Operator\t    | Equivalent ufunc    |\n",
    "|---------------|---------------------|\n",
    "|``==``         |``np.equal``         |\n",
    "|``!=``         |``np.not_equal``     |\n",
    "|``<``          |``np.less``          |\n",
    "|``<=``         |``np.less_equal``    |\n",
    "|``>``          |``np.greater``       |\n",
    "|``>=``         |``np.greater_equal`` |\n",
    "\n",
    "## [요소 수 세기 UFuncs]\n",
    "- np.count_nonzero\n",
    "- np.sum\n",
    "- np.any\n",
    "- np.all"
   ]
  },
  {
   "cell_type": "markdown",
   "metadata": {},
   "source": [
    "###### 예) 비교연산 3"
   ]
  },
  {
   "cell_type": "code",
   "execution_count": 19,
   "metadata": {},
   "outputs": [
    {
     "name": "stdout",
     "output_type": "stream",
     "text": [
      "<class 'mtrand.RandomState'>\n",
      "[[5 0 3 3]\n",
      " [7 9 3 5]\n",
      " [2 4 7 6]]\n"
     ]
    }
   ],
   "source": [
    "rng = np.random.RandomState(0)\n",
    "print(type(rng))\n",
    "\n",
    "x = rng.randint(10, size=(3, 4))\n",
    "print(x)"
   ]
  },
  {
   "cell_type": "code",
   "execution_count": 20,
   "metadata": {},
   "outputs": [
    {
     "name": "stdout",
     "output_type": "stream",
     "text": [
      "[[ True  True  True  True]\n",
      " [False False  True  True]\n",
      " [ True  True False False]]\n"
     ]
    }
   ],
   "source": [
    "# 2차원 배열의 비교 연산\n",
    "print( x < 6)"
   ]
  },
  {
   "cell_type": "markdown",
   "metadata": {},
   "source": [
    "* 결과는 비교 대상 배열의 형태로 Boolean 형태로 나옴"
   ]
  },
  {
   "cell_type": "markdown",
   "metadata": {},
   "source": [
    "### Boolean 배열에서 True의 개수를 세는 방법 : np.count_nonzero, np.sum 사용\n",
    "- `numpy.count_nonzero(a, axis=None)`\n",
    "  - a : Boolean 배열\n",
    "  - True : 1, False : 0의 값을 가지고 있음\n",
    "  - np.count_nonzero 는 0이 아닌 값을 셈\n",
    "- `numpy.sum(a, axis=None, dtype=None, out=None, keepdims=<no value>, initial=<no value>)`"
   ]
  },
  {
   "cell_type": "code",
   "execution_count": 26,
   "metadata": {},
   "outputs": [
    {
     "name": "stdout",
     "output_type": "stream",
     "text": [
      "True value :  1\n",
      "False value :  0\n"
     ]
    }
   ],
   "source": [
    "print(\"True value : \",True.real)\n",
    "print(\"False value : \",False.real)"
   ]
  },
  {
   "cell_type": "markdown",
   "metadata": {},
   "source": [
    "###### 예) Boolean 배열에서  True 개수 확인 (np.count_nonzero 사용)"
   ]
  },
  {
   "cell_type": "code",
   "execution_count": 21,
   "metadata": {},
   "outputs": [
    {
     "name": "stdout",
     "output_type": "stream",
     "text": [
      "[[5 0 3 3]\n",
      " [7 9 3 5]\n",
      " [2 4 7 6]]\n",
      "\n",
      "\n",
      "[[ True  True  True  True]\n",
      " [False False  True  True]\n",
      " [ True  True False False]]\n"
     ]
    }
   ],
   "source": [
    "print(x)\n",
    "print(\"\\n\")\n",
    "x_bool = x < 6\n",
    "print(x_bool)"
   ]
  },
  {
   "cell_type": "code",
   "execution_count": 27,
   "metadata": {},
   "outputs": [
    {
     "name": "stdout",
     "output_type": "stream",
     "text": [
      "True count :  8\n"
     ]
    }
   ],
   "source": [
    "print(\"True count : \",np.count_nonzero(x_bool))"
   ]
  },
  {
   "cell_type": "markdown",
   "metadata": {},
   "source": [
    "###### 예) Boolean 배열에서  True 개수 확인 (np.sum 사용)"
   ]
  },
  {
   "cell_type": "code",
   "execution_count": 34,
   "metadata": {},
   "outputs": [
    {
     "name": "stdout",
     "output_type": "stream",
     "text": [
      "[[ True  True  True  True]\n",
      " [False False  True  True]\n",
      " [ True  True False False]]\n"
     ]
    },
    {
     "data": {
      "text/plain": [
       "8"
      ]
     },
     "execution_count": 34,
     "metadata": {},
     "output_type": "execute_result"
    }
   ],
   "source": [
    "print(x_bool)\n",
    "\n",
    "# boolean 배열의 총합을 구하는 것임, True(1) False(0) 으로 데이터가 구성되어 있기 때문에 True의 갯수로 판단 할 수 있음\n",
    "print(\"Sum Value of True \",np.sum(x_bool)"
   ]
  },
  {
   "cell_type": "markdown",
   "metadata": {},
   "source": [
    "* np.sum(a,axis=0) : 배열의 열의 True 개수 확인\n",
    "* np.sum(a,axis=1) : 배열의 행의 True 개수 확인"
   ]
  },
  {
   "cell_type": "code",
   "execution_count": 36,
   "metadata": {},
   "outputs": [
    {
     "name": "stdout",
     "output_type": "stream",
     "text": [
      "열(axis=0)의 True 수 :  [2 2 2 2]\n",
      "행(axis=1)의 True 수 :  [4 2 2]\n"
     ]
    }
   ],
   "source": [
    "print(\"열(axis=0)의 True 수 : \",np.sum(x_bool,axis=0))\n",
    "print(\"행(axis=1)의 True 수 : \",np.sum(x_bool,axis=1))"
   ]
  },
  {
   "cell_type": "markdown",
   "metadata": {},
   "source": [
    "### 그 밖의 요소 수 세기\n",
    "- np.any\n",
    "  - `numpy.any(a, axis=None, out=None, keepdims=<no value>)`\n",
    "    - a : Boolean 배열\n",
    "    - True 요소가 하나라도 있는지 알려주며 결과는 Boolean 값(True, False)\n",
    "- np.all\n",
    "  - `numpy.all(a, axis=None, out=None, keepdims=<no value>)`\n",
    "    - a : Boolean 배열\n",
    "    - 모든 요소가 True 인지 알려주며, 결과는 Boolean 값(True, False)\n",
    "- axis 파라미터를 이용하여 열(axis=0)과 행(axis=1)의 True 요소를 확인 가능"
   ]
  },
  {
   "cell_type": "markdown",
   "metadata": {},
   "source": [
    "###### 예) np.any, np.all"
   ]
  },
  {
   "cell_type": "code",
   "execution_count": 45,
   "metadata": {},
   "outputs": [
    {
     "name": "stdout",
     "output_type": "stream",
     "text": [
      "[[5 0 3 3]\n",
      " [7 9 3 5]\n",
      " [2 4 7 6]]\n",
      "[[ True  True  True  True]\n",
      " [False False  True  True]\n",
      " [ True  True False False]]\n"
     ]
    }
   ],
   "source": [
    "print(x)\n",
    "print(x_bool)"
   ]
  },
  {
   "cell_type": "code",
   "execution_count": 46,
   "metadata": {},
   "outputs": [
    {
     "name": "stdout",
     "output_type": "stream",
     "text": [
      "True\n"
     ]
    }
   ],
   "source": [
    "print(np.any(x_bool))"
   ]
  },
  {
   "cell_type": "code",
   "execution_count": 47,
   "metadata": {},
   "outputs": [
    {
     "name": "stdout",
     "output_type": "stream",
     "text": [
      "True\n"
     ]
    }
   ],
   "source": [
    "print(np.all(x < 10))"
   ]
  },
  {
   "cell_type": "markdown",
   "metadata": {},
   "source": [
    "* **python 내장 함수의 sum(), any(), all() 함수와 다차원 배열상에서는 다를 수 있으니 주의!!**"
   ]
  },
  {
   "cell_type": "code",
   "execution_count": null,
   "metadata": {},
   "outputs": [],
   "source": []
  },
  {
   "cell_type": "markdown",
   "metadata": {},
   "source": [
    "## [비트단위의 부울 연산자 UFuncs]\n",
    "\n",
    "| Operator\t    | Equivalent ufunc    |\n",
    "|---------------|---------------------|\n",
    "|``&``          |``np.bitwise_and``   |\n",
    "|&#124;         |``np.bitwise_or``    |\n",
    "|``^``          |``np.bitwise_xor``   |\n",
    "|``~``          |``np.bitwise_not``   |"
   ]
  },
  {
   "cell_type": "markdown",
   "metadata": {},
   "source": [
    "* 비트 단위 연산자와 부울 연산자를 이용하여 원하는 조건의 항목을 비교 할 수 있음"
   ]
  },
  {
   "cell_type": "markdown",
   "metadata": {},
   "source": [
    "###### 예) 0.5~1인치 비가 내린 날 세기"
   ]
  },
  {
   "cell_type": "code",
   "execution_count": 49,
   "metadata": {},
   "outputs": [
    {
     "name": "stdout",
     "output_type": "stream",
     "text": [
      "29\n"
     ]
    }
   ],
   "source": [
    "# 조건 A 와 B 모두 만족하는 항목 수 => A and B \n",
    "result = np.sum((inches > 0.5) & (inches < 1.0))\n",
    "print(result)"
   ]
  },
  {
   "cell_type": "code",
   "execution_count": 51,
   "metadata": {},
   "outputs": [
    {
     "name": "stdout",
     "output_type": "stream",
     "text": [
      "29\n"
     ]
    }
   ],
   "source": [
    "# 조건 A가 아니거나 B가 아닌 것들이 아닌것 => not(A or B)\n",
    "result = np.sum(~((inches <= 0.5) | (inches >= 1.0)))\n",
    "print(result)"
   ]
  },
  {
   "cell_type": "markdown",
   "metadata": {},
   "source": [
    "* 위의 두가지 방법은 같은 값을 도출 해내는 집합관계임"
   ]
  },
  {
   "cell_type": "markdown",
   "metadata": {},
   "source": [
    "###### 예) 기타 통계 수치 "
   ]
  },
  {
   "cell_type": "code",
   "execution_count": 52,
   "metadata": {},
   "outputs": [
    {
     "name": "stdout",
     "output_type": "stream",
     "text": [
      "Number days without rain:       215\n",
      "Number days with rain:          150\n",
      "Days with more than 0.5 inches: 37\n",
      "Rainy days with < 0.2 inches  : 75\n"
     ]
    }
   ],
   "source": [
    "print(\"Number days without rain:      \", np.sum(inches == 0))\n",
    "print(\"Number days with rain:         \", np.sum(inches != 0))\n",
    "print(\"Days with more than 0.5 inches:\", np.sum(inches > 0.5))\n",
    "print(\"Rainy days with < 0.2 inches  :\", np.sum((inches > 0) & (inches < 0.2)))"
   ]
  },
  {
   "cell_type": "code",
   "execution_count": null,
   "metadata": {},
   "outputs": [],
   "source": []
  },
  {
   "cell_type": "code",
   "execution_count": null,
   "metadata": {},
   "outputs": [],
   "source": []
  },
  {
   "cell_type": "markdown",
   "metadata": {},
   "source": [
    "## [마스크로서의 부울 배열]"
   ]
  },
  {
   "cell_type": "markdown",
   "metadata": {},
   "source": [
    "* **마스킹 연산** : 부울 배열을 마스크로 사용하여 데이터의 특정 부분 집합을 선택 할 수 있음 \n",
    "* 마스킹 배열과 마스킹 할 배열의 shape은 동일 해야함"
   ]
  },
  {
   "cell_type": "markdown",
   "metadata": {},
   "source": [
    "* step1) 일정 조건을 만족하는 마스크 생성"
   ]
  },
  {
   "cell_type": "code",
   "execution_count": 53,
   "metadata": {},
   "outputs": [
    {
     "name": "stdout",
     "output_type": "stream",
     "text": [
      "[[False  True  True  True]\n",
      " [False False  True False]\n",
      " [ True  True False False]]\n"
     ]
    }
   ],
   "source": [
    "x_mask = x < 5\n",
    "print(x_mask)"
   ]
  },
  {
   "cell_type": "markdown",
   "metadata": {},
   "source": [
    "* step2) 마스크와 동일한 shape 을 가지는 난수 배열 생성"
   ]
  },
  {
   "cell_type": "code",
   "execution_count": 68,
   "metadata": {},
   "outputs": [
    {
     "name": "stdout",
     "output_type": "stream",
     "text": [
      "[[4.17022005e+00 7.20324493e+00 1.14374817e-03 3.02332573e+00]\n",
      " [1.46755891e+00 9.23385948e-01 1.86260211e+00 3.45560727e+00]\n",
      " [3.96767474e+00 5.38816734e+00 4.19194514e+00 6.85219500e+00]]\n"
     ]
    }
   ],
   "source": [
    "np.random.seed(1)\n",
    "arr = np.random.random(size=x_mask.shape) * 10\n",
    "print(arr)"
   ]
  },
  {
   "cell_type": "markdown",
   "metadata": {},
   "source": [
    "* step3) 마스킹 연산을 통해 특정 데이터를 추출할 배열의 인덱스에 마스크를 넣어서 마스킹 연산을 함"
   ]
  },
  {
   "cell_type": "code",
   "execution_count": 69,
   "metadata": {},
   "outputs": [
    {
     "name": "stdout",
     "output_type": "stream",
     "text": [
      "[7.20324493e+00 1.14374817e-03 3.02332573e+00 1.86260211e+00\n",
      " 3.96767474e+00 5.38816734e+00]\n"
     ]
    }
   ],
   "source": [
    "mask_result = arr[x_mask]\n",
    "print(mask_result)"
   ]
  },
  {
   "cell_type": "markdown",
   "metadata": {},
   "source": [
    "* 결과) 마스크에 True로 된 부분의 인덱스의 값을 가져옴"
   ]
  },
  {
   "cell_type": "markdown",
   "metadata": {},
   "source": [
    "- 마스크 값\n",
    "<pre><code>\n",
    "[[  False     *True*      *True*      *True**]\n",
    " [   False      False      *True*       False]\n",
    " [  *True*     *True*       False       False]]\n",
    "</code></pre>\n",
    "- 마스크 할 배열\n",
    "<pre><code>\n",
    "[[  4.17022005e+00   *7.20324493e+00*    *1.14374817e-03*    *3.02332573e+00*]\n",
    " [   1.46755891e+00    9.23385948e-01     *1.86260211e+00*     3.45560727e+00]\n",
    " [  *3.96767474e+00   *5.38816734e+00*     4.19194514e+00      6.85219500e+00]]\n",
    "</code></pre>\n",
    "- 마스킹한 결과\n",
    "<pre><code>\n",
    "[7.20324493e+00 1.14374817e-03 3.02332573e+00 1.86260211e+00\n",
    " 3.96767474e+00 5.38816734e+00]\n",
    " </code></pre>"
   ]
  },
  {
   "cell_type": "markdown",
   "metadata": {},
   "source": [
    "###### 예) 시애틀 비온날 마스킹을 이용한 통계치 계산"
   ]
  },
  {
   "cell_type": "code",
   "execution_count": 77,
   "metadata": {},
   "outputs": [
    {
     "name": "stdout",
     "output_type": "stream",
     "text": [
      "\n",
      "\n",
      "rainy mask : \n",
      " [False  True  True False False  True  True  True  True  True  True  True\n",
      " False False False False False False False False False  True False False\n",
      " False False False  True  True False  True  True False False False False\n",
      " False False  True  True  True  True  True  True  True  True  True  True\n",
      "  True  True  True  True  True  True  True  True False False False  True\n",
      "  True  True  True  True  True False  True  True  True False False  True\n",
      "  True  True  True  True False  True False False False False False  True\n",
      "  True  True  True  True False False False False  True False  True False\n",
      " False  True False False False False False False  True  True  True False\n",
      "  True False  True  True  True  True False  True  True False False False\n",
      " False False  True  True  True False False  True  True  True False False\n",
      " False False False False False False False False False False  True False\n",
      "  True False False False False False False False False False False False\n",
      " False False False False False False  True  True False  True  True  True\n",
      " False  True  True False False False False False False  True  True False\n",
      " False False False False False False False False False False False False\n",
      " False False False False False False False False False False  True  True\n",
      " False False False False False False False False False  True False False\n",
      " False False False False False False  True  True  True False  True False\n",
      " False False False False False False False False False False False False\n",
      " False  True  True False  True False False False False False False False\n",
      " False False False False False False False  True  True False False False\n",
      "  True  True  True  True  True False False  True False False False False\n",
      " False False False False False False  True  True False  True  True  True\n",
      " False  True  True False  True  True  True  True  True  True  True  True\n",
      "  True  True  True  True False  True  True  True  True  True False False\n",
      "  True False False False False False False False False False False  True\n",
      "  True  True  True  True  True  True  True  True  True False False False\n",
      " False  True  True  True False  True  True  True  True False False False\n",
      " False False  True  True  True  True False False  True  True False False\n",
      "  True  True False False False]\n",
      "\n",
      "\n",
      "\n",
      "\n",
      "summer mask : \n",
      " [False False False False False False False False False False False False\n",
      " False False False False False False False False False False False False\n",
      " False False False False False False False False False False False False\n",
      " False False False False False False False False False False False False\n",
      " False False False False False False False False False False False False\n",
      " False False False False False False False False False False False False\n",
      " False False False False False False False False False False False False\n",
      " False False False False False False False False False False False False\n",
      " False False False False False False False False False False False False\n",
      " False False False False False False False False False False False False\n",
      " False False False False False False False False False False False False\n",
      " False False False False False False False False False False False False\n",
      " False False False False False False False False False False False False\n",
      " False False False False False False False False False False False False\n",
      " False False False False False  True  True  True  True  True  True  True\n",
      "  True  True  True  True  True  True  True  True  True  True  True  True\n",
      "  True  True  True  True  True  True  True  True  True  True  True  True\n",
      "  True  True  True  True  True  True  True  True  True  True  True  True\n",
      "  True  True  True  True  True  True  True  True  True  True  True  True\n",
      "  True  True  True  True  True  True  True  True  True  True  True  True\n",
      "  True  True  True  True  True  True  True  True  True  True  True  True\n",
      "  True  True  True  True  True  True  True  True  True  True False False\n",
      " False False False False False False False False False False False False\n",
      " False False False False False False False False False False False False\n",
      " False False False False False False False False False False False False\n",
      " False False False False False False False False False False False False\n",
      " False False False False False False False False False False False False\n",
      " False False False False False False False False False False False False\n",
      " False False False False False False False False False False False False\n",
      " False False False False False False False False False False False False\n",
      " False False False False False]\n",
      "\n",
      "\n",
      "Median precip on rainy days in 2014 (inches):    0.19488188976377951\n",
      "Median precip on summer days in 2014 (inches):   0.0\n",
      "Maximum precip on summer days in 2014 (inches):  0.8503937007874016\n",
      "Median precip on non-summer rainy days (inches): 0.20078740157480315\n"
     ]
    }
   ],
   "source": [
    "# construct a mask of all rainy days\n",
    "rainy = (inches > 0)\n",
    "print(\"\\n\")\n",
    "print(\"rainy mask : \\n\", rainy)\n",
    "print(\"\\n\")\n",
    "# construct a mask of all summer days (June 21st is the 172nd day)\n",
    "days = np.arange(365)\n",
    "summer = (days > 172) & (days < 262)\n",
    "print(\"\\n\")\n",
    "print(\"summer mask : \\n\", summer)\n",
    "print(\"\\n\")\n",
    "\n",
    "# 2014년 평균 강우량 (중앙값)\n",
    "print(\"Median precip on rainy days in 2014 (inches):   \",\n",
    "      np.median(inches[rainy]))\n",
    "# 2014년 여름 평균 강우량 (중앙값)\n",
    "print(\"Median precip on summer days in 2014 (inches):  \",\n",
    "      np.median(inches[summer]))\n",
    "# 2014년 여름 최대 강우량\n",
    "print(\"Maximum precip on summer days in 2014 (inches): \",\n",
    "      np.max(inches[summer]))\n",
    "# 2014년 여름을 제외한 평균 강우량\n",
    "print(\"Median precip on non-summer rainy days (inches):\",\n",
    "      np.median(inches[rainy & ~summer]))"
   ]
  },
  {
   "cell_type": "code",
   "execution_count": null,
   "metadata": {},
   "outputs": [],
   "source": []
  }
 ],
 "metadata": {
  "kernelspec": {
   "display_name": "Python 3",
   "language": "python",
   "name": "python3"
  },
  "language_info": {
   "codemirror_mode": {
    "name": "ipython",
    "version": 3
   },
   "file_extension": ".py",
   "mimetype": "text/x-python",
   "name": "python",
   "nbconvert_exporter": "python",
   "pygments_lexer": "ipython3",
   "version": "3.6.8"
  }
 },
 "nbformat": 4,
 "nbformat_minor": 2
}
