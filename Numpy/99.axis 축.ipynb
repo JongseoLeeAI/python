{
 "cells": [
  {
   "cell_type": "markdown",
   "metadata": {},
   "source": [
    "# axis 축"
   ]
  },
  {
   "cell_type": "code",
   "execution_count": 2,
   "metadata": {},
   "outputs": [],
   "source": [
    "import numpy as np"
   ]
  },
  {
   "cell_type": "markdown",
   "metadata": {},
   "source": [
    "- sum\n",
    "  - `numpy.sum(a, axis=None, dtype=None, out=None, keepdims=<no value>, initial=<no value>)`"
   ]
  },
  {
   "cell_type": "code",
   "execution_count": 3,
   "metadata": {},
   "outputs": [
    {
     "name": "stdout",
     "output_type": "stream",
     "text": [
      "[[[ 0  1  2]\n",
      "  [ 3  4  5]\n",
      "  [ 6  7  8]]\n",
      "\n",
      " [[ 9 10 11]\n",
      "  [12 13 14]\n",
      "  [15 16 17]]\n",
      "\n",
      " [[18 19 20]\n",
      "  [21 22 23]\n",
      "  [24 25 26]]]\n",
      "x ndim :  3\n",
      "x shape :  (3, 3, 3)\n",
      "x size :  27\n"
     ]
    }
   ],
   "source": [
    "x = np.array([[[ 0,  1,  2],\n",
    "               [ 3,  4,  5],\n",
    "               [ 6,  7,  8]],\n",
    "              [[ 9, 10, 11],\n",
    "               [12, 13, 14],\n",
    "               [15, 16, 17]],\n",
    "              [[18, 19, 20],\n",
    "               [21, 22, 23],\n",
    "               [24, 25, 26]]])\n",
    "\n",
    "print(x)\n",
    "print(\"x ndim : \",x.ndim)\n",
    "print(\"x shape : \",x.shape)\n",
    "print(\"x size : \",x.size)"
   ]
  },
  {
   "cell_type": "markdown",
   "metadata": {},
   "source": [
    "* 모든 원소 의 합"
   ]
  },
  {
   "cell_type": "code",
   "execution_count": 4,
   "metadata": {},
   "outputs": [
    {
     "name": "stdout",
     "output_type": "stream",
     "text": [
      "351\n"
     ]
    }
   ],
   "source": [
    "result = 0\n",
    "for i in range(27):\n",
    "    result += i\n",
    "print(result)"
   ]
  },
  {
   "cell_type": "code",
   "execution_count": 5,
   "metadata": {},
   "outputs": [
    {
     "name": "stdout",
     "output_type": "stream",
     "text": [
      "351\n"
     ]
    }
   ],
   "source": [
    "sum = x.sum()\n",
    "print(sum)"
   ]
  },
  {
   "cell_type": "markdown",
   "metadata": {},
   "source": [
    "* **axis=-1 합**\n",
    "  * axis = -1 은 배열의 가장 마지막 차원의 수를 의미함 \n",
    "  * 예제에서 3차원 예제이기 때문에 -1은 2와 동일함\n"
   ]
  },
  {
   "cell_type": "code",
   "execution_count": 13,
   "metadata": {},
   "outputs": [
    {
     "name": "stdout",
     "output_type": "stream",
     "text": [
      "x \n",
      " [[[ 0  1  2]\n",
      "  [ 3  4  5]\n",
      "  [ 6  7  8]]\n",
      "\n",
      " [[ 9 10 11]\n",
      "  [12 13 14]\n",
      "  [15 16 17]]\n",
      "\n",
      " [[18 19 20]\n",
      "  [21 22 23]\n",
      "  [24 25 26]]]\n",
      "\n",
      "\n",
      "axis=-1 : \n",
      " [[ 3 12 21]\n",
      " [30 39 48]\n",
      " [57 66 75]]\n",
      "ndim :  2\n",
      "shape :  (3, 3)\n",
      "size :  9\n"
     ]
    }
   ],
   "source": [
    "print(\"x \\n\",x)\n",
    "print(\"\\n\")\n",
    "result = np.sum(x, axis=-1)\n",
    "print(\"axis=-1 : \\n\",result)\n",
    "print(\"ndim : \",result.ndim)\n",
    "print(\"shape : \", result.shape)\n",
    "print(\"size : \",result.size)"
   ]
  },
  {
   "cell_type": "markdown",
   "metadata": {},
   "source": [
    "* **axis=0 합**\n",
    "  - 27 = 0 + 9 + 18\n",
    "  - 39 = 4 + 13 + 22\n",
    "  - 51 = 8 + 17 + 26"
   ]
  },
  {
   "cell_type": "code",
   "execution_count": 12,
   "metadata": {},
   "outputs": [
    {
     "name": "stdout",
     "output_type": "stream",
     "text": [
      "[[[ 0  1  2]\n",
      "  [ 3  4  5]\n",
      "  [ 6  7  8]]\n",
      "\n",
      " [[ 9 10 11]\n",
      "  [12 13 14]\n",
      "  [15 16 17]]\n",
      "\n",
      " [[18 19 20]\n",
      "  [21 22 23]\n",
      "  [24 25 26]]]\n",
      "\n",
      "\n",
      "axis=0 : \n",
      " [[27 30 33]\n",
      " [36 39 42]\n",
      " [45 48 51]]\n",
      "ndim :  2\n",
      "shape :  (3, 3)\n",
      "size :  9\n"
     ]
    }
   ],
   "source": [
    "print(x)\n",
    "print(\"\\n\")\n",
    "sum_0 = x.sum(axis=0)\n",
    "print(\"axis=0 : \\n\",sum_0)\n",
    "print(\"ndim : \",sum_0.ndim)\n",
    "print(\"shape : \",sum_0.shape)\n",
    "print(\"size : \",sum_0.size)"
   ]
  },
  {
   "cell_type": "code",
   "execution_count": 35,
   "metadata": {},
   "outputs": [
    {
     "name": "stdout",
     "output_type": "stream",
     "text": [
      "axis=0 : \n",
      " [[27 30 33]\n",
      " [36 39 42]\n",
      " [45 48 51]]\n",
      "ndim :  2\n",
      "shape :  (3, 3)\n",
      "size :  9\n"
     ]
    }
   ],
   "source": [
    "# keyword(axis=)를 생략 가능\n",
    "print(\"axis=0 : \\n\",sum_0)\n",
    "print(\"ndim : \",sum_0.ndim)\n",
    "print(\"shape : \",sum_0.shape)\n",
    "print(\"size : \",sum_0.size)"
   ]
  },
  {
   "cell_type": "markdown",
   "metadata": {},
   "source": [
    "* **axis=1 합**\n",
    "  - 9 = 0 + 3 + 6\n",
    "  - 12 = 1 + 4 + 7\n",
    "  - 15 = 2 + 5 + 8  \n",
    "  - 36 = 9 + 12 + 15\n",
    "  - 39 = 10 + 13 + 16\n",
    "  - 42 = 11 + 14 + 17  \n",
    "  - 63 = 18 + 21 + 24 \n",
    "  - 66 = 19 + 22 + 25 \n",
    "  - 69 = 20 + 23 + 69 "
   ]
  },
  {
   "cell_type": "code",
   "execution_count": 36,
   "metadata": {},
   "outputs": [
    {
     "name": "stdout",
     "output_type": "stream",
     "text": [
      "[[[ 0  1  2]\n",
      "  [ 3  4  5]\n",
      "  [ 6  7  8]]\n",
      "\n",
      " [[ 9 10 11]\n",
      "  [12 13 14]\n",
      "  [15 16 17]]\n",
      "\n",
      " [[18 19 20]\n",
      "  [21 22 23]\n",
      "  [24 25 26]]]\n",
      "\n",
      "\n",
      "axis=1 : \n",
      " [[ 9 12 15]\n",
      " [36 39 42]\n",
      " [63 66 69]]\n",
      "ndim :  2\n",
      "shape :  (3, 3)\n",
      "size :  9\n"
     ]
    }
   ],
   "source": [
    "print(x)\n",
    "print(\"\\n\")\n",
    "sum_1 = x.sum(axis=1)\n",
    "print(\"axis=1 : \\n\",sum_1)\n",
    "print(\"ndim : \",sum_1.ndim)\n",
    "print(\"shape : \",sum_1.shape)\n",
    "print(\"size : \",sum_1.size)"
   ]
  },
  {
   "cell_type": "markdown",
   "metadata": {},
   "source": [
    "* **axis=2 합** \n",
    "  - 3 = 0+1+2\n",
    "  - 12 = 3+4+5\n",
    "  - 21 = 6+7+8\n",
    "  - 30 = 9+10+11\n",
    "  - 39 = 12+13+14\n",
    "  - 48 = 15+16+17\n",
    "  - 57 = 18+19+20\n",
    "  - 66 = 21+22+23\n",
    "  - 75 = 24+25+26"
   ]
  },
  {
   "cell_type": "code",
   "execution_count": 38,
   "metadata": {},
   "outputs": [
    {
     "name": "stdout",
     "output_type": "stream",
     "text": [
      "[[[ 0  1  2]\n",
      "  [ 3  4  5]\n",
      "  [ 6  7  8]]\n",
      "\n",
      " [[ 9 10 11]\n",
      "  [12 13 14]\n",
      "  [15 16 17]]\n",
      "\n",
      " [[18 19 20]\n",
      "  [21 22 23]\n",
      "  [24 25 26]]]\n",
      "\n",
      "\n",
      "axis= 2 : \n",
      " [[ 3 12 21]\n",
      " [30 39 48]\n",
      " [57 66 75]]\n",
      "ndim :  2\n",
      "shape :  (3, 3)\n",
      "size :  9\n"
     ]
    }
   ],
   "source": [
    "print(x)\n",
    "print(\"\\n\")\n",
    "sum_2 = x.sum(axis=2)\n",
    "print(\"axis= 2 : \\n\",sum_2)\n",
    "print(\"ndim : \",sum_2.ndim)\n",
    "print(\"shape : \",sum_2.shape)\n",
    "print(\"size : \",sum_2.size)"
   ]
  },
  {
   "cell_type": "code",
   "execution_count": 40,
   "metadata": {},
   "outputs": [
    {
     "ename": "AxisError",
     "evalue": "axis 3 is out of bounds for array of dimension 3",
     "output_type": "error",
     "traceback": [
      "\u001b[0;31m---------------------------------------------------------------------------\u001b[0m",
      "\u001b[0;31mAxisError\u001b[0m                                 Traceback (most recent call last)",
      "\u001b[0;32m<ipython-input-40-2e280abe8f9e>\u001b[0m in \u001b[0;36m<module>\u001b[0;34m()\u001b[0m\n\u001b[1;32m      1\u001b[0m \u001b[0;31m# x 배열의 차원이 3차원 이기때문에 axis 는 2까지 사용 가능\u001b[0m\u001b[0;34m\u001b[0m\u001b[0;34m\u001b[0m\u001b[0;34m\u001b[0m\u001b[0m\n\u001b[0;32m----> 2\u001b[0;31m \u001b[0mprint\u001b[0m\u001b[0;34m(\u001b[0m\u001b[0mx\u001b[0m\u001b[0;34m.\u001b[0m\u001b[0msum\u001b[0m\u001b[0;34m(\u001b[0m\u001b[0maxis\u001b[0m\u001b[0;34m=\u001b[0m\u001b[0;36m3\u001b[0m\u001b[0;34m)\u001b[0m\u001b[0;34m)\u001b[0m\u001b[0;34m\u001b[0m\u001b[0;34m\u001b[0m\u001b[0m\n\u001b[0m",
      "\u001b[0;32m~/Anaconda3/anaconda3/envs/tensorflow/lib/python3.6/site-packages/numpy/core/_methods.py\u001b[0m in \u001b[0;36m_sum\u001b[0;34m(a, axis, dtype, out, keepdims, initial)\u001b[0m\n\u001b[1;32m     34\u001b[0m def _sum(a, axis=None, dtype=None, out=None, keepdims=False,\n\u001b[1;32m     35\u001b[0m          initial=_NoValue):\n\u001b[0;32m---> 36\u001b[0;31m     \u001b[0;32mreturn\u001b[0m \u001b[0mumr_sum\u001b[0m\u001b[0;34m(\u001b[0m\u001b[0ma\u001b[0m\u001b[0;34m,\u001b[0m \u001b[0maxis\u001b[0m\u001b[0;34m,\u001b[0m \u001b[0mdtype\u001b[0m\u001b[0;34m,\u001b[0m \u001b[0mout\u001b[0m\u001b[0;34m,\u001b[0m \u001b[0mkeepdims\u001b[0m\u001b[0;34m,\u001b[0m \u001b[0minitial\u001b[0m\u001b[0;34m)\u001b[0m\u001b[0;34m\u001b[0m\u001b[0;34m\u001b[0m\u001b[0m\n\u001b[0m\u001b[1;32m     37\u001b[0m \u001b[0;34m\u001b[0m\u001b[0m\n\u001b[1;32m     38\u001b[0m def _prod(a, axis=None, dtype=None, out=None, keepdims=False,\n",
      "\u001b[0;31mAxisError\u001b[0m: axis 3 is out of bounds for array of dimension 3"
     ]
    }
   ],
   "source": [
    "# x 배열의 차원이 3차원 이기때문에 axis 는 2까지 사용 가능\n",
    "print(x.sum(axis=3))"
   ]
  },
  {
   "cell_type": "code",
   "execution_count": 43,
   "metadata": {},
   "outputs": [
    {
     "ename": "AxisError",
     "evalue": "axis 2 is out of bounds for array of dimension 2",
     "output_type": "error",
     "traceback": [
      "\u001b[0;31m---------------------------------------------------------------------------\u001b[0m",
      "\u001b[0;31mAxisError\u001b[0m                                 Traceback (most recent call last)",
      "\u001b[0;32m<ipython-input-43-2083fd39e54e>\u001b[0m in \u001b[0;36m<module>\u001b[0;34m()\u001b[0m\n\u001b[1;32m      1\u001b[0m y=np.array([[1,2,3],\n\u001b[1;32m      2\u001b[0m             [4,5,6]])\n\u001b[0;32m----> 3\u001b[0;31m \u001b[0mprint\u001b[0m\u001b[0;34m(\u001b[0m\u001b[0my\u001b[0m\u001b[0;34m.\u001b[0m\u001b[0msum\u001b[0m\u001b[0;34m(\u001b[0m\u001b[0maxis\u001b[0m\u001b[0;34m=\u001b[0m\u001b[0;36m2\u001b[0m\u001b[0;34m)\u001b[0m\u001b[0;34m)\u001b[0m\u001b[0;34m\u001b[0m\u001b[0;34m\u001b[0m\u001b[0m\n\u001b[0m",
      "\u001b[0;32m~/Anaconda3/anaconda3/envs/tensorflow/lib/python3.6/site-packages/numpy/core/_methods.py\u001b[0m in \u001b[0;36m_sum\u001b[0;34m(a, axis, dtype, out, keepdims, initial)\u001b[0m\n\u001b[1;32m     34\u001b[0m def _sum(a, axis=None, dtype=None, out=None, keepdims=False,\n\u001b[1;32m     35\u001b[0m          initial=_NoValue):\n\u001b[0;32m---> 36\u001b[0;31m     \u001b[0;32mreturn\u001b[0m \u001b[0mumr_sum\u001b[0m\u001b[0;34m(\u001b[0m\u001b[0ma\u001b[0m\u001b[0;34m,\u001b[0m \u001b[0maxis\u001b[0m\u001b[0;34m,\u001b[0m \u001b[0mdtype\u001b[0m\u001b[0;34m,\u001b[0m \u001b[0mout\u001b[0m\u001b[0;34m,\u001b[0m \u001b[0mkeepdims\u001b[0m\u001b[0;34m,\u001b[0m \u001b[0minitial\u001b[0m\u001b[0;34m)\u001b[0m\u001b[0;34m\u001b[0m\u001b[0;34m\u001b[0m\u001b[0m\n\u001b[0m\u001b[1;32m     37\u001b[0m \u001b[0;34m\u001b[0m\u001b[0m\n\u001b[1;32m     38\u001b[0m def _prod(a, axis=None, dtype=None, out=None, keepdims=False,\n",
      "\u001b[0;31mAxisError\u001b[0m: axis 2 is out of bounds for array of dimension 2"
     ]
    }
   ],
   "source": [
    "y=np.array([[1,2,3],\n",
    "            [4,5,6]])\n",
    "print(y.sum(axis=2))"
   ]
  },
  {
   "cell_type": "code",
   "execution_count": 44,
   "metadata": {},
   "outputs": [
    {
     "name": "stdout",
     "output_type": "stream",
     "text": [
      "[ 6 15]\n"
     ]
    }
   ],
   "source": [
    "print(y.sum(axis=1))"
   ]
  },
  {
   "cell_type": "code",
   "execution_count": 45,
   "metadata": {},
   "outputs": [
    {
     "name": "stdout",
     "output_type": "stream",
     "text": [
      "[5 7 9]\n"
     ]
    }
   ],
   "source": [
    "print(y.sum(axis=0))"
   ]
  },
  {
   "cell_type": "code",
   "execution_count": null,
   "metadata": {},
   "outputs": [],
   "source": []
  }
 ],
 "metadata": {
  "kernelspec": {
   "display_name": "Python 3",
   "language": "python",
   "name": "python3"
  },
  "language_info": {
   "codemirror_mode": {
    "name": "ipython",
    "version": 3
   },
   "file_extension": ".py",
   "mimetype": "text/x-python",
   "name": "python",
   "nbconvert_exporter": "python",
   "pygments_lexer": "ipython3",
   "version": "3.6.8"
  }
 },
 "nbformat": 4,
 "nbformat_minor": 2
}
