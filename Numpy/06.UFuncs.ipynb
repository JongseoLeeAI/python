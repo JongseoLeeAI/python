{
 "cells": [
  {
   "cell_type": "markdown",
   "metadata": {},
   "source": [
    "# 기본 UFuncs (Universal Functions)"
   ]
  },
  {
   "cell_type": "markdown",
   "metadata": {},
   "source": [
    "- Python은 수많은 작은 연산이 반복되는 상황에서 확실히 느림\n",
    "- 배열 연산은 아주 빠르거나 아주 느릴수 있음\n",
    "- 연산을 빠르게 하는 핵심은 **벡터화연산(Vectorized)** 사용\n",
    "- 벡터화연산은 Numpy의 **Ufuncs(Universal Functions)**을 사용"
   ]
  },
  {
   "cell_type": "markdown",
   "metadata": {},
   "source": [
    "###### 예) Python 연산의 실행 시간 체크 ( 역수 출력 )"
   ]
  },
  {
   "cell_type": "code",
   "execution_count": 95,
   "metadata": {},
   "outputs": [
    {
     "data": {
      "text/plain": [
       "array([0.33333333, 0.5       , 0.33333333, 0.2       , 0.11111111])"
      ]
     },
     "execution_count": 95,
     "metadata": {},
     "output_type": "execute_result"
    }
   ],
   "source": [
    "import numpy as np\n",
    "np.random.seed(0)\n",
    "\n",
    "def compute_reciprocals(values):\n",
    "    output = np.empty(len(values))\n",
    "    for i in range(len(values)):\n",
    "        output[i] = 1.0 / values[i]\n",
    "    return output\n",
    "        \n",
    "values = np.random.randint(1, 10, size=5)\n",
    "compute_reciprocals(values)"
   ]
  },
  {
   "cell_type": "markdown",
   "metadata": {},
   "source": [
    "- size가 5인 연산은 빨리 이뤄지지만, 1,000,000인 연산은 오래 걸림"
   ]
  },
  {
   "cell_type": "code",
   "execution_count": 2,
   "metadata": {},
   "outputs": [
    {
     "name": "stdout",
     "output_type": "stream",
     "text": [
      "1.75 s ± 20.1 ms per loop (mean ± std. dev. of 7 runs, 1 loop each)\n"
     ]
    }
   ],
   "source": [
    "big_array = np.random.randint(1, 100, size=1000000)\n",
    "%timeit compute_reciprocals(big_array)"
   ]
  },
  {
   "cell_type": "markdown",
   "metadata": {},
   "source": [
    "- 오래 걸리는 이유 \n",
    "  - 연산이 병목이 생기지는 않음\n",
    "  - 그러나, 루프의 사이클마다 수행하는 타입확인과 함수 디스패치에서 발생함\n",
    "  - 즉, 역수가 계산될 때마다 수행하는 일\n",
    "    - 객체의 타입확인\n",
    "    - 해당 타입에 맞게 사용할 적절한 함수를 동적으로 검색\n",
    " "
   ]
  },
  {
   "cell_type": "markdown",
   "metadata": {},
   "source": [
    "## =>> UFuncs(Universal Functions)를 이용하여 실행시간 단축!! 벡터화연산!!!"
   ]
  },
  {
   "cell_type": "markdown",
   "metadata": {},
   "source": [
    "* 벡터화 연산 : 정적 타입체계를 가진 컴파일된 루틴에 편리한 인터페이스를 제공 하여 계산함"
   ]
  },
  {
   "cell_type": "code",
   "execution_count": 6,
   "metadata": {},
   "outputs": [
    {
     "name": "stdout",
     "output_type": "stream",
     "text": [
      "[0.16666667 1.         0.25       0.25       0.125     ]\n",
      "[0.16666667 1.         0.25       0.25       0.125     ]\n"
     ]
    }
   ],
   "source": [
    "#일반 Python 연산\n",
    "print(compute_reciprocals(values))\n",
    "\n",
    "# UFuncs를 이용한 연산\n",
    "print(1.0 / values)\n",
    "\n",
    "# 동일한 결과를 보임"
   ]
  },
  {
   "cell_type": "code",
   "execution_count": 4,
   "metadata": {},
   "outputs": [
    {
     "name": "stdout",
     "output_type": "stream",
     "text": [
      "2.62 ms ± 67.9 µs per loop (mean ± std. dev. of 7 runs, 100 loops each)\n"
     ]
    }
   ],
   "source": [
    "%timeit (1.0 / big_array)"
   ]
  },
  {
   "cell_type": "code",
   "execution_count": null,
   "metadata": {},
   "outputs": [],
   "source": []
  },
  {
   "cell_type": "code",
   "execution_count": null,
   "metadata": {},
   "outputs": [],
   "source": []
  },
  {
   "cell_type": "markdown",
   "metadata": {},
   "source": [
    "### 기본 산술 연산 UFuncs\n",
    "The following table lists the arithmetic operators implemented in NumPy:\n",
    "\n",
    "| Operator\t    | Equivalent ufunc    | Description                           |\n",
    "|---------------|---------------------|---------------------------------------|\n",
    "|``+``          |``np.add``           |Addition (e.g., ``1 + 1 = 2``)         |\n",
    "|``-``          |``np.subtract``      |Subtraction (e.g., ``3 - 2 = 1``)      |\n",
    "|``-``          |``np.negative``      |Unary negation (e.g., ``-2``)          |\n",
    "|``*``          |``np.multiply``      |Multiplication (e.g., ``2 * 3 = 6``)   |\n",
    "|``/``          |``np.divide``        |Division (e.g., ``3 / 2 = 1.5``)       |\n",
    "|``//``         |``np.floor_divide``  |Floor division (e.g., ``3 // 2 = 1``)  |\n",
    "|``**``         |``np.power``         |Exponentiation (e.g., ``2 ** 3 = 8``)  |\n",
    "|``%``          |``np.mod``           |Modulus/remainder (e.g., ``9 % 4 = 1``)|"
   ]
  },
  {
   "cell_type": "markdown",
   "metadata": {},
   "source": [
    "###### 예) 산술연산  UFuncs"
   ]
  },
  {
   "cell_type": "code",
   "execution_count": 8,
   "metadata": {},
   "outputs": [
    {
     "name": "stdout",
     "output_type": "stream",
     "text": [
      "[0 1 2 3 4]\n"
     ]
    }
   ],
   "source": [
    "x = np.arange(5)\n",
    "print(x)"
   ]
  },
  {
   "cell_type": "code",
   "execution_count": 14,
   "metadata": {},
   "outputs": [
    {
     "name": "stdout",
     "output_type": "stream",
     "text": [
      "[10 11 12 13 14]\n",
      "[10 11 12 13 14]\n"
     ]
    }
   ],
   "source": [
    "# 배열의 각 데이터에 10을 더하여 출력\n",
    "print(x + 10)\n",
    "print(np.add(x,10))"
   ]
  },
  {
   "cell_type": "code",
   "execution_count": 16,
   "metadata": {},
   "outputs": [
    {
     "name": "stdout",
     "output_type": "stream",
     "text": [
      "[ 0 -1 -2 -3 -4]\n"
     ]
    }
   ],
   "source": [
    "# 배열의 각 데이터를 음수로 변환\n",
    "print(-x)"
   ]
  },
  {
   "cell_type": "markdown",
   "metadata": {},
   "source": [
    "### 절대값 함수 UFuncs\n",
    "* python 내장 산술연산자 : `abs()`\n",
    "* **Numpy ufuncs : `np.absolute()` or `np.abs()`**"
   ]
  },
  {
   "cell_type": "markdown",
   "metadata": {},
   "source": [
    "###### 예) 절대값  UFuncs"
   ]
  },
  {
   "cell_type": "code",
   "execution_count": 17,
   "metadata": {},
   "outputs": [
    {
     "name": "stdout",
     "output_type": "stream",
     "text": [
      "[-5 -4 -3 -2 -1  0  1  2  3  4]\n"
     ]
    }
   ],
   "source": [
    "x = np.arange(-5,5)\n",
    "print(x)"
   ]
  },
  {
   "cell_type": "code",
   "execution_count": 19,
   "metadata": {},
   "outputs": [
    {
     "name": "stdout",
     "output_type": "stream",
     "text": [
      "[5 4 3 2 1 0 1 2 3 4]\n"
     ]
    }
   ],
   "source": [
    "# python 내장 산술연산자\n",
    "print(abs(x))"
   ]
  },
  {
   "cell_type": "code",
   "execution_count": 23,
   "metadata": {},
   "outputs": [
    {
     "name": "stdout",
     "output_type": "stream",
     "text": [
      "[5 4 3 2 1 0 1 2 3 4]\n",
      "[5 4 3 2 1 0 1 2 3 4]\n"
     ]
    }
   ],
   "source": [
    "# Numpy ufuncs \n",
    "print(np.absolute(x))\n",
    "print(np.abs(x))"
   ]
  },
  {
   "cell_type": "markdown",
   "metadata": {},
   "source": [
    "### 삼각 함수 UFuncs\n",
    "- 삼각함수 \n",
    "  * sin : `np.sin()`\n",
    "  * cos : `np.cos()`\n",
    "  * tan : `np.tan()`\n",
    "- 역삼각함수 \n",
    "  * arcsin : `np.arcsin()`\n",
    "  * arccos : `np.arccos()`\n",
    "  * arctan : `np.arctan()`"
   ]
  },
  {
   "cell_type": "markdown",
   "metadata": {},
   "source": [
    "###### 예) 삼각함수"
   ]
  },
  {
   "cell_type": "code",
   "execution_count": 25,
   "metadata": {},
   "outputs": [],
   "source": [
    "theta = np.linspace(0, np.pi, 3)"
   ]
  },
  {
   "cell_type": "code",
   "execution_count": 26,
   "metadata": {},
   "outputs": [
    {
     "name": "stdout",
     "output_type": "stream",
     "text": [
      "theta      =  [0.         1.57079633 3.14159265]\n",
      "sin(theta) =  [0.0000000e+00 1.0000000e+00 1.2246468e-16]\n",
      "cos(theta) =  [ 1.000000e+00  6.123234e-17 -1.000000e+00]\n",
      "tan(theta) =  [ 0.00000000e+00  1.63312394e+16 -1.22464680e-16]\n"
     ]
    }
   ],
   "source": [
    "print(\"theta      = \", theta)\n",
    "print(\"sin(theta) = \", np.sin(theta))\n",
    "print(\"cos(theta) = \", np.cos(theta))\n",
    "print(\"tan(theta) = \", np.tan(theta))"
   ]
  },
  {
   "cell_type": "markdown",
   "metadata": {},
   "source": [
    "### 지수와 로그 UFuncs\n",
    "- 지수\n",
    "  * e^x : `np.exp(x)`\n",
    "  * 2^x : `np.exp2(x)`\n",
    "  * n^x : `np.power(n,x)`\n",
    "- 로그\n",
    "  * ln(x) : `np.log(x)`\n",
    "  * log2(x) : `np.log2(x)`\n",
    "  * log10(x) : `np.log10(x)`"
   ]
  },
  {
   "cell_type": "markdown",
   "metadata": {},
   "source": [
    "###### 예) 지수 함수"
   ]
  },
  {
   "cell_type": "code",
   "execution_count": 30,
   "metadata": {},
   "outputs": [
    {
     "name": "stdout",
     "output_type": "stream",
     "text": [
      "x     = [1, 2, 3]\n",
      "e^x   = [ 2.71828183  7.3890561  20.08553692]\n",
      "2^x   = [2. 4. 8.]\n",
      "3^x   = [ 3  9 27]\n",
      "10^x   = [  10  100 1000]\n"
     ]
    }
   ],
   "source": [
    "x = [1, 2, 3]\n",
    "print(\"x     =\", x)\n",
    "print(\"e^x   =\", np.exp(x))\n",
    "print(\"2^x   =\", np.exp2(x))\n",
    "print(\"3^x   =\", np.power(3, x))\n",
    "print(\"10^x   =\", np.power(10, x))"
   ]
  },
  {
   "cell_type": "markdown",
   "metadata": {},
   "source": [
    "###### 로그함수"
   ]
  },
  {
   "cell_type": "code",
   "execution_count": 33,
   "metadata": {
    "scrolled": true
   },
   "outputs": [
    {
     "name": "stdout",
     "output_type": "stream",
     "text": [
      "x        = [1, 2, 4, 10]\n",
      "ln(x)    = [0.         0.69314718 1.38629436 2.30258509]\n",
      "log2(x)  = [0.         1.         2.         3.32192809]\n",
      "log10(x) = [0.         0.30103    0.60205999 1.        ]\n"
     ]
    }
   ],
   "source": [
    "x = [1, 2, 4, 10]\n",
    "print(\"x        =\", x)\n",
    "print(\"ln(x)    =\", np.log(x))\n",
    "print(\"log2(x)  =\", np.log2(x))\n",
    "print(\"log10(x) =\", np.log10(x))"
   ]
  },
  {
   "cell_type": "code",
   "execution_count": null,
   "metadata": {},
   "outputs": [],
   "source": []
  },
  {
   "cell_type": "code",
   "execution_count": null,
   "metadata": {},
   "outputs": [],
   "source": []
  },
  {
   "cell_type": "markdown",
   "metadata": {},
   "source": [
    "# 특화된 UFuncs (Universal Functions)"
   ]
  },
  {
   "cell_type": "markdown",
   "metadata": {},
   "source": [
    "- 쌍곡선 삼각함수, 비트연산, 비교 연산자, 라디안을 각도로 변환, 반올림과 나머지 등등 UFunc가 많이 존재함\n",
    "- 이러한 유용한 함수(잘 알려지지 않은 수학함수)들은 **scipy.special** 서브모듈에 있음\n",
    "- scipy.special DOC \n",
    "  - https://docs.scipy.org/doc/scipy/reference/special.html"
   ]
  },
  {
   "cell_type": "code",
   "execution_count": null,
   "metadata": {},
   "outputs": [],
   "source": []
  },
  {
   "cell_type": "code",
   "execution_count": null,
   "metadata": {},
   "outputs": [],
   "source": []
  },
  {
   "cell_type": "markdown",
   "metadata": {},
   "source": [
    "# 고급 UFuncs (Universal Functions)"
   ]
  },
  {
   "cell_type": "markdown",
   "metadata": {},
   "source": [
    "### 출력 지정\n",
    "- out 파리미터에 출력 할 변수 명 입력\n",
    "- ex) `numpy.multiply(x1, x2, /, out=None, *, where=True, casting='same_kind', order='K', dtype=None, subok=True[, signature, extobj]) = <ufunc 'multiply'>`\n",
    "  - out=None 이 기본값임, None 대신 변수명 입력\n"
   ]
  },
  {
   "cell_type": "markdown",
   "metadata": {},
   "source": [
    "###### 예) 출력지정"
   ]
  },
  {
   "cell_type": "code",
   "execution_count": 35,
   "metadata": {},
   "outputs": [
    {
     "name": "stdout",
     "output_type": "stream",
     "text": [
      "[ 0. 10. 20. 30. 40.]\n"
     ]
    }
   ],
   "source": [
    "# 계산을 위한 배열 선언\n",
    "x = np.arange(5)\n",
    "# 출력을 위한 빈 배열 생성\n",
    "y = np.empty(5)\n",
    "# out=y 로 선언하여 결과를 y변수에 저장\n",
    "np.multiply(x, 10, out=y)\n",
    "\n",
    "print(y)"
   ]
  },
  {
   "cell_type": "markdown",
   "metadata": {},
   "source": [
    "### 집계\n",
    "- reduce 메서드 : 직접 연산할 수 있는 ufunc의 최종 결과를 반환\n",
    "  - `ufunc.reduce(a, axis=0, dtype=None, out=None, keepdims=False, initial)`\n"
   ]
  },
  {
   "cell_type": "markdown",
   "metadata": {},
   "source": [
    "###### 예) 집계 "
   ]
  },
  {
   "cell_type": "code",
   "execution_count": 59,
   "metadata": {},
   "outputs": [
    {
     "name": "stdout",
     "output_type": "stream",
     "text": [
      "1440\n",
      "<class 'numpy.ufunc'>\n",
      "1440\n"
     ]
    }
   ],
   "source": [
    "a = np.multiply.reduce([2,3,5,6,8])\n",
    "print(a)\n",
    "\n",
    "# UFuncs 를 func 변수에 객체로 할당하여 함수로 사용\n",
    "func = np.multiply\n",
    "print(type(func))\n",
    "print(func.reduce([2,3,5,6,8]))"
   ]
  },
  {
   "cell_type": "code",
   "execution_count": 43,
   "metadata": {},
   "outputs": [
    {
     "name": "stdout",
     "output_type": "stream",
     "text": [
      "6\n",
      "<class 'numpy.int64'>\n"
     ]
    }
   ],
   "source": [
    "b = np.multiply(2,3)\n",
    "print(b)\n",
    "print(type(b))"
   ]
  },
  {
   "cell_type": "markdown",
   "metadata": {},
   "source": [
    "* accumulate 메서드 : 계산 중간 결과를 모두 기록하여 결과 반환\n",
    "  * `ufunc.accumulate(array, axis=0, dtype=None, out=None)`"
   ]
  },
  {
   "cell_type": "code",
   "execution_count": 60,
   "metadata": {},
   "outputs": [
    {
     "name": "stdout",
     "output_type": "stream",
     "text": [
      "[   2    6   30  180 1440]\n"
     ]
    }
   ],
   "source": [
    "hist = np.multiply.accumulate([2,3,5,6,8])\n",
    "print(hist)"
   ]
  },
  {
   "cell_type": "code",
   "execution_count": null,
   "metadata": {},
   "outputs": [],
   "source": []
  },
  {
   "cell_type": "code",
   "execution_count": null,
   "metadata": {},
   "outputs": [],
   "source": []
  },
  {
   "cell_type": "markdown",
   "metadata": {},
   "source": [
    "### 내장 집계 함수 \n",
    "- 대용량 데이터에 대한 요약 통계에 대한 결과를 확인하기 좋음\n",
    "- 보편적인 통계수치인 평균, 표준편차, 합, 곱, 중앙값, 최솟값, 최댓값 분위 수 등등"
   ]
  },
  {
   "cell_type": "markdown",
   "metadata": {},
   "source": [
    "###### 배열의 값의 합 구하기"
   ]
  },
  {
   "cell_type": "code",
   "execution_count": null,
   "metadata": {},
   "outputs": [],
   "source": []
  },
  {
   "cell_type": "code",
   "execution_count": null,
   "metadata": {},
   "outputs": [],
   "source": []
  },
  {
   "cell_type": "markdown",
   "metadata": {},
   "source": [
    "* python buitlin function : `sum()`\n",
    "* Numpy UFuncs : `np.sum()`"
   ]
  },
  {
   "cell_type": "code",
   "execution_count": 64,
   "metadata": {},
   "outputs": [
    {
     "name": "stdout",
     "output_type": "stream",
     "text": [
      "<class 'builtin_function_or_method'>\n"
     ]
    }
   ],
   "source": [
    "print(type(sum))"
   ]
  },
  {
   "cell_type": "code",
   "execution_count": 65,
   "metadata": {},
   "outputs": [
    {
     "name": "stdout",
     "output_type": "stream",
     "text": [
      "50.461758453195614\n"
     ]
    }
   ],
   "source": [
    "L = np.random.random(100)\n",
    "print(sum(L))"
   ]
  },
  {
   "cell_type": "code",
   "execution_count": 66,
   "metadata": {},
   "outputs": [
    {
     "name": "stdout",
     "output_type": "stream",
     "text": [
      "50.46175845319564\n"
     ]
    }
   ],
   "source": [
    "print(np.sum(L))"
   ]
  },
  {
   "cell_type": "markdown",
   "metadata": {},
   "source": [
    "* 내장 함수와 UFuncs 은 동일한 결과를 보이지만 대용량 데이터로 연산을 한다면 실행 시간의 차이를 보임"
   ]
  },
  {
   "cell_type": "code",
   "execution_count": 71,
   "metadata": {},
   "outputs": [],
   "source": [
    "# 대용량 데이터 선언(1억개 데이터 랜덤 생성)\n",
    "bigL = np.random.random(100000000)"
   ]
  },
  {
   "cell_type": "code",
   "execution_count": 72,
   "metadata": {},
   "outputs": [
    {
     "name": "stdout",
     "output_type": "stream",
     "text": [
      "7.5 s ± 49.2 ms per loop (mean ± std. dev. of 7 runs, 1 loop each)\n"
     ]
    }
   ],
   "source": [
    "# sum()\n",
    "%timeit sum(bigL)"
   ]
  },
  {
   "cell_type": "code",
   "execution_count": 73,
   "metadata": {},
   "outputs": [
    {
     "name": "stdout",
     "output_type": "stream",
     "text": [
      "54.4 ms ± 901 µs per loop (mean ± std. dev. of 7 runs, 10 loops each)\n"
     ]
    }
   ],
   "source": [
    "# np.sum()\n",
    "%timeit np.sum(bigL)"
   ]
  },
  {
   "cell_type": "markdown",
   "metadata": {},
   "source": [
    "###### 최솟값, 최대값 구하기\n",
    "* python buitlin function : `min()` , `max()`\n",
    "* Numpy UFuncs : `np.min()` , `np.max()`"
   ]
  },
  {
   "cell_type": "markdown",
   "metadata": {},
   "source": [
    "* **내장함수 사용**"
   ]
  },
  {
   "cell_type": "code",
   "execution_count": 75,
   "metadata": {},
   "outputs": [
    {
     "name": "stdout",
     "output_type": "stream",
     "text": [
      "<class 'builtin_function_or_method'>\n",
      "<class 'builtin_function_or_method'>\n"
     ]
    }
   ],
   "source": [
    "print(type(min))\n",
    "print(type(max))"
   ]
  },
  {
   "cell_type": "code",
   "execution_count": 81,
   "metadata": {},
   "outputs": [
    {
     "name": "stdout",
     "output_type": "stream",
     "text": [
      "2.977194046849263e-10\n",
      "min () time :  5.244752883911133\n"
     ]
    }
   ],
   "source": [
    "import time\n",
    "startTime = time.time()\n",
    "\n",
    "print(min(bigL))\n",
    "\n",
    "endTime = time.time() - startTime\n",
    "print(\"min () time : \",endTime)"
   ]
  },
  {
   "cell_type": "code",
   "execution_count": 82,
   "metadata": {},
   "outputs": [
    {
     "name": "stdout",
     "output_type": "stream",
     "text": [
      "0.9999999947174169\n",
      "max() time :  5.258354902267456\n"
     ]
    }
   ],
   "source": [
    "startTime = time.time()\n",
    "\n",
    "print(max(bigL))\n",
    "\n",
    "endTime = time.time() - startTime\n",
    "print(\"max() time : \",endTime) "
   ]
  },
  {
   "cell_type": "markdown",
   "metadata": {},
   "source": [
    "* **UFuncs 사용**\n",
    "  - np.min , np.max, np.sum으로 사용\n",
    "  - 배열 메소드 를 이용하여 UFuncs를 사용 가능 => array.min() , array.max() ..."
   ]
  },
  {
   "cell_type": "code",
   "execution_count": 98,
   "metadata": {},
   "outputs": [
    {
     "name": "stdout",
     "output_type": "stream",
     "text": [
      "<class 'function'>\n",
      "<class 'function'>\n"
     ]
    }
   ],
   "source": [
    "print(type(np.min))\n",
    "print(type(np.max))"
   ]
  },
  {
   "cell_type": "code",
   "execution_count": 99,
   "metadata": {},
   "outputs": [
    {
     "name": "stdout",
     "output_type": "stream",
     "text": [
      "2.977194046849263e-10\n",
      "np.min() time :  0.05838894844055176\n"
     ]
    }
   ],
   "source": [
    "startTime = time.time()\n",
    "\n",
    "print(np.min(bigL))\n",
    "\n",
    "endTime = time.time() - startTime\n",
    "print(\"np.min() time : \",endTime) "
   ]
  },
  {
   "cell_type": "code",
   "execution_count": 100,
   "metadata": {},
   "outputs": [
    {
     "name": "stdout",
     "output_type": "stream",
     "text": [
      "0.9999999947174169\n",
      "np.max() time :  0.0616459846496582\n"
     ]
    }
   ],
   "source": [
    "startTime = time.time()\n",
    "\n",
    "print(np.max(bigL))\n",
    "\n",
    "endTime = time.time() - startTime\n",
    "print(\"np.max() time : \",endTime) "
   ]
  },
  {
   "cell_type": "code",
   "execution_count": 101,
   "metadata": {},
   "outputs": [
    {
     "name": "stdout",
     "output_type": "stream",
     "text": [
      "2.977194046849263e-10\n",
      "array.min() time :  0.0614168643951416\n"
     ]
    }
   ],
   "source": [
    "# np.min() 을 배열 메소드로 실행\n",
    "startTime = time.time()\n",
    "\n",
    "print(bigL.min())\n",
    "\n",
    "endTime = time.time() - startTime\n",
    "print(\"array.min() time : \",endTime) "
   ]
  },
  {
   "cell_type": "code",
   "execution_count": 102,
   "metadata": {},
   "outputs": [
    {
     "name": "stdout",
     "output_type": "stream",
     "text": [
      "0.9999999947174169\n",
      "array.max() time :  0.06118917465209961\n"
     ]
    }
   ],
   "source": [
    "# np.max() 을 배열 메소드로 실행\n",
    "startTime = time.time()\n",
    "\n",
    "print(bigL.max())\n",
    "\n",
    "endTime = time.time() - startTime\n",
    "print(\"array.max() time : \",endTime) "
   ]
  },
  {
   "cell_type": "code",
   "execution_count": null,
   "metadata": {},
   "outputs": [],
   "source": []
  },
  {
   "cell_type": "markdown",
   "metadata": {},
   "source": [
    "### 다차원 배열 집계"
   ]
  },
  {
   "cell_type": "code",
   "execution_count": 104,
   "metadata": {},
   "outputs": [
    {
     "name": "stdout",
     "output_type": "stream",
     "text": [
      "[[0.52279556 0.94693092 0.18726122 0.79322586 0.22088711 0.54412077]\n",
      " [0.62516209 0.3775567  0.18980704 0.65602769 0.09533963 0.09371985]\n",
      " [0.30735446 0.93249309 0.6075084  0.87078705 0.53174359 0.25776996]\n",
      " [0.77412035 0.1831583  0.21730025 0.89195747 0.79372958 0.1801818 ]]\n"
     ]
    }
   ],
   "source": [
    "arr = np.random.random(size=[4,6])\n",
    "print(arr)"
   ]
  },
  {
   "cell_type": "code",
   "execution_count": 106,
   "metadata": {},
   "outputs": [
    {
     "name": "stdout",
     "output_type": "stream",
     "text": [
      "11.800938763282717\n",
      "time :  0.0001838207244873047\n"
     ]
    }
   ],
   "source": [
    "startTime = time.time()\n",
    "\n",
    "print(arr.sum())\n",
    "\n",
    "endTime = time.time() - startTime\n",
    "print(\"time : \",endTime) "
   ]
  },
  {
   "cell_type": "code",
   "execution_count": 110,
   "metadata": {},
   "outputs": [
    {
     "name": "stdout",
     "output_type": "stream",
     "text": [
      "[0.30735446 0.1831583  0.18726122 0.65602769 0.09533963 0.09371985]\n",
      "time :  0.0007207393646240234\n",
      "--------------------\n",
      "[0.18726122 0.09371985 0.25776996 0.1801818 ]\n",
      "time :  0.0002639293670654297\n"
     ]
    }
   ],
   "source": [
    "startTime = time.time()\n",
    "\n",
    "print(arr.min(axis=0))\n",
    "\n",
    "endTime = time.time() - startTime\n",
    "print(\"time : \",endTime) \n",
    "\n",
    "print(\"--------------------\")\n",
    "\n",
    "startTime = time.time()\n",
    "\n",
    "print(arr.min(axis=1))\n",
    "\n",
    "endTime = time.time() - startTime\n",
    "print(\"time : \",endTime) "
   ]
  },
  {
   "cell_type": "code",
   "execution_count": 108,
   "metadata": {},
   "outputs": [
    {
     "name": "stdout",
     "output_type": "stream",
     "text": [
      "0.946930920844582\n",
      "time :  0.0004112720489501953\n"
     ]
    }
   ],
   "source": [
    "startTime = time.time()\n",
    "\n",
    "print(arr.max())\n",
    "\n",
    "endTime = time.time() - startTime\n",
    "print(\"time : \",endTime) "
   ]
  },
  {
   "cell_type": "markdown",
   "metadata": {},
   "source": [
    "### Numpy 에서 사용가능한 집계 함수\n",
    "The following table provides a list of useful aggregation functions available in NumPy:\n",
    "\n",
    "|Function Name      |   NaN-safe Version  | Description                                   |\n",
    "|-------------------|---------------------|-----------------------------------------------|\n",
    "| ``np.sum``        | ``np.nansum``       | Compute sum of elements                       |\n",
    "| ``np.prod``       | ``np.nanprod``      | Compute product of elements                   |\n",
    "| ``np.mean``       | ``np.nanmean``      | Compute mean of elements                      |\n",
    "| ``np.std``        | ``np.nanstd``       | Compute standard deviation                    |\n",
    "| ``np.var``        | ``np.nanvar``       | Compute variance                              |\n",
    "| ``np.min``        | ``np.nanmin``       | Find minimum value                            |\n",
    "| ``np.max``        | ``np.nanmax``       | Find maximum value                            |\n",
    "| ``np.argmin``     | ``np.nanargmin``    | Find index of minimum value                   |\n",
    "| ``np.argmax``     | ``np.nanargmax``    | Find index of maximum value                   |\n",
    "| ``np.median``     | ``np.nanmedian``    | Compute median of elements                    |\n",
    "| ``np.percentile`` | ``np.nanpercentile``| Compute rank-based statistics of elements     |\n",
    "| ``np.any``        | N/A                 | Evaluate whether any elements are true        |\n",
    "| ``np.all``        | N/A                 | Evaluate whether all elements are true        |"
   ]
  },
  {
   "cell_type": "code",
   "execution_count": null,
   "metadata": {},
   "outputs": [],
   "source": []
  },
  {
   "cell_type": "code",
   "execution_count": null,
   "metadata": {},
   "outputs": [],
   "source": []
  },
  {
   "cell_type": "markdown",
   "metadata": {},
   "source": [
    "###### 예) 집계 "
   ]
  },
  {
   "cell_type": "code",
   "execution_count": 111,
   "metadata": {},
   "outputs": [
    {
     "name": "stdout",
     "output_type": "stream",
     "text": [
      "[189 170 189 163 183 171 185 168 173 183 173 173 175 178 183 193 178 173\n",
      " 174 183 183 168 170 178 182 180 183 178 182 188 175 179 183 193 182 183\n",
      " 177 185 188 188 182 185]\n"
     ]
    }
   ],
   "source": [
    "import pandas as pd\n",
    "data = pd.read_csv('data/president_heights.csv')\n",
    "heights = np.array(data['height(cm)'])\n",
    "print(heights)"
   ]
  },
  {
   "cell_type": "code",
   "execution_count": null,
   "metadata": {},
   "outputs": [],
   "source": [
    "print(\"Mean height:       \", heights.mean())\n",
    "print(\"Standard deviation:\", heights.std())\n",
    "print(\"Minimum height:    \", heights.min())\n",
    "print(\"Maximum height:    \", heights.max())"
   ]
  }
 ],
 "metadata": {
  "kernelspec": {
   "display_name": "Python 3",
   "language": "python",
   "name": "python3"
  },
  "language_info": {
   "codemirror_mode": {
    "name": "ipython",
    "version": 3
   },
   "file_extension": ".py",
   "mimetype": "text/x-python",
   "name": "python",
   "nbconvert_exporter": "python",
   "pygments_lexer": "ipython3",
   "version": "3.6.8"
  }
 },
 "nbformat": 4,
 "nbformat_minor": 2
}
