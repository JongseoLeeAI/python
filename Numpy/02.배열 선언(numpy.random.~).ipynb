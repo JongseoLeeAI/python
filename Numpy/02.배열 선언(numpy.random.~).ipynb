{
 "cells": [
  {
   "cell_type": "markdown",
   "metadata": {},
   "source": [
    "# 배열 선언\n",
    "\n",
    "### [파이썬 리스트 만들기]\n",
    "1. 정수형 리스트\n",
    "2. 문자열 리스트\n",
    "3. 동적타이핑 리스트\n",
    "4. 고정타입 배열\n",
    "\n",
    "### [Numpy 배열 만들기]\n",
    "1. np.array\n",
    "2. np.zeros\n",
    "3. np.ones\n",
    "4. np.full\n",
    "5. np.arange\n",
    "6. np.linspace\n",
    "7. np.random.random\n",
    "8. np.random.normal\n",
    "9. np.random.randint\n",
    "10. np.random.uniform\n",
    "11. np.eye"
   ]
  },
  {
   "cell_type": "markdown",
   "metadata": {},
   "source": [
    "### [ Random 변수 만들기 ] - numpy.random함수\n"
   ]
  },
  {
   "cell_type": "markdown",
   "metadata": {},
   "source": [
    "| function\t    | Desc.                                 | define                                               |\n",
    "|---------------|---------------------------------------|------------------------------------------------------|\n",
    "| seed          | 난수 생성기의 시드를 지정                   | [`numpy.random.seed(seed=None)`](https://docs.scipy.org/doc/numpy/reference/generated/numpy.random.seed.html#numpy.random.seed)                       |\n",
    "| permutation   | 순서를 임의로 바꾸거나 임의의 순열을 반환       | [`numpy.random.permutation(x)`](https://docs.scipy.org/doc/numpy/reference/generated/numpy.random.permutation.html#numpy.random.permutation)                        |\n",
    "| shuffle       | 리스트나 배열의 순서를 뒤섞음                | [`numpy.random.shuffle(x)`](https://docs.scipy.org/doc/numpy/reference/generated/numpy.random.shuffle.html#numpy.random.shuffle)                            |\n",
    "| rand          | 균등분포에서 표본을 추출                    | [`numpy.random.rand(d0, d1, ..., dn)`](https://docs.scipy.org/doc/numpy/reference/generated/numpy.random.rand.html#numpy.random.rand)                 |\n",
    "| radint        | 주어진 최소,최대 범위 안에서 임의의 난수르 추출  | [`numpy.random.randint(low, high=None, size=None, dtype='l')`](https://docs.scipy.org/doc/numpy/reference/generated/numpy.random.randint.html#numpy.random.randint) |\n",
    "| randn         | 표준편차가 1이고 평균값이 0인 정규분포 표본 추출 | [`numpy.random.randn(d0, d1, ..., dn)`](https://docs.scipy.org/doc/numpy/reference/generated/numpy.random.randn.html#numpy.random.randn)                |\n",
    "| binomial      | 이항분포에서 표본추출                      | [`numpy.random.binomial(n, p, size=None)`](https://docs.scipy.org/doc/numpy/reference/generated/numpy.random.binomial.html#numpy.random.binomial)             | \n",
    "| normal        | 정규분포(가우시안)에서 표본 추출             | [`numpy.random.normal(loc=0.0, scale=1.0, size=None)`](https://docs.scipy.org/doc/numpy/reference/generated/numpy.random.normal.html#numpy.random.normal) |\n",
    "| beta          | 베타분포에서 표본 추출                     | [`numpy.random.beta(a, b, size=None)`](https://docs.scipy.org/doc/numpy/reference/generated/numpy.random.beta.html#numpy.random.beta)                 |\n",
    "| chisquare     | 카이제곱분포에서 표본 추출                  | [`numpy.random.chisquare(df, size=None)`](https://docs.scipy.org/doc/numpy/reference/generated/numpy.random.chisquare.html#numpy.random.chisquare)              | \n",
    "| gamma         | 감마분포에서 표본 추출                     | [`numpy.random.gamma(shape, scale=1.0, size=None)`](https://docs.scipy.org/doc/numpy/reference/generated/numpy.random.gamma.html#numpy.random.gamma)    |\n",
    "| uniform       | 균등(0~1) 분포에서 표본을 추출              | [`numpy.random.uniform(low=0.0, high=1.0, size=None)`](https://docs.scipy.org/doc/numpy/reference/generated/numpy.random.uniform.html#numpy.random.uniform) |"
   ]
  },
  {
   "cell_type": "code",
   "execution_count": 2,
   "metadata": {},
   "outputs": [],
   "source": [
    "import numpy as np"
   ]
  },
  {
   "cell_type": "markdown",
   "metadata": {},
   "source": [
    "## [파이썬  리스트 만들기]\n",
    "\n",
    "- 파이썬은 동적타이핑(dynamic typing) ```서로 다른 데이터 타입의 요소를 가지는 리스트```를 만들 수 있음\n",
    "- 유연성은 있지만 리스트의 각 항목에 타입정보와 참조 횟수, 기타 정보가 들어가게 되어 효율성은 떨어짐"
   ]
  },
  {
   "cell_type": "markdown",
   "metadata": {},
   "source": [
    "###### 1. 정수형 리스트"
   ]
  },
  {
   "cell_type": "code",
   "execution_count": 13,
   "metadata": {},
   "outputs": [
    {
     "name": "stdout",
     "output_type": "stream",
     "text": [
      "[0, 1, 2, 3, 4, 5, 6, 7, 8, 9]\n",
      "L_integer type :  <class 'list'>\n",
      "elements of L_integer type :  <class 'int'>\n"
     ]
    }
   ],
   "source": [
    "L_integer = list(range(10))\n",
    "print(L_integer)\n",
    "print(\"L_integer type : \",type(L_integer))\n",
    "print(\"Elements of L_integer type : \",type(L_integer[0]))"
   ]
  },
  {
   "cell_type": "code",
   "execution_count": null,
   "metadata": {},
   "outputs": [],
   "source": []
  },
  {
   "cell_type": "markdown",
   "metadata": {},
   "source": [
    "###### 2. 문자열 리스트\n",
    "\n",
    "  - **List comprehension** : 리스트 안에 for문을 포함하는 리스트 내포\n",
    "  \n",
    "  - **List comprehension 단일 for문** \n",
    "    - 문법\n",
    "    <pre><code>\n",
    "    [표현식 for 항목 in 반복가능객체 if 조건문]\n",
    "    </code></pre>\n",
    "    - 예\n",
    "    <pre><code>    \n",
    "    >>> a = [1,2,3,4]\n",
    "    >>> result = [num * 3 for num in a if num % 2 == 0]\n",
    "    >>> print(result)\n",
    "    [6, 12]\n",
    "    </code></pre>\n",
    "  - **List comprehension 다중 for문**\n",
    "    - 문법\n",
    "    <pre><code>\n",
    "    [표현식 for 항목1 in 반복가능객체1 if 조건문1\n",
    "              for 항목2 in 반복가능객체2 if 조건문2\n",
    "              ...\n",
    "                for 항목n in 반복가능객체n if 조건문n]    \n",
    "    </code></pre>\n",
    "    - 예\n",
    "    <pre><code>\n",
    "    >>> result = [x*y for x in range(2,10)\n",
    "    ...               for y in range(1,10)]\n",
    "    >>> print(result)\n",
    "    [2, 4, 6, 8, 10, 12, 14, 16, 18, 3, 6, 9, 12, 15, 18, 21, 24, 27, 4, 8, 12, 16,\n",
    "    20, 24, 28, 32, 36, 5, 10, 15, 20, 25, 30, 35, 40, 45, 6, 12, 18, 24, 30, 36, 42\n",
    "    , 48, 54, 7, 14, 21, 28, 35, 42, 49, 56, 63, 8, 16, 24, 32, 40, 48, 56, 64, 72,\n",
    "    9, 18, 27, 36, 45, 54, 63, 72, 81]    \n",
    "    </code></pre>"
   ]
  },
  {
   "cell_type": "code",
   "execution_count": 16,
   "metadata": {},
   "outputs": [
    {
     "name": "stdout",
     "output_type": "stream",
     "text": [
      "['0', '1', '2', '3', '4', '5', '6', '7', '8', '9']\n",
      "L_str type :  <class 'list'>\n",
      "Elemtns of L_str type :  <class 'str'>\n"
     ]
    }
   ],
   "source": [
    "# L_integer 리스트의 항목들을 string 형태로 변환하여 리스트 생성\n",
    "L_str = list([str(c) for c in L_integer])\n",
    "print(L_str)\n",
    "print(\"L_str type : \", type(L_str))\n",
    "print(\"Elemtns of L_str type : \", type(L_str[0]))"
   ]
  },
  {
   "cell_type": "code",
   "execution_count": null,
   "metadata": {},
   "outputs": [],
   "source": []
  },
  {
   "cell_type": "markdown",
   "metadata": {},
   "source": [
    "###### 3. 동적 타이핑 리스트"
   ]
  },
  {
   "cell_type": "code",
   "execution_count": 21,
   "metadata": {},
   "outputs": [
    {
     "name": "stdout",
     "output_type": "stream",
     "text": [
      "[1, '2', 3.5, 0.0042, False]\n",
      "L type :  <class 'list'>\n",
      "Element  0  type :  <class 'int'>\n",
      "Element  1  type :  <class 'str'>\n",
      "Element  2  type :  <class 'float'>\n",
      "Element  3  type :  <class 'float'>\n",
      "Element  4  type :  <class 'bool'>\n"
     ]
    }
   ],
   "source": [
    "L = [1,'2',3.5,4.2e-3, False]\n",
    "print(L)\n",
    "print(\"L type : \", type(L))\n",
    "for i in range(len(L)):\n",
    "    print(\"Element \",i,\" type : \", type(L[i]))"
   ]
  },
  {
   "cell_type": "code",
   "execution_count": null,
   "metadata": {},
   "outputs": [],
   "source": []
  },
  {
   "cell_type": "markdown",
   "metadata": {},
   "source": [
    "###### 4. 고정타입 배열\n",
    "  - 내장 array 모듈(파이썬 3.3 부터 제공)을 이용하여 **단일타입**의 조밀한 배열 사용 \n",
    "  - 내장 array 모듈의 타입은 array.array 임\n",
    "  - 사용법\n",
    "    - ```array.array('타입',리스트)``` \n",
    "  - doc : https://docs.python.org/3/library/array.html 에서 '타입' 종류 확인\n",
    "    - 'i': integer\n",
    "    - 'f': float     \n",
    "  "
   ]
  },
  {
   "cell_type": "code",
   "execution_count": 32,
   "metadata": {},
   "outputs": [
    {
     "name": "stdout",
     "output_type": "stream",
     "text": [
      "[0, 1, 2, 3, 4, 5, 6, 7, 8, 9]\n",
      "array('i', [0, 1, 2, 3, 4, 5, 6, 7, 8, 9])\n",
      "A type :  <class 'array.array'>\n",
      "A index 0 :  0\n",
      "A index 1 :  1\n"
     ]
    }
   ],
   "source": [
    "import array\n",
    "print(L_integer)\n",
    "A = array.array('i', L_integer)\n",
    "print(A)\n",
    "print(\"A type : \", type(A))\n",
    "print(\"A index 0 : \",A[0])\n",
    "print(\"A index 1 : \",A[1])"
   ]
  },
  {
   "cell_type": "code",
   "execution_count": null,
   "metadata": {},
   "outputs": [],
   "source": []
  },
  {
   "cell_type": "markdown",
   "metadata": {},
   "source": [
    "## [Numpy 배열 만들기]\n",
    "- Numpy는 배열에 ```모든 요소가 같은 타입```이어야 함\n",
    "- 같은 타입이 아닌 경우에는 상위 타입으로 변경됨 ( string > float > integer )\n",
    "- The N-dimensional array (ndarray)\n",
    "  - class numpy.ndarray(shape, dtype=float, buffer=None, offset=0, strides=None, order=None)\n",
    "- Numpy DOC : https://docs.scipy.org/doc/numpy/genindex.html"
   ]
  },
  {
   "cell_type": "markdown",
   "metadata": {},
   "source": [
    "**dtype 종류**\n",
    "\n",
    "- boolean (bool형) : True / Flase\n",
    "  - bool\n",
    "- integers (정수형) : -2, 6\n",
    "  - int8  : 1 bits, typecode i1\n",
    "  - int16 : 2 bits, typecode i2\n",
    "  - int32 : 4 bits, typecode i4\n",
    "  - int64 : 8 bits, typecode i8\n",
    "- unsigned integer (부호없는 양수 정수형) : 2.1\n",
    "  - uint8  : 1 bits, typecode u1\n",
    "  - uint16 : 2 bits, typecode u2\n",
    "  - uint32 : 4 bits, typecode u4\n",
    "  - uint64 : 8 bits, typecode u8\n",
    "- floating points (부동소수형) : -2.4\n",
    "  - float16 : 2 bits, typecode f2\n",
    "  - float32 : 4 bits, typecode f4\n",
    "  - float64 : 8 bits, typecode f8\n",
    "- comples (실수 + 허수) : 1+2j (python 에서 허수 i를 j로 표현하여 사용함)\n",
    "  - complex64  :  8 bits, typecode c8\n",
    "  - complex128 : 16 bits, typecode c16 \n",
    "- string (문자형) : 'String'\n",
    "  - string_ : typecode S "
   ]
  },
  {
   "cell_type": "markdown",
   "metadata": {},
   "source": [
    "###### 1. np.array\n",
    "- ```numpy.array(object, dtype=None, copy=True, order='K', subok=False, ndmin=0)```\n",
    "- object(배열을 만들기 위한 데이터) 파리미터는 리스트, 튜플, 정수형 으로 입력 가능 "
   ]
  },
  {
   "cell_type": "markdown",
   "metadata": {},
   "source": [
    "- **선언**"
   ]
  },
  {
   "cell_type": "code",
   "execution_count": 155,
   "metadata": {},
   "outputs": [
    {
     "name": "stdout",
     "output_type": "stream",
     "text": [
      "10\n",
      "10\n",
      "[10]\n"
     ]
    }
   ],
   "source": [
    "# np.array 에서 shape은 numpy 배열을 만들기 위한 요소(object)가 들어감\n",
    "# 입력한 10을 배열로 만들어 냄\n",
    "print(np.array(10))\n",
    "print(np.array((10)))\n",
    "print(np.array([10]))"
   ]
  },
  {
   "cell_type": "code",
   "execution_count": 152,
   "metadata": {},
   "outputs": [
    {
     "name": "stdout",
     "output_type": "stream",
     "text": [
      "[1 2 3 4]\n",
      "np_arr type :  <class 'numpy.ndarray'>\n",
      "Elements of np_arr type :  int64\n",
      "np_arr shape :  (4,)\n"
     ]
    }
   ],
   "source": [
    "np_arr = np.array([1,2,3,4])\n",
    "print(np_arr)\n",
    "print(\"np_arr type : \",type(np_arr))\n",
    "print(\"Elements of np_arr type : \",np_arr.dtype)\n",
    "print(\"np_arr shape : \",np_arr.shape)"
   ]
  },
  {
   "cell_type": "code",
   "execution_count": 151,
   "metadata": {},
   "outputs": [
    {
     "name": "stdout",
     "output_type": "stream",
     "text": [
      "[1.  2.  3.3 4.  5. ]\n",
      "np_arr2 type :  <class 'numpy.ndarray'>\n",
      "Elements of np_arr2 type :  float64\n",
      "np_arr2 shape :  (5,)\n"
     ]
    }
   ],
   "source": [
    "np_arr2 = np.array([1,2,3.3,4, 5])\n",
    "print(np_arr2)\n",
    "print(\"np_arr2 type : \",type(np_arr2))\n",
    "print (\"Elements of np_arr2 type : \",np_arr2.dtype)\n",
    "print(\"np_arr2 shape : \",np_arr2.shape)"
   ]
  },
  {
   "cell_type": "markdown",
   "metadata": {},
   "source": [
    "- **dtype 지정해서 선언**"
   ]
  },
  {
   "cell_type": "code",
   "execution_count": 56,
   "metadata": {},
   "outputs": [
    {
     "name": "stdout",
     "output_type": "stream",
     "text": [
      "[1. 2. 3.]\n",
      "np_arr3 type :  <class 'numpy.ndarray'>\n",
      "Elements of np_arr3 type :  float32\n",
      "np_arr3 shape :  (3,)\n"
     ]
    }
   ],
   "source": [
    "np_arr3 = np.array([1,2,3], dtype='float32')\n",
    "print(np_arr3)\n",
    "print(\"np_arr3 type : \", type(np_arr3))\n",
    "print(\"Elements of np_arr3 type : \",np_arr3.dtype)\n",
    "print(\"np_arr3 shape : \",np_arr3.shape)"
   ]
  },
  {
   "cell_type": "markdown",
   "metadata": {},
   "source": [
    "- **다차원 배열 선언**"
   ]
  },
  {
   "cell_type": "code",
   "execution_count": 77,
   "metadata": {},
   "outputs": [
    {
     "name": "stdout",
     "output_type": "stream",
     "text": [
      "[[ 2  3  4]\n",
      " [ 4  5  6]\n",
      " [ 6  7  8]\n",
      " [ 8  9 10]]\n",
      "np_arr4 type :  <class 'numpy.ndarray'>\n",
      "Elements of np_arr4 type :  int64\n",
      "np_arr4 shape :  (4, 3)\n"
     ]
    }
   ],
   "source": [
    "np_arr4 = np.array([range(i, i+3) for i in [2,4,6,8]])\n",
    "print(np_arr4)\n",
    "print(\"np_arr4 type : \", type(np_arr4))\n",
    "print(\"Elements of np_arr4 type : \",np_arr4.dtype)\n",
    "print(\"np_arr4 shape : \",np_arr4.shape)"
   ]
  },
  {
   "cell_type": "markdown",
   "metadata": {},
   "source": [
    "- **다차원 배열의 값에 접근**"
   ]
  },
  {
   "cell_type": "code",
   "execution_count": 119,
   "metadata": {},
   "outputs": [
    {
     "name": "stdout",
     "output_type": "stream",
     "text": [
      "배열이름(np_arr4)으로 접근 => 배열 값 모두 출력\n",
      "[[ 2  3  4]\n",
      " [ 4  5  6]\n",
      " [ 6  7  8]\n",
      " [ 8  9 10]]\n",
      "shape :  (4, 3)\n",
      "\n"
     ]
    }
   ],
   "source": [
    "print(\"배열이름(np_arr4)으로 접근 => 배열 값 모두 출력\")\n",
    "print(np_arr4)\n",
    "print(\"shape : \",np_arr4.shape)\n",
    "print()"
   ]
  },
  {
   "cell_type": "code",
   "execution_count": 120,
   "metadata": {},
   "outputs": [
    {
     "name": "stdout",
     "output_type": "stream",
     "text": [
      "np_arr4[0] => 첫번째 리스트 만 접근 \n",
      "[2 3 4]\n",
      "shape :  (3,)\n",
      "\n"
     ]
    }
   ],
   "source": [
    "print(\"np_arr4[0] => 첫번째 리스트 만 접근 \")\n",
    "print(np_arr4[0])\n",
    "print(\"shape : \",np_arr4[0].shape)\n",
    "print()"
   ]
  },
  {
   "cell_type": "code",
   "execution_count": 121,
   "metadata": {},
   "outputs": [
    {
     "name": "stdout",
     "output_type": "stream",
     "text": [
      "np_arr4[0:2] => 첫번째 두번째 리스트 접근(전체 차원을 유지 하면서)\n",
      "[[2 3 4]\n",
      " [4 5 6]]\n",
      "shaep :  (2, 3)\n",
      "\n"
     ]
    }
   ],
   "source": [
    "print(\"np_arr4[0:2] => 첫번째 두번째 리스트 접근(전체 차원을 유지 하면서)\")\n",
    "print(np_arr4[0:2])\n",
    "print(\"shaep : \",np_arr4[0:2].shape)\n",
    "print()"
   ]
  },
  {
   "cell_type": "code",
   "execution_count": 122,
   "metadata": {},
   "outputs": [
    {
     "name": "stdout",
     "output_type": "stream",
     "text": [
      "np_arr4[0][0] => 첫번째 데이터 값에 접근\n",
      "2\n",
      "shape :  ()\n",
      "\n"
     ]
    }
   ],
   "source": [
    "print(\"np_arr4[0][0] => 첫번째 데이터 값에 접근\")\n",
    "print(np_arr4[0][0])\n",
    "print(\"shape : \",np_arr4[0][0].shape)\n",
    "print()"
   ]
  },
  {
   "cell_type": "code",
   "execution_count": 123,
   "metadata": {},
   "outputs": [
    {
     "name": "stdout",
     "output_type": "stream",
     "text": [
      "np_arr4[0][0:2] => 첫번째 두번째 데이터 값에 접근\n",
      "[2 3]\n",
      "shape :  (2,)\n",
      "\n"
     ]
    }
   ],
   "source": [
    "print(\"np_arr4[0][0:2] => 첫번째 두번째 데이터 값에 접근\")\n",
    "print(np_arr4[0][0:2])\n",
    "print(\"shape : \",np_arr4[0][0:2].shape)\n",
    "print()"
   ]
  },
  {
   "cell_type": "code",
   "execution_count": 124,
   "metadata": {},
   "outputs": [
    {
     "name": "stdout",
     "output_type": "stream",
     "text": [
      "[6 7 8]\n",
      "[6 7 8]\n",
      "[[6 7 8]]\n",
      "(3,)\n",
      "(3,)\n",
      "(1, 3)\n"
     ]
    }
   ],
   "source": [
    "print(np_arr4[2][:])\n",
    "print(np_arr4[2])\n",
    "print(np_arr4[2:-1][:])\n",
    "\n",
    "print(np_arr4[2][:].shape)\n",
    "print(np_arr4[2].shape)\n",
    "print(np_arr4[2:-1][:].shape)"
   ]
  },
  {
   "cell_type": "markdown",
   "metadata": {},
   "source": [
    "###### 2. np.zeors\n",
    "- 0으로 채운 배열 생성\n",
    "- ```numpy.zeros(shape, dtype=float, order='C')```\n",
    "- shape 파리미터는 리스트, 튜플, 정수형 으로 입력 가능 \n",
    "- default data type : float64"
   ]
  },
  {
   "cell_type": "code",
   "execution_count": 164,
   "metadata": {},
   "outputs": [
    {
     "name": "stdout",
     "output_type": "stream",
     "text": [
      "[0. 0. 0. 0. 0. 0. 0. 0. 0. 0.]\n",
      "[0. 0. 0. 0. 0. 0. 0. 0. 0. 0.]\n",
      "[0. 0. 0. 0. 0. 0. 0. 0. 0. 0.]\n"
     ]
    }
   ],
   "source": [
    "print(np.zeros(shape=10))\n",
    "print(np.zeros(shape=(10)))\n",
    "print(np.zeros(shape=[10]))"
   ]
  },
  {
   "cell_type": "code",
   "execution_count": 165,
   "metadata": {},
   "outputs": [
    {
     "name": "stdout",
     "output_type": "stream",
     "text": [
      "[0. 0. 0. 0. 0. 0. 0. 0. 0. 0.]\n",
      "np_zero type :  <class 'numpy.ndarray'>\n",
      "Elements of np_zero type :  float64\n",
      "np_zero shape :  (10,)\n"
     ]
    }
   ],
   "source": [
    "np_zero = np.zeros([10])\n",
    "print(np_zero)\n",
    "print(\"np_zero type : \",type(np_zero))\n",
    "print(\"Elements of np_zero type : \",np_zero.dtype)\n",
    "print(\"np_zero shape : \",np_zero.shape)"
   ]
  },
  {
   "cell_type": "code",
   "execution_count": 166,
   "metadata": {},
   "outputs": [
    {
     "name": "stdout",
     "output_type": "stream",
     "text": [
      "[[0. 0. 0.]\n",
      " [0. 0. 0.]]\n",
      "np_zero2 type :  <class 'numpy.ndarray'>\n",
      "Elements of np_zero2 type :  float64\n",
      "np_zero2 shape :  (2, 3)\n"
     ]
    }
   ],
   "source": [
    "np_zero2 = np.zeros(shape=[2,3])\n",
    "print(np_zero2)\n",
    "print(\"np_zero2 type : \",type(np_zero2))\n",
    "print(\"Elements of np_zero2 type : \",np_zero2.dtype)\n",
    "print(\"np_zero2 shape : \",np_zero2.shape)"
   ]
  },
  {
   "cell_type": "markdown",
   "metadata": {},
   "source": [
    "###### 3. np.ones\n",
    "- 1로 채운 배열 생성\n",
    "- ```numpy.ones(shape, dtype=None, order='C')```\n",
    "- shape 파리미터는 리스트, 튜플, 정수형 으로 입력 가능 \n",
    "- default data type : float64"
   ]
  },
  {
   "cell_type": "code",
   "execution_count": 168,
   "metadata": {},
   "outputs": [
    {
     "name": "stdout",
     "output_type": "stream",
     "text": [
      "[1. 1. 1. 1. 1. 1. 1. 1. 1. 1.]\n",
      "[1. 1. 1. 1. 1. 1. 1. 1. 1. 1.]\n",
      "[1. 1. 1. 1. 1. 1. 1. 1. 1. 1.]\n"
     ]
    }
   ],
   "source": [
    "print(np.ones(shape=10))\n",
    "print(np.ones(shape=(10)))\n",
    "print(np.ones(shape=[10]))"
   ]
  },
  {
   "cell_type": "code",
   "execution_count": 167,
   "metadata": {},
   "outputs": [
    {
     "name": "stdout",
     "output_type": "stream",
     "text": [
      "[[[1. 1. 1. 1. 1.]\n",
      "  [1. 1. 1. 1. 1.]]\n",
      "\n",
      " [[1. 1. 1. 1. 1.]\n",
      "  [1. 1. 1. 1. 1.]]\n",
      "\n",
      " [[1. 1. 1. 1. 1.]\n",
      "  [1. 1. 1. 1. 1.]]\n",
      "\n",
      " [[1. 1. 1. 1. 1.]\n",
      "  [1. 1. 1. 1. 1.]]]\n",
      "np_one type :  <class 'numpy.ndarray'>\n",
      "Elements of np_one type :  float64\n",
      "np_one shape :  (4, 2, 5)\n"
     ]
    }
   ],
   "source": [
    "np_one = np.ones(shape=[4,2,5])\n",
    "print(np_one)\n",
    "print(\"np_one type : \",type(np_one))\n",
    "print(\"Elements of np_one type : \",np_one.dtype)\n",
    "print(\"np_one shape : \",np_one.shape)"
   ]
  },
  {
   "cell_type": "markdown",
   "metadata": {},
   "source": [
    "- 3차원 이상의 배열을 만들었을때 접근 하는 방법\n",
    "  - ex) shape = **[i,j,k]** 일때\n",
    "    <pre><code>\n",
    "    [\n",
    "      i1->[ \n",
    "            j1->[k1. k2. k3. ~ kn]\n",
    "            j2->[k1. k2. k3. ~ kn]\n",
    "            j3->[k1. k2. k3. ~ kn]\n",
    "            ~\n",
    "            jn->[k1. k2. k3. ~ kn]\n",
    "      i1->]\n",
    "      i2->[\n",
    "            j1->[k1. k2. k3. ~ kn]\n",
    "            j2->[k1. k2. k3. ~ kn]\n",
    "            j3->[k1. k2. k3. ~ kn]\n",
    "            ~\n",
    "            jn->[k1. k2. k3. ~ kn]\n",
    "      i2->]\n",
    "      ~\n",
    "      in->[\n",
    "            j1->[k1. k2. k3. ~ kn]\n",
    "            j2->[k1. k2. k3. ~ kn]\n",
    "            j3->[k1. k2. k3. ~ kn]\n",
    "            ~\n",
    "            jn->[k1. k2. k3. ~ kn]\n",
    "      in->]\n",
    "    ]    \n",
    "    </code></pre>\n",
    "  - 가장 밖의 '[ ]' 표시는 배열이라는 의미로 보면됨\n",
    "  - shape을 정의 할때 가장 마지막 나오는 값을 배열에 들어가 있는 데이터 값의 수로 보면 됨   "
   ]
  },
  {
   "cell_type": "markdown",
   "metadata": {},
   "source": [
    "###### 4. np.full\n",
    "- 지정한 데이터로 값을 채운 배열 선언\n",
    "- ```numpy.full(shape, fill_value, dtype=None, order='C')```\n",
    "- shape 파리미터는 리스트, 튜플, 정수형 으로 입력 가능\n",
    "- data type 은 지정한 데이터의 type을 가지게 됨\n",
    "- **shape, fill_value 값은 기본으로 입력 해야함**"
   ]
  },
  {
   "cell_type": "code",
   "execution_count": 170,
   "metadata": {},
   "outputs": [
    {
     "name": "stdout",
     "output_type": "stream",
     "text": [
      "[99 99 99 99 99 99 99 99 99 99]\n",
      "[99 99 99 99 99 99 99 99 99 99]\n",
      "[99 99 99 99 99 99 99 99 99 99]\n"
     ]
    }
   ],
   "source": [
    "print(np.full(shape=10, fill_value=99))\n",
    "print(np.full(shape=(10), fill_value=99))\n",
    "print(np.full(shape=[10], fill_value=99))"
   ]
  },
  {
   "cell_type": "code",
   "execution_count": 175,
   "metadata": {},
   "outputs": [
    {
     "name": "stdout",
     "output_type": "stream",
     "text": [
      "[[[2.22 2.22 2.22 2.22]\n",
      "  [2.22 2.22 2.22 2.22]]\n",
      "\n",
      " [[2.22 2.22 2.22 2.22]\n",
      "  [2.22 2.22 2.22 2.22]]\n",
      "\n",
      " [[2.22 2.22 2.22 2.22]\n",
      "  [2.22 2.22 2.22 2.22]]]\n",
      "np_full type :  <class 'numpy.ndarray'>\n",
      "Elements of np_full type :  float64\n",
      "np_full shape :  (3, 2, 4)\n"
     ]
    }
   ],
   "source": [
    "np_full = np.full(shape=(3,2,4), fill_value=2.22)\n",
    "print(np_full)\n",
    "print(\"np_full type : \",type(np_full))\n",
    "print(\"Elements of np_full type : \",np_full.dtype)\n",
    "print(\"np_full shape : \",np_full.shape)"
   ]
  },
  {
   "cell_type": "markdown",
   "metadata": {},
   "source": [
    "###### 5. np.arange\n",
    "- 선형 수열로 채운 배열 생성\n",
    "- ```numpy.arange([start, ]stop, [step, ]dtype=None)```"
   ]
  },
  {
   "cell_type": "code",
   "execution_count": 178,
   "metadata": {},
   "outputs": [
    {
     "name": "stdout",
     "output_type": "stream",
     "text": [
      "[0. 2. 4. 6. 8.]\n"
     ]
    }
   ],
   "source": [
    "# start 0 stop 10 step 2 \n",
    "print(np.arange(0,10,2, dtype='float64'))"
   ]
  },
  {
   "cell_type": "code",
   "execution_count": 180,
   "metadata": {},
   "outputs": [],
   "source": [
    "np_arange = np.arange(100,0,-10)"
   ]
  },
  {
   "cell_type": "code",
   "execution_count": 181,
   "metadata": {},
   "outputs": [
    {
     "data": {
      "text/plain": [
       "array([100,  90,  80,  70,  60,  50,  40,  30,  20,  10])"
      ]
     },
     "execution_count": 181,
     "metadata": {},
     "output_type": "execute_result"
    }
   ],
   "source": [
    "np_arange"
   ]
  },
  {
   "cell_type": "code",
   "execution_count": 182,
   "metadata": {},
   "outputs": [
    {
     "name": "stdout",
     "output_type": "stream",
     "text": [
      "[100  90  80  70  60  50  40  30  20  10]\n",
      "np_arange type :  <class 'numpy.ndarray'>\n",
      "Elements of np_arange type :  int64\n",
      "np_arange shape :  (10,)\n"
     ]
    }
   ],
   "source": [
    "print(np_arange)\n",
    "print(\"np_arange type : \",type(np_arange))\n",
    "print(\"Elements of np_arange type : \",np_arange.dtype)\n",
    "print(\"np_arange shape : \",np_arange.shape)"
   ]
  },
  {
   "cell_type": "markdown",
   "metadata": {},
   "source": [
    "###### 6. np.linsapce\n",
    "- 지정한 값 사이에서 일정한 간격을 가지는 값으로 채운 배열 생성\n",
    "- ```numpy.linspace(start, stop, num=50, endpoint=True, retstep=False, dtype=None, axis=0)```"
   ]
  },
  {
   "cell_type": "markdown",
   "metadata": {},
   "source": [
    "- **endpoint** = True / False"
   ]
  },
  {
   "cell_type": "code",
   "execution_count": 195,
   "metadata": {},
   "outputs": [
    {
     "data": {
      "text/plain": [
       "array([2. , 2.2, 2.4, 2.6, 2.8])"
      ]
     },
     "execution_count": 195,
     "metadata": {},
     "output_type": "execute_result"
    }
   ],
   "source": [
    "# endpoint = False : stop 에 지정한 값이 포함 안되도록 값을 채움\n",
    "np_linspace = np.linspace(2.0, 3.0, num=5, endpoint=False)\n",
    "np_linspace"
   ]
  },
  {
   "cell_type": "code",
   "execution_count": 196,
   "metadata": {},
   "outputs": [
    {
     "name": "stdout",
     "output_type": "stream",
     "text": [
      "[2.  2.2 2.4 2.6 2.8]\n"
     ]
    }
   ],
   "source": [
    "print(np_linspace)"
   ]
  },
  {
   "cell_type": "code",
   "execution_count": 197,
   "metadata": {},
   "outputs": [
    {
     "data": {
      "text/plain": [
       "array([2.  , 2.25, 2.5 , 2.75, 3.  ])"
      ]
     },
     "execution_count": 197,
     "metadata": {},
     "output_type": "execute_result"
    }
   ],
   "source": [
    "# endpoint = True : stop 에 지정한 값이 포함 되도록 값을 채움\n",
    "np_linspace2 = np.linspace(2.0, 3.0, num=5, endpoint=True)\n",
    "np_linspace2"
   ]
  },
  {
   "cell_type": "code",
   "execution_count": 198,
   "metadata": {},
   "outputs": [
    {
     "name": "stdout",
     "output_type": "stream",
     "text": [
      "[2.   2.25 2.5  2.75 3.  ]\n"
     ]
    }
   ],
   "source": [
    "print(np_linspace2)"
   ]
  },
  {
   "cell_type": "markdown",
   "metadata": {},
   "source": [
    "- **restep** = True / False\n",
    "  - True 일때 튜플 형태로 값을 반환(배열, 데이터 간격)"
   ]
  },
  {
   "cell_type": "code",
   "execution_count": 211,
   "metadata": {},
   "outputs": [
    {
     "data": {
      "text/plain": [
       "(array([2.  , 2.25, 2.5 , 2.75, 3.  ]), 0.25)"
      ]
     },
     "execution_count": 211,
     "metadata": {},
     "output_type": "execute_result"
    }
   ],
   "source": [
    "np_linspace3 = np.linspace(2.0, 3.0, num=5, retstep=True)\n",
    "np_linspace3                 "
   ]
  },
  {
   "cell_type": "code",
   "execution_count": 218,
   "metadata": {},
   "outputs": [
    {
     "name": "stdout",
     "output_type": "stream",
     "text": [
      "(array([2.  , 2.25, 2.5 , 2.75, 3.  ]), 0.25)\n"
     ]
    }
   ],
   "source": [
    "print(np_linspace3)"
   ]
  },
  {
   "cell_type": "code",
   "execution_count": 219,
   "metadata": {},
   "outputs": [
    {
     "data": {
      "text/plain": [
       "array([2.  , 2.25, 2.5 , 2.75, 3.  ])"
      ]
     },
     "execution_count": 219,
     "metadata": {},
     "output_type": "execute_result"
    }
   ],
   "source": [
    "np_linspace4, step = np.linspace(2.0, 3.0, num=5, retstep=True)\n",
    "np_linspace4"
   ]
  },
  {
   "cell_type": "code",
   "execution_count": 220,
   "metadata": {},
   "outputs": [
    {
     "name": "stdout",
     "output_type": "stream",
     "text": [
      "[2.   2.25 2.5  2.75 3.  ]\n"
     ]
    }
   ],
   "source": [
    "print(np_linspace4)"
   ]
  },
  {
   "cell_type": "code",
   "execution_count": 214,
   "metadata": {},
   "outputs": [
    {
     "data": {
      "text/plain": [
       "0.25"
      ]
     },
     "execution_count": 214,
     "metadata": {},
     "output_type": "execute_result"
    }
   ],
   "source": [
    "step"
   ]
  },
  {
   "cell_type": "code",
   "execution_count": 223,
   "metadata": {},
   "outputs": [
    {
     "data": {
      "text/plain": [
       "array([2.  , 2.25, 2.5 , 2.75, 3.  ])"
      ]
     },
     "execution_count": 223,
     "metadata": {},
     "output_type": "execute_result"
    }
   ],
   "source": [
    "np_linspace5 = np.linspace(2.0, 3.0, num=5, retstep=False)\n",
    "np_linspace5"
   ]
  },
  {
   "cell_type": "code",
   "execution_count": 224,
   "metadata": {},
   "outputs": [
    {
     "name": "stdout",
     "output_type": "stream",
     "text": [
      "[2.   2.25 2.5  2.75 3.  ]\n"
     ]
    }
   ],
   "source": [
    "print(np_linspace5)"
   ]
  },
  {
   "cell_type": "markdown",
   "metadata": {},
   "source": [
    "###### 7. np.random.random\n",
    "- 0~1 사이를 균등하게 분포하는 난수로 배열 생성\n",
    "- ```numpy.random.random(size=None)```\n",
    "- size 파리미터는 리스트, 튜플, 정수형 으로 입력 가능"
   ]
  },
  {
   "cell_type": "code",
   "execution_count": 232,
   "metadata": {},
   "outputs": [
    {
     "name": "stdout",
     "output_type": "stream",
     "text": [
      "[0.4780419  0.09899468 0.27539478 0.79442731 0.51397031]\n",
      "[0.45329481 0.25515125 0.1139766  0.82431305 0.3177535 ]\n",
      "[0.15230703 0.21497959 0.91211032 0.04311515 0.37595241]\n"
     ]
    }
   ],
   "source": [
    "# np.random.seed : 항상 같은 랜덤한 값이 나오게 함\n",
    "#np.random.seed(321)\n",
    "print(np.random.random(size=5))\n",
    "print(np.random.random(size=(5)))\n",
    "print(np.random.random(size=[5]))"
   ]
  },
  {
   "cell_type": "code",
   "execution_count": 230,
   "metadata": {},
   "outputs": [
    {
     "name": "stdout",
     "output_type": "stream",
     "text": [
      "[[0.4780419  0.09899468 0.27539478 0.79442731 0.51397031]\n",
      " [0.45329481 0.25515125 0.1139766  0.82431305 0.3177535 ]\n",
      " [0.15230703 0.21497959 0.91211032 0.04311515 0.37595241]\n",
      " [0.31796557 0.35403302 0.93335757 0.3885452  0.89593944]\n",
      " [0.14550322 0.4903603  0.9233404  0.8013113  0.84837182]]\n",
      "np_random type :  <class 'numpy.ndarray'>\n",
      "Elements of np_random type :  float64\n",
      "np_random shape :  (5, 5)\n"
     ]
    }
   ],
   "source": [
    "np_random = np.random.random(size=[5,5])\n",
    "print(np_random)\n",
    "print(\"np_random type : \",type(np_random))\n",
    "print(\"Elements of np_random type : \",np_random.dtype)\n",
    "print(\"np_random shape : \",np_random.shape)"
   ]
  },
  {
   "cell_type": "markdown",
   "metadata": {},
   "source": [
    "###### 8. np.random.normal\n",
    "- 정규분포(평균mu, 표준편차sigma 입력함)에 다르는 난수로 배열 생성\n",
    "- ```numpy.random.normal(loc=0.0, scale=1.0, size=None)```\n",
    "- size 파리미터는 리스트, 튜플, 정수형 으로 입력 가능"
   ]
  },
  {
   "cell_type": "code",
   "execution_count": 234,
   "metadata": {},
   "outputs": [
    {
     "name": "stdout",
     "output_type": "stream",
     "text": [
      "[-1.09228374 -1.36217968 -0.16598697  0.64538909  0.81507352]\n",
      "[-0.01855969  0.43338068  0.37483657 -0.88906098  0.41227425]\n",
      "[-1.03032386 -0.34120143 -2.04378667 -0.73763812  1.35830044]\n"
     ]
    }
   ],
   "source": [
    "print(np.random.normal(loc=0, scale=1, size=5))\n",
    "print(np.random.normal(loc=0, scale=1, size=(5)))\n",
    "print(np.random.normal(loc=0, scale=1, size=[5]))"
   ]
  },
  {
   "cell_type": "code",
   "execution_count": 235,
   "metadata": {},
   "outputs": [
    {
     "name": "stdout",
     "output_type": "stream",
     "text": [
      "[[[ 1.69810059  1.56799395  1.86149584  2.3641818   3.03147165]\n",
      "  [ 2.77661497  1.87237329  2.09788919  0.43366916  1.63787791]]\n",
      "\n",
      " [[ 2.21287089  2.26593464  0.60266619  2.19948576  1.76906646]\n",
      "  [ 2.1368354   3.84834368  3.06445024  0.46258923  2.07446026]]\n",
      "\n",
      " [[ 3.29183709  2.96663913  2.42195017  3.79578425  1.82044862]\n",
      "  [ 2.98244257  2.73638034  1.12800531  2.32279342 -0.28970202]]]\n",
      "np_normal type :  <class 'numpy.ndarray'>\n",
      "Elements of np_normal type :  float64\n",
      "np_normal shape :  (3, 2, 5)\n"
     ]
    }
   ],
   "source": [
    "# 1~3 사이의 값 생성됨 (평균=2, 표준편차=1)\n",
    "np_normal = np.random.normal(loc=2,scale=1,size=[3,2,5])\n",
    "print(np_normal)\n",
    "print(\"np_normal type : \",type(np_normal))\n",
    "print(\"Elements of np_normal type : \",np_normal.dtype)\n",
    "print(\"np_normal shape : \",np_normal.shape)"
   ]
  },
  {
   "cell_type": "code",
   "execution_count": 240,
   "metadata": {},
   "outputs": [
    {
     "data": {
      "image/png": "[encoded data removed]",
      "text/plain": [
       "<Figure size 432x288 with 1 Axes>"
      ]
     },
     "metadata": {},
     "output_type": "display_data"
    }
   ],
   "source": [
    "from matplotlib import pyplot as plt\n",
    "%matplotlib inline\n",
    "\n",
    "mu, sigma = 2, 1 # mean and standard deviation\n",
    "np_normal2 = np.random.normal(mu, sigma, 1000)\n",
    "\n",
    "count, bins, ignored = plt.hist(np_normal2, 30, density=True)\n",
    "plt.plot(bins, 1/(sigma * np.sqrt(2 * np.pi)) *\n",
    "               np.exp( - (bins - mu)**2 / (2 * sigma**2) ),\n",
    "         linewidth=2, color='r')\n",
    "plt.show()"
   ]
  },
  {
   "cell_type": "markdown",
   "metadata": {},
   "source": [
    "###### 9. np.random.randint\n",
    "- low~high 구간에서 정수형 난수로 배열 생성\n",
    "- ```numpy.random.randint(low, high=None, size=None, dtype='l')```\n",
    "- size 파리미터는 리스트, 튜플, 정수형 으로 입력 가능"
   ]
  },
  {
   "cell_type": "code",
   "execution_count": 242,
   "metadata": {},
   "outputs": [
    {
     "name": "stdout",
     "output_type": "stream",
     "text": [
      "[19  9 11  7 17  6 18 10  8 13]\n",
      "[ 2  8 13  0  7  3  7  8  3 19]\n",
      "[ 7  8 12 19  7  6  3 16 18  2]\n"
     ]
    }
   ],
   "source": [
    "print(np.random.randint(low=0, high=20, size=10))\n",
    "print(np.random.randint(low=0, high=20, size=(10)))\n",
    "print(np.random.randint(low=0, high=20, size=[10]))"
   ]
  },
  {
   "cell_type": "code",
   "execution_count": 243,
   "metadata": {},
   "outputs": [
    {
     "name": "stdout",
     "output_type": "stream",
     "text": [
      "[[[[11]\n",
      "   [ 6]\n",
      "   [ 7]]\n",
      "\n",
      "  [[ 5]\n",
      "   [ 4]\n",
      "   [ 0]]]\n",
      "\n",
      "\n",
      " [[[ 7]\n",
      "   [ 5]\n",
      "   [16]]\n",
      "\n",
      "  [[ 9]\n",
      "   [17]\n",
      "   [13]]]\n",
      "\n",
      "\n",
      " [[[ 6]\n",
      "   [16]\n",
      "   [18]]\n",
      "\n",
      "  [[17]\n",
      "   [ 9]\n",
      "   [ 6]]]\n",
      "\n",
      "\n",
      " [[[14]\n",
      "   [ 6]\n",
      "   [13]]\n",
      "\n",
      "  [[14]\n",
      "   [ 7]\n",
      "   [12]]]]\n",
      "np_randint type :  <class 'numpy.ndarray'>\n",
      "Elements of np_randint type :  int64\n",
      "np_randint shape :  (4, 2, 3, 1)\n"
     ]
    }
   ],
   "source": [
    "np_randint = np.random.randint(0, 20, size=[4,2,3,1])\n",
    "print(np_randint)\n",
    "print(\"np_randint type : \",type(np_randint))\n",
    "print(\"Elements of np_randint type : \",np_randint.dtype)\n",
    "print(\"np_randint shape : \",np_randint.shape)"
   ]
  },
  {
   "cell_type": "markdown",
   "metadata": {},
   "source": [
    "###### 10. np.random.uniform\n",
    "- low ~ high 사이의 균일한 분포의 난수 배열 생성\n",
    "- ```numpy.random.uniform(low=0.0, high=1.0, size=None)```\n",
    "- size 파리미터는 리스트, 튜플, 정수형 으로 입력 가능\n",
    "\n",
    "- **기타 random 배열 생성**\n",
    "  - numpy.random.lognormal(mean, sigma, size)를 이용하여 평균과 시그마를 대입한 로그 정규 분포의 무작위 배열을 반환\n",
    "  - numpy.random.laplace(loc, scale, size) : μ와 λ를 대입한 라플라스 분포의 무작위 배열을 반환"
   ]
  },
  {
   "cell_type": "code",
   "execution_count": 245,
   "metadata": {},
   "outputs": [
    {
     "name": "stdout",
     "output_type": "stream",
     "text": [
      "[11.33392985 16.89071474 13.72899085 17.09569537]\n",
      "[ 6.56680324  8.11714849  3.96775814 17.87545414]\n",
      "[4.92604262 5.38077601 9.65128469 1.05436869]\n"
     ]
    }
   ],
   "source": [
    "print(np.random.uniform(low=0, high=20, size=4))\n",
    "print(np.random.uniform(low=0, high=20, size=(4)))\n",
    "print(np.random.uniform(low=0, high=20, size=[4]))"
   ]
  },
  {
   "cell_type": "code",
   "execution_count": 246,
   "metadata": {},
   "outputs": [
    {
     "name": "stdout",
     "output_type": "stream",
     "text": [
      "[[[ 0.89527217  1.53722977 13.01520878  2.05540885]\n",
      "  [ 4.37936004 14.66117988 19.49410124  0.44979463]]\n",
      "\n",
      " [[18.80916449 14.91757509  6.55783011  3.78853923]\n",
      "  [18.5674065  18.46199035  3.25016227 16.87913199]]\n",
      "\n",
      " [[ 6.08841935 11.98138262 13.18300586  9.8420634 ]\n",
      "  [ 2.25914945 12.95279232  2.58780861 17.29944562]]]\n",
      "np_uniform type :  <class 'numpy.ndarray'>\n",
      "Elements of np_uniform type :  float64\n",
      "np_uniform shape :  (3, 2, 4)\n"
     ]
    }
   ],
   "source": [
    "np_uniform = np.random.uniform(low=0, high=20, size=[3,2,4])\n",
    "print(np_uniform)\n",
    "print(\"np_uniform type : \",type(np_uniform))\n",
    "print(\"Elements of np_uniform type : \",np_uniform.dtype)\n",
    "print(\"np_uniform shape : \",np_uniform.shape)"
   ]
  },
  {
   "cell_type": "code",
   "execution_count": 249,
   "metadata": {},
   "outputs": [
    {
     "data": {
      "image/png": "[encoded data removed]",
      "text/plain": [
       "<Figure size 432x288 with 1 Axes>"
      ]
     },
     "metadata": {},
     "output_type": "display_data"
    }
   ],
   "source": [
    "import matplotlib.pyplot as plt\n",
    "%matplotlib inline\n",
    "\n",
    "np_uniform2 = np.random.uniform(low=-1,high=0,size=1000)\n",
    "count, bins, ignored = plt.hist(np_uniform2, 15, density=True)\n",
    "plt.plot(bins, np.ones_like(bins), linewidth=2, color='r')\n",
    "plt.show()"
   ]
  },
  {
   "cell_type": "markdown",
   "metadata": {},
   "source": [
    "###### 11. np.eye\n",
    "- 단위 행렬 배열 생성 하며 대각선으로 1을 가짐\n",
    "- ```numpy.eye(N, M=None, k=0, dtype=<class 'float'>, order='C')```\n",
    "- N(int) : row 수\n",
    "- M(int) : column 수\n",
    "- k(int) : 대각선의 위치 변경( 가운데 대각선을 중심으로 k > 0 면, 대각선이 위로 올라가고 k < 0 면, 대각선이 아래로 내려감)"
   ]
  },
  {
   "cell_type": "code",
   "execution_count": 257,
   "metadata": {},
   "outputs": [
    {
     "name": "stdout",
     "output_type": "stream",
     "text": [
      "k=0\n",
      "[[1. 0. 0. 0. 0. 0. 0. 0. 0. 0.]\n",
      " [0. 1. 0. 0. 0. 0. 0. 0. 0. 0.]\n",
      " [0. 0. 1. 0. 0. 0. 0. 0. 0. 0.]\n",
      " [0. 0. 0. 1. 0. 0. 0. 0. 0. 0.]\n",
      " [0. 0. 0. 0. 1. 0. 0. 0. 0. 0.]\n",
      " [0. 0. 0. 0. 0. 1. 0. 0. 0. 0.]\n",
      " [0. 0. 0. 0. 0. 0. 1. 0. 0. 0.]\n",
      " [0. 0. 0. 0. 0. 0. 0. 1. 0. 0.]\n",
      " [0. 0. 0. 0. 0. 0. 0. 0. 1. 0.]\n",
      " [0. 0. 0. 0. 0. 0. 0. 0. 0. 1.]]\n",
      "k=-1\n",
      "[[0. 0. 0. 0. 0. 0. 0. 0. 0. 0.]\n",
      " [1. 0. 0. 0. 0. 0. 0. 0. 0. 0.]\n",
      " [0. 1. 0. 0. 0. 0. 0. 0. 0. 0.]\n",
      " [0. 0. 1. 0. 0. 0. 0. 0. 0. 0.]\n",
      " [0. 0. 0. 1. 0. 0. 0. 0. 0. 0.]\n",
      " [0. 0. 0. 0. 1. 0. 0. 0. 0. 0.]\n",
      " [0. 0. 0. 0. 0. 1. 0. 0. 0. 0.]\n",
      " [0. 0. 0. 0. 0. 0. 1. 0. 0. 0.]\n",
      " [0. 0. 0. 0. 0. 0. 0. 1. 0. 0.]\n",
      " [0. 0. 0. 0. 0. 0. 0. 0. 1. 0.]]\n",
      "k=-2\n",
      "[[0. 0. 0. 0. 0. 0. 0. 0. 0. 0.]\n",
      " [0. 0. 0. 0. 0. 0. 0. 0. 0. 0.]\n",
      " [1. 0. 0. 0. 0. 0. 0. 0. 0. 0.]\n",
      " [0. 1. 0. 0. 0. 0. 0. 0. 0. 0.]\n",
      " [0. 0. 1. 0. 0. 0. 0. 0. 0. 0.]\n",
      " [0. 0. 0. 1. 0. 0. 0. 0. 0. 0.]\n",
      " [0. 0. 0. 0. 1. 0. 0. 0. 0. 0.]\n",
      " [0. 0. 0. 0. 0. 1. 0. 0. 0. 0.]\n",
      " [0. 0. 0. 0. 0. 0. 1. 0. 0. 0.]\n",
      " [0. 0. 0. 0. 0. 0. 0. 1. 0. 0.]]\n",
      "k=1\n",
      "[[0. 1. 0. 0. 0. 0. 0. 0. 0. 0.]\n",
      " [0. 0. 1. 0. 0. 0. 0. 0. 0. 0.]\n",
      " [0. 0. 0. 1. 0. 0. 0. 0. 0. 0.]\n",
      " [0. 0. 0. 0. 1. 0. 0. 0. 0. 0.]\n",
      " [0. 0. 0. 0. 0. 1. 0. 0. 0. 0.]\n",
      " [0. 0. 0. 0. 0. 0. 1. 0. 0. 0.]\n",
      " [0. 0. 0. 0. 0. 0. 0. 1. 0. 0.]\n",
      " [0. 0. 0. 0. 0. 0. 0. 0. 1. 0.]\n",
      " [0. 0. 0. 0. 0. 0. 0. 0. 0. 1.]\n",
      " [0. 0. 0. 0. 0. 0. 0. 0. 0. 0.]]\n",
      "k=2\n",
      "[[0. 0. 1. 0. 0. 0. 0. 0. 0. 0.]\n",
      " [0. 0. 0. 1. 0. 0. 0. 0. 0. 0.]\n",
      " [0. 0. 0. 0. 1. 0. 0. 0. 0. 0.]\n",
      " [0. 0. 0. 0. 0. 1. 0. 0. 0. 0.]\n",
      " [0. 0. 0. 0. 0. 0. 1. 0. 0. 0.]\n",
      " [0. 0. 0. 0. 0. 0. 0. 1. 0. 0.]\n",
      " [0. 0. 0. 0. 0. 0. 0. 0. 1. 0.]\n",
      " [0. 0. 0. 0. 0. 0. 0. 0. 0. 1.]\n",
      " [0. 0. 0. 0. 0. 0. 0. 0. 0. 0.]\n",
      " [0. 0. 0. 0. 0. 0. 0. 0. 0. 0.]]\n"
     ]
    }
   ],
   "source": [
    "print(\"k=0\")\n",
    "print(np.eye(N=10, M=10, k=0))\n",
    "print(\"k=-1\")\n",
    "print(np.eye(N=10, M=10, k=-1))\n",
    "print(\"k=-2\")\n",
    "print(np.eye(N=10, M=10, k=-2))\n",
    "print(\"k=1\")\n",
    "print(np.eye(N=10, M=10, k=1))\n",
    "print(\"k=2\")\n",
    "print(np.eye(N=10, M=10, k=2))\n",
    "# 가운데 대각선을 중심으로 k 값에 의해 칸을 이동(k=4이면 4칸을 위로 이동)"
   ]
  },
  {
   "cell_type": "code",
   "execution_count": 258,
   "metadata": {},
   "outputs": [
    {
     "name": "stdout",
     "output_type": "stream",
     "text": [
      "[[1. 0. 0. 0. 0. 0. 0. 0. 0. 0.]\n",
      " [0. 1. 0. 0. 0. 0. 0. 0. 0. 0.]\n",
      " [0. 0. 1. 0. 0. 0. 0. 0. 0. 0.]\n",
      " [0. 0. 0. 1. 0. 0. 0. 0. 0. 0.]\n",
      " [0. 0. 0. 0. 1. 0. 0. 0. 0. 0.]\n",
      " [0. 0. 0. 0. 0. 1. 0. 0. 0. 0.]\n",
      " [0. 0. 0. 0. 0. 0. 1. 0. 0. 0.]\n",
      " [0. 0. 0. 0. 0. 0. 0. 1. 0. 0.]\n",
      " [0. 0. 0. 0. 0. 0. 0. 0. 1. 0.]\n",
      " [0. 0. 0. 0. 0. 0. 0. 0. 0. 1.]]\n",
      "np_eye type :  <class 'numpy.ndarray'>\n",
      "Elements of np_eye type :  float64\n",
      "np_eye shape :  (10, 10)\n"
     ]
    }
   ],
   "source": [
    "np_eye = np.eye(10)\n",
    "print(np_eye)\n",
    "print(\"np_eye type : \",type(np_eye))\n",
    "print(\"Elements of np_eye type : \",np_eye.dtype)\n",
    "print(\"np_eye shape : \",np_eye.shape)"
   ]
  },
  {
   "cell_type": "code",
   "execution_count": null,
   "metadata": {},
   "outputs": [],
   "source": []
  }
 ],
 "metadata": {
  "kernelspec": {
   "display_name": "Python 3",
   "language": "python",
   "name": "python3"
  },
  "language_info": {
   "codemirror_mode": {
    "name": "ipython",
    "version": 3
   },
   "file_extension": ".py",
   "mimetype": "text/x-python",
   "name": "python",
   "nbconvert_exporter": "python",
   "pygments_lexer": "ipython3",
   "version": "3.6.8"
  }
 },
 "nbformat": 4,
 "nbformat_minor": 2
}
