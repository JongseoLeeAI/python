{
 "cells": [
  {
   "cell_type": "markdown",
   "metadata": {},
   "source": [
    "# 팬시인덱싱\n",
    "- 한번에 여러 배열 요소에 접근하기 위해 인덱스의 배열을 넣어줌\n",
    "- 보편적인 사용 방법 : 행렬에서 행의 부분집합을 선택함"
   ]
  },
  {
   "cell_type": "code",
   "execution_count": 1,
   "metadata": {},
   "outputs": [],
   "source": [
    "import numpy as np"
   ]
  },
  {
   "cell_type": "code",
   "execution_count": 2,
   "metadata": {},
   "outputs": [
    {
     "name": "stdout",
     "output_type": "stream",
     "text": [
      "[51 92 14 71 60 20 82 86 74 74]\n"
     ]
    }
   ],
   "source": [
    "rand = np.random.RandomState(42)\n",
    "\n",
    "x = rand.randint(100, size=10)\n",
    "print(x)"
   ]
  },
  {
   "cell_type": "markdown",
   "metadata": {},
   "source": [
    "* 방법1) 3개의 다른 요소에 접근 하여 배열로 반환"
   ]
  },
  {
   "cell_type": "code",
   "execution_count": 8,
   "metadata": {},
   "outputs": [
    {
     "name": "stdout",
     "output_type": "stream",
     "text": [
      "<class 'list'>\n"
     ]
    }
   ],
   "source": [
    "print(type([x[3], x[7], x[2]]))"
   ]
  },
  {
   "cell_type": "code",
   "execution_count": 4,
   "metadata": {},
   "outputs": [
    {
     "name": "stdout",
     "output_type": "stream",
     "text": [
      "[71 86 14]\n",
      "result ndim :  1\n",
      "result shape :  (3,)\n",
      "result size :  3\n"
     ]
    }
   ],
   "source": [
    "result = np.array([x[3], x[7], x[2]])\n",
    "print(result)\n",
    "print(\"result ndim : \",result.ndim)\n",
    "print(\"result shape : \",result.shape)\n",
    "print(\"result size : \",result.size)"
   ]
  },
  {
   "cell_type": "markdown",
   "metadata": {},
   "source": [
    "* 방법2) 접근할 요소의 인덱스를 배열로 만들어 넣어줌"
   ]
  },
  {
   "cell_type": "code",
   "execution_count": 15,
   "metadata": {},
   "outputs": [
    {
     "name": "stdout",
     "output_type": "stream",
     "text": [
      "[71 86 14 20]\n",
      "result2 type :  <class 'numpy.ndarray'>\n",
      "result2 ndim :  1\n",
      "result2 shape :  (4,)\n",
      "result2 size :  4\n"
     ]
    }
   ],
   "source": [
    "index = [3,7,2,5]\n",
    "result2 = x[index]\n",
    "print(result2)\n",
    "print(\"result2 type : \",type(result2))\n",
    "print(\"result2 ndim : \",result2.ndim)\n",
    "print(\"result2 shape : \",result2.shape)\n",
    "print(\"result2 size : \",result2.size)"
   ]
  },
  {
   "cell_type": "markdown",
   "metadata": {},
   "source": [
    "- 팬시 인덱싱의 결과의 형상(Shape)은 **인덱스값 배열의 형상**을 따라감"
   ]
  },
  {
   "cell_type": "code",
   "execution_count": 16,
   "metadata": {},
   "outputs": [
    {
     "name": "stdout",
     "output_type": "stream",
     "text": [
      "index2 : \n",
      " [[3 7]\n",
      " [2 5]]\n",
      "index2 ndim :  2\n",
      "index2 shape :  (2, 2)\n",
      "index2 size :  4\n"
     ]
    }
   ],
   "source": [
    "index2 = np.array([[3,7],\n",
    "                   [2,5]])\n",
    "print(\"index2 : \\n\",index2)\n",
    "print(\"index2 ndim : \",index2.ndim)\n",
    "print(\"index2 shape : \",index2.shape)\n",
    "print(\"index2 size : \",index2.size)"
   ]
  },
  {
   "cell_type": "code",
   "execution_count": 18,
   "metadata": {
    "scrolled": true
   },
   "outputs": [
    {
     "name": "stdout",
     "output_type": "stream",
     "text": [
      "x : \n",
      " [51 92 14 71 60 20 82 86 74 74]\n",
      "-------------\n",
      "result2 : \n",
      " [71 86 14 20]\n",
      "-------------\n",
      "result3 : \n",
      " [[71 86]\n",
      " [14 20]]\n",
      "result3 ndim :  2\n",
      "result3 shape :  (2, 2)\n",
      "result3 size :  4\n"
     ]
    }
   ],
   "source": [
    "print(\"x : \\n\",x)\n",
    "print(\"-------------\")\n",
    "print(\"result2 : \\n\",result2)\n",
    "print(\"-------------\")\n",
    "result3 = x[index2]\n",
    "print(\"result3 : \\n\",result3)\n",
    "print(\"result3 ndim : \",result3.ndim)\n",
    "print(\"result3 shape : \",result3.shape)\n",
    "print(\"result3 size : \",result3.size)"
   ]
  },
  {
   "cell_type": "code",
   "execution_count": null,
   "metadata": {},
   "outputs": [],
   "source": []
  },
  {
   "cell_type": "markdown",
   "metadata": {},
   "source": [
    "- **다차원 배열에서 팬시인덱싱**"
   ]
  },
  {
   "cell_type": "code",
   "execution_count": 35,
   "metadata": {},
   "outputs": [
    {
     "name": "stdout",
     "output_type": "stream",
     "text": [
      "arr : \n",
      "  [[ 0  1  2  3]\n",
      " [ 4  5  6  7]\n",
      " [ 8  9 10 11]]\n",
      "arr ndim :  2\n",
      "arr shape :  (3, 4)\n",
      "arr size :  12\n"
     ]
    }
   ],
   "source": [
    "# 다차원 원본 배열 선언\n",
    "arr = np.arange(12).reshape([3,4])\n",
    "print(\"arr : \\n \",arr)\n",
    "print(\"arr ndim : \",arr.ndim)\n",
    "print(\"arr shape : \",arr.shape)\n",
    "print(\"arr size : \",arr.size)"
   ]
  },
  {
   "cell_type": "code",
   "execution_count": 34,
   "metadata": {},
   "outputs": [
    {
     "name": "stdout",
     "output_type": "stream",
     "text": [
      "row shape :  (3,)\n",
      "col shape :  (3,)\n",
      "[ 2  5 11]\n"
     ]
    }
   ],
   "source": [
    "# 인덱싱을 위한 행과 열의 인덱스를 배열로 생성\n",
    "row = np.array([0, 1, 2])\n",
    "col = np.array([2, 1, 3])\n",
    "\n",
    "print(\"row shape : \",row.shape)\n",
    "print(\"col shape : \",col.shape)\n",
    "\n",
    "# 팬시인덱싱 -> 행과 열의 인덱스로 추출\n",
    "print(arr[row, col])"
   ]
  },
  {
   "cell_type": "markdown",
   "metadata": {},
   "source": [
    "* 행과 열의 인덱스로 arr 배열에서 추출 방법\n",
    "<pre><code>\n",
    "arr : \n",
    "  [[ 0  1  2  3]\n",
    "   [ 4  5  6  7]\n",
    "   [ 8  9 10 11]]\n",
    "</code></pre>   \n",
    "<pre><code>\n",
    "(행,열) ==> arr(row,col) \n",
    "(0,2) ==> 2\n",
    "(1,1) ==> 5 \n",
    "(2,3) ==> 11\n",
    "</code></pre>"
   ]
  },
  {
   "cell_type": "markdown",
   "metadata": {},
   "source": [
    "* row의 차원을 1개 늘림"
   ]
  },
  {
   "cell_type": "code",
   "execution_count": 37,
   "metadata": {},
   "outputs": [
    {
     "name": "stdout",
     "output_type": "stream",
     "text": [
      "row_reshape :\n",
      " [[0]\n",
      " [1]\n",
      " [2]]\n",
      "row_shape shape :  (3, 1)\n"
     ]
    }
   ],
   "source": [
    "# 행 인덱스 배열의 차원을 추가 하여 브로드케스팅 적용하여 인덱스 만들기\n",
    "row_reshape = row[ : ,np.newaxis] # (3, )=>(3,1)\n",
    "print(\"row_reshape :\\n\",row_reshape)\n",
    "print(\"row_shape shape : \",row_reshape.shape)"
   ]
  },
  {
   "cell_type": "code",
   "execution_count": 39,
   "metadata": {},
   "outputs": [
    {
     "name": "stdout",
     "output_type": "stream",
     "text": [
      "arr : \n",
      " [[ 0  1  2  3]\n",
      " [ 4  5  6  7]\n",
      " [ 8  9 10 11]]\n",
      "\n",
      "\n",
      "\n",
      "arr_reshape :\n",
      " [[ 2  1  3]\n",
      " [ 6  5  7]\n",
      " [10  9 11]]\n",
      "ndim :  2\n",
      "shape :  (3, 3)\n",
      "size :  9\n"
     ]
    }
   ],
   "source": [
    "print(\"arr : \\n\",arr)\n",
    "arr_reshape = arr[row_reshape, col]\n",
    "print(\"\\n\\n\")\n",
    "print(\"arr_reshape :\\n\",arr_reshape)\n",
    "print(\"ndim : \",arr_reshape.ndim)\n",
    "print(\"shape : \",arr_reshape.shape)\n",
    "print(\"size : \",arr_reshape.size)"
   ]
  },
  {
   "cell_type": "markdown",
   "metadata": {},
   "source": [
    "- 브로드케스팅을 이용하여 인덱스 조합\n",
    "<pre><code>\n",
    "row_reshape(3,1) *  col(3, ) \n",
    "[[0]\n",
    " [1]              *  [2,1,3]\n",
    " [2]]\n",
    "</code></pre>\n",
    "-브로드 케스팅을 통한 결과 = > (3,3) 이 됨\n",
    "<pre><code>\n",
    "[[0, 0, 0],          [[2, 1, 3],\n",
    "  [1, 1, 1],       *   [2, 1, 3],\n",
    "  [2, 2, 2]]           [2, 1, 3]]\n",
    "</code></pre> \n"
   ]
  },
  {
   "cell_type": "code",
   "execution_count": 42,
   "metadata": {},
   "outputs": [
    {
     "name": "stdout",
     "output_type": "stream",
     "text": [
      "row_reshape * col 결과 : \n",
      " [[0 0 0]\n",
      " [2 1 3]\n",
      " [4 2 6]]\n"
     ]
    }
   ],
   "source": [
    "# 브로드 케스팅 과정\n",
    "#(3,1) * (3,)\n",
    "#(3,1) * (1,3) <-규칙 1 적용\n",
    "#(3,3)         <-규칙 2 적용\n",
    "print(\"row_reshape * col 결과 : \\n\",row_reshape * col)"
   ]
  },
  {
   "cell_type": "code",
   "execution_count": 43,
   "metadata": {},
   "outputs": [
    {
     "name": "stdout",
     "output_type": "stream",
     "text": [
      "arr[row_reshape, col] 팬시인덱싱 결과 \n",
      " [[ 2  1  3]\n",
      " [ 6  5  7]\n",
      " [10  9 11]]\n"
     ]
    }
   ],
   "source": [
    "print(\"arr[row_reshape, col] 팬시인덱싱 결과 \\n\",arr[row_reshape, col])"
   ]
  },
  {
   "cell_type": "markdown",
   "metadata": {},
   "source": [
    "<pre><code>\n",
    "(row,col) = > row_reshape => arr[row_reshape, col] \n",
    "(0,2)     = > 0           => 2 \n",
    "(0,1)     = > 0           => 1\n",
    "(0,3)     = > 0           => 3\n",
    "\n",
    "(1,2)     = > 2           => 6\n",
    "(1,1)     = > 1           => 5\n",
    "(1,3)     = > 3           => 7\n",
    "\n",
    "(2,2)     = > 4           => 10\n",
    "(2,1)     = > 2           => 9\n",
    "(2,3)     = > 6           => 7\n",
    "</code></pre>"
   ]
  },
  {
   "cell_type": "markdown",
   "metadata": {},
   "source": [
    "### 결합 인덱싱"
   ]
  },
  {
   "cell_type": "code",
   "execution_count": 44,
   "metadata": {},
   "outputs": [
    {
     "name": "stdout",
     "output_type": "stream",
     "text": [
      "arr : \n",
      " [[ 0  1  2  3]\n",
      " [ 4  5  6  7]\n",
      " [ 8  9 10 11]]\n"
     ]
    }
   ],
   "source": [
    "print(\"arr : \\n\",arr)"
   ]
  },
  {
   "cell_type": "markdown",
   "metadata": {},
   "source": [
    "- 팬시인덱스 + 일반 인덱스 조합"
   ]
  },
  {
   "cell_type": "code",
   "execution_count": 45,
   "metadata": {},
   "outputs": [
    {
     "data": {
      "text/plain": [
       "array([10,  8,  9])"
      ]
     },
     "execution_count": 45,
     "metadata": {},
     "output_type": "execute_result"
    }
   ],
   "source": [
    "# (2,2) (2,0) (2,1)\n",
    "arr[2, [2, 0, 1]]"
   ]
  },
  {
   "cell_type": "code",
   "execution_count": 46,
   "metadata": {},
   "outputs": [
    {
     "name": "stdout",
     "output_type": "stream",
     "text": [
      "10\n",
      "8\n",
      "9\n"
     ]
    }
   ],
   "source": [
    "print(arr[2,2])\n",
    "print(arr[2,0])\n",
    "print(arr[2,1])"
   ]
  },
  {
   "cell_type": "markdown",
   "metadata": {},
   "source": [
    "- 팬시인덱스 + 슬라이싱"
   ]
  },
  {
   "cell_type": "code",
   "execution_count": 48,
   "metadata": {},
   "outputs": [
    {
     "data": {
      "text/plain": [
       "array([[ 6,  4,  5],\n",
       "       [10,  8,  9]])"
      ]
     },
     "execution_count": 48,
     "metadata": {},
     "output_type": "execute_result"
    }
   ],
   "source": [
    "# (1,2) (1,0) (1,1)\n",
    "# (2,2) (2,0) (2,1)\n",
    "arr[1:,[2,0,1]]"
   ]
  },
  {
   "cell_type": "code",
   "execution_count": 50,
   "metadata": {},
   "outputs": [
    {
     "name": "stdout",
     "output_type": "stream",
     "text": [
      "6\n",
      "4\n",
      "5\n",
      "10\n",
      "8\n",
      "9\n"
     ]
    }
   ],
   "source": [
    "print(arr[1,2])\n",
    "print(arr[1,0])\n",
    "print(arr[1,1])\n",
    "print(arr[2,2])\n",
    "print(arr[2,0])\n",
    "print(arr[2,1])"
   ]
  },
  {
   "cell_type": "code",
   "execution_count": null,
   "metadata": {},
   "outputs": [],
   "source": []
  },
  {
   "cell_type": "code",
   "execution_count": null,
   "metadata": {},
   "outputs": [],
   "source": []
  },
  {
   "cell_type": "markdown",
   "metadata": {},
   "source": [
    "###### 예) 임의의 점 선택"
   ]
  },
  {
   "cell_type": "code",
   "execution_count": 55,
   "metadata": {},
   "outputs": [
    {
     "name": "stdout",
     "output_type": "stream",
     "text": [
      "(100, 2)\n",
      "[[ 3.57137686e-01  2.35807765e+00]\n",
      " [-6.05119455e-01 -2.11454898e+00]\n",
      " [-3.79703356e-01 -6.38285610e-01]\n",
      " [-3.55777152e-01  8.48308764e-02]\n",
      " [-1.33074012e+00 -3.20478249e+00]\n",
      " [-1.60774279e+00 -2.81181164e+00]\n",
      " [-2.82035186e-01 -4.90196315e-01]\n",
      " [ 1.63915076e+00  2.33283998e+00]\n",
      " [ 1.75088631e-01 -5.03749438e-01]\n",
      " [ 2.41225594e-01  3.65531806e-03]\n",
      " [ 1.51562079e+00  4.04577591e+00]\n",
      " [ 3.52286732e-01  9.37301867e-01]\n",
      " [ 9.53264554e-01  1.93898064e+00]\n",
      " [-1.49079761e+00 -3.45996122e+00]\n",
      " [-2.14007516e-02 -1.42724772e+00]\n",
      " [-2.91262533e+00 -5.03640289e+00]\n",
      " [-1.57680515e+00 -2.90969456e+00]\n",
      " [-1.83164967e-01  3.62981204e-02]\n",
      " [-7.27700763e-01 -2.43718404e+00]\n",
      " [ 1.04941259e+00  7.26850266e-01]\n",
      " [ 7.73152003e-02  1.98483544e+00]\n",
      " [ 4.30438791e-01  6.95136156e-01]\n",
      " [ 3.23394222e-01 -9.64319545e-01]\n",
      " [-1.35805172e+00 -1.90787797e+00]\n",
      " [-9.80520961e-01 -5.79777574e-01]\n",
      " [ 5.20273222e-01  3.25167427e+00]\n",
      " [ 1.16492110e+00  1.42699319e+00]\n",
      " [-4.97063985e-01  8.26225733e-01]\n",
      " [ 3.74849572e-01 -1.04463014e-01]\n",
      " [ 1.23659796e+00  2.87163211e+00]\n",
      " [ 2.34066642e+00  4.24355003e+00]\n",
      " [-1.93199976e+00 -3.23196959e+00]\n",
      " [ 2.96839547e-01  2.12602144e-01]\n",
      " [-9.52594701e-01  2.41686515e-01]\n",
      " [-7.22290311e-01 -7.59069560e-01]\n",
      " [ 1.63742242e-01  4.61222753e-01]\n",
      " [-6.46154771e-01 -1.42347155e+00]\n",
      " [ 1.26290603e+00  4.43497219e+00]\n",
      " [-2.39656867e-01  1.70669089e+00]\n",
      " [-6.61725251e-01 -1.52072609e+00]\n",
      " [-3.64365008e-01 -9.97092213e-01]\n",
      " [ 3.69960861e-01  1.11786727e+00]\n",
      " [-6.39856740e-01 -2.04755420e+00]\n",
      " [ 7.10911794e-01  1.33151476e+00]\n",
      " [-1.43541048e+00 -1.89315839e+00]\n",
      " [-5.56916532e-01 -7.15305560e-01]\n",
      " [ 2.46248255e-01  1.54348827e+00]\n",
      " [-2.37984327e-01 -1.34318195e+00]\n",
      " [ 2.11868517e+00  3.79382291e+00]\n",
      " [ 1.73608543e-01  1.67679999e+00]\n",
      " [-1.26645915e+00 -3.53323359e+00]\n",
      " [ 2.76745836e-01  9.51302307e-01]\n",
      " [-3.67474962e-01  1.20472755e-01]\n",
      " [ 1.20141475e-01  1.31739215e+00]\n",
      " [-1.05787079e-01  6.68942965e-01]\n",
      " [ 4.85029913e-01  5.07356892e-01]\n",
      " [-2.17439588e+00 -4.09646255e+00]\n",
      " [ 1.82660661e+00  3.92623429e+00]\n",
      " [-6.55261490e-01 -2.87719713e+00]\n",
      " [-9.67285254e-01 -1.61321686e+00]\n",
      " [ 6.49301351e-01  1.55800863e+00]\n",
      " [ 1.25340981e+00  4.94230023e+00]\n",
      " [-2.20416946e-02  8.16827619e-01]\n",
      " [-1.08675393e+00 -1.15389651e+00]\n",
      " [ 3.22320568e-01  9.98766817e-01]\n",
      " [-8.50456760e-01 -1.10875203e+00]\n",
      " [-8.83798267e-01 -2.65039203e+00]\n",
      " [ 9.31740538e-02  1.69711600e+00]\n",
      " [ 1.28118742e+00  4.79245074e+00]\n",
      " [ 2.81057298e-01  6.73593571e-01]\n",
      " [ 6.48845977e-01  1.51428634e+00]\n",
      " [-1.46937513e+00 -2.71300915e+00]\n",
      " [-4.89193185e-01 -1.08482137e+00]\n",
      " [ 1.65860668e+00  3.09054352e+00]\n",
      " [ 1.41931402e-01  8.38038139e-01]\n",
      " [-4.40721475e-01  5.41628376e-04]\n",
      " [-4.58373715e-01 -1.04778340e+00]\n",
      " [-2.25798551e+00 -5.01156264e+00]\n",
      " [-3.12715999e-01  1.25825058e+00]\n",
      " [-1.80402237e+00 -2.38957601e+00]\n",
      " [-2.71129583e-01  4.02184668e-01]\n",
      " [ 1.04223161e+00  3.36477212e+00]\n",
      " [ 6.64276166e-01  1.37000368e-01]\n",
      " [-2.61291110e-01 -2.59008457e+00]\n",
      " [ 1.62839667e+00  4.32363901e+00]\n",
      " [-8.99259657e-01 -1.12051745e+00]\n",
      " [-1.25057724e+00 -1.42083675e+00]\n",
      " [-5.96311327e-01 -1.58282278e+00]\n",
      " [ 1.76009177e-01  1.19449727e-01]\n",
      " [ 1.46950446e-01 -8.32988849e-01]\n",
      " [-2.81902024e-01 -7.74104995e-01]\n",
      " [-3.61316369e-01 -5.70607238e-01]\n",
      " [ 2.61050729e+00  5.32676869e+00]\n",
      " [ 1.21592974e-01  2.33494920e-01]\n",
      " [-3.55348155e-01 -5.30626904e-01]\n",
      " [-1.52038962e+00 -3.33234261e+00]\n",
      " [ 9.01154256e-01  4.44700054e-01]\n",
      " [ 1.05948855e+00  3.13744379e+00]\n",
      " [-1.56958225e+00 -2.12093881e+00]\n",
      " [ 8.81157356e-01  1.79840154e+00]]\n"
     ]
    }
   ],
   "source": [
    "# 평균 \n",
    "mean = [0,0]\n",
    "\n",
    "# 공분산(Covariance) : 확률변수들이 어떻게 퍼져있는지를 나타내는 것\n",
    "cov = [[1, 2],\n",
    "       [2, 5]]\n",
    "\n",
    "# 다변수 정규분포 (multivariate_normal)\n",
    "X = rand.multivariate_normal(mean=mean, cov=cov, size= [100])\n",
    "print(X.shape)\n",
    "print(X)"
   ]
  },
  {
   "cell_type": "markdown",
   "metadata": {},
   "source": [
    "- 다변수 정규분포\n",
    "  - `numpy.random.multivariate_normal(mean, cov[, size, check_valid, tol])`"
   ]
  },
  {
   "cell_type": "code",
   "execution_count": 59,
   "metadata": {},
   "outputs": [
    {
     "data": {
      "image/png": "[encoded data removed]",
      "text/plain": [
       "<Figure size 432x288 with 1 Axes>"
      ]
     },
     "metadata": {},
     "output_type": "display_data"
    }
   ],
   "source": [
    "# X(2차원 정규분포에 의한 데이터) 배열 도식화 \n",
    "%matplotlib inline\n",
    "import matplotlib.pyplot as plt\n",
    "import seaborn; seaborn.set()  # for plot styling\n",
    "\n",
    "plt.scatter(X[:, 0], X[:, 1]);"
   ]
  },
  {
   "cell_type": "markdown",
   "metadata": {},
   "source": [
    "- 팬시 인덱싱을 이용하여 20개 데이터 선택\n",
    "- np.random.choice : 랜덤하게 size 만큼 선택\n",
    "  - `numpy.random.choice(a, size=None, replace=True, p=None)`\n",
    "  - a : 1-D array-like or int  \n"
   ]
  },
  {
   "cell_type": "code",
   "execution_count": 64,
   "metadata": {},
   "outputs": [
    {
     "name": "stdout",
     "output_type": "stream",
     "text": [
      "a :  100\n",
      "[53 17 86 90 78 38 95 27 72 34 60 15 55 63 59 68 75 85 83 67]\n"
     ]
    }
   ],
   "source": [
    "print(\"a : \",X.shape[0])\n",
    "# 100 개중 20개 인덱스 추출\n",
    "indices = np.random.choice(X.shape[0], 20, replace=False)\n",
    "print(indices)"
   ]
  },
  {
   "cell_type": "code",
   "execution_count": 66,
   "metadata": {},
   "outputs": [
    {
     "name": "stdout",
     "output_type": "stream",
     "text": [
      "(20, 2)\n"
     ]
    }
   ],
   "source": [
    "selection_X = X[indices]\n",
    "print(selection_X.shape)"
   ]
  },
  {
   "cell_type": "code",
   "execution_count": 70,
   "metadata": {},
   "outputs": [
    {
     "data": {
      "image/png": "[encoded data removed]",
      "text/plain": [
       "<Figure size 432x288 with 1 Axes>"
      ]
     },
     "metadata": {},
     "output_type": "display_data"
    }
   ],
   "source": [
    "# 추출한 점을 도식화\n",
    "plt.scatter(X[:, 0], X[:, 1], alpha=0.3)\n",
    "plt.scatter(selection_X[:, 0], selection_X[:, 1], facecolor='none', s=200);"
   ]
  },
  {
   "cell_type": "code",
   "execution_count": null,
   "metadata": {},
   "outputs": [],
   "source": []
  },
  {
   "cell_type": "code",
   "execution_count": null,
   "metadata": {},
   "outputs": [],
   "source": []
  }
 ],
 "metadata": {
  "kernelspec": {
   "display_name": "Python 3",
   "language": "python",
   "name": "python3"
  },
  "language_info": {
   "codemirror_mode": {
    "name": "ipython",
    "version": 3
   },
   "file_extension": ".py",
   "mimetype": "text/x-python",
   "name": "python",
   "nbconvert_exporter": "python",
   "pygments_lexer": "ipython3",
   "version": "3.6.8"
  }
 },
 "nbformat": 4,
 "nbformat_minor": 2
}
