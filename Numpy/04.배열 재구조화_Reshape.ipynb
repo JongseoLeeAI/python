{
 "cells": [
  {
   "cell_type": "markdown",
   "metadata": {},
   "source": [
    "# 배열 재구조화\n",
    "#### [Reshape]\n",
    "#### [슬라이스 연산 newaxis 키워드 사용]\n",
    "#### [Numpy DOC 예제]"
   ]
  },
  {
   "cell_type": "code",
   "execution_count": 26,
   "metadata": {},
   "outputs": [],
   "source": [
    "import numpy as np"
   ]
  },
  {
   "cell_type": "markdown",
   "metadata": {},
   "source": [
    "### [Reshape]\n",
    "\n",
    "- `numpy.reshape(a, newshape, order='C')`\n",
    "- a : shape을 변경할 대상 배열 (Array to be reshaped)\n",
    "- newshape : 변경할 shape 값 (int or tuple of ints)\n",
    "- 구조를 변경할때 데이터 전체 갯수와 변경할 구조의 데이터 전체 갯수가 동일 해야함\n",
    "  - ex) 데이터가 10개인 1차원 배열(데이터수 10개) -> shape 이 (3,3) 으로 변경 시(데이터수 9개) 에러 발생"
   ]
  },
  {
   "cell_type": "markdown",
   "metadata": {},
   "source": [
    "* 1차원 -> 2차원 재구조화"
   ]
  },
  {
   "cell_type": "code",
   "execution_count": 27,
   "metadata": {},
   "outputs": [
    {
     "name": "stdout",
     "output_type": "stream",
     "text": [
      "[1 2 3 4 5 6 7 8 9]\n",
      "9\n"
     ]
    }
   ],
   "source": [
    "# 원본 배열\n",
    "ori = np.arange(1,10)\n",
    "print(ori)\n",
    "print(ori.size)"
   ]
  },
  {
   "cell_type": "code",
   "execution_count": 28,
   "metadata": {},
   "outputs": [
    {
     "name": "stdout",
     "output_type": "stream",
     "text": [
      "[[1 2 3]\n",
      " [4 5 6]\n",
      " [7 8 9]]\n",
      "9\n"
     ]
    }
   ],
   "source": [
    "# 변형 한 배열 : 방법1) 원본배열.reshape(변형shape) \n",
    "# 변형 shape 은 정수, 리스트, 튜플 형태로 입력\n",
    "reshapeOri = ori.reshape([3,3])\n",
    "print(reshapeOri)\n",
    "print(reshapeOri.size)"
   ]
  },
  {
   "cell_type": "code",
   "execution_count": 29,
   "metadata": {},
   "outputs": [
    {
     "name": "stdout",
     "output_type": "stream",
     "text": [
      "[[1 2 3]\n",
      " [4 5 6]\n",
      " [7 8 9]]\n",
      "9\n"
     ]
    }
   ],
   "source": [
    "# 변형 한 배열 : 방법2) np.reshape(원본배열, newshpae=(변형shape))\n",
    "reshpaeOri2 = np.reshape(ori, newshape=(3,3))\n",
    "print(reshpaeOri2)\n",
    "print(reshpaeOri2.size)"
   ]
  },
  {
   "cell_type": "markdown",
   "metadata": {},
   "source": [
    "* 3차원 -> 1차원 재구조화"
   ]
  },
  {
   "cell_type": "code",
   "execution_count": 30,
   "metadata": {},
   "outputs": [
    {
     "name": "stdout",
     "output_type": "stream",
     "text": [
      "[[[ 0.10115225 -0.12716019 -0.1143262  -0.14842928  0.20241631]\n",
      "  [ 0.05235377 -0.29985971 -0.09974467  0.17798578  0.10494596]]\n",
      "\n",
      " [[-0.08307164  0.11287277  0.08062484 -0.15561539 -0.01369909]\n",
      "  [-0.06140265 -0.09834171  0.05903566 -0.20864631 -0.16638182]]\n",
      "\n",
      " [[-0.12573399 -0.20910615  0.11121456 -0.3241589  -0.00090891]\n",
      "  [-0.05873983  0.04782439 -0.02608832  0.06260299  0.08014936]]]\n",
      "element size :  30\n"
     ]
    }
   ],
   "source": [
    "# 3차원 원본 배열\n",
    "nparr = np.random.normal(loc=0, scale=0.2, size=[3,2,5])\n",
    "print(nparr)\n",
    "print(\"element size : \",nparr.size)"
   ]
  },
  {
   "cell_type": "code",
   "execution_count": 31,
   "metadata": {},
   "outputs": [
    {
     "name": "stdout",
     "output_type": "stream",
     "text": [
      "[ 0.10115225 -0.12716019 -0.1143262  -0.14842928  0.20241631  0.05235377\n",
      " -0.29985971 -0.09974467  0.17798578  0.10494596 -0.08307164  0.11287277\n",
      "  0.08062484 -0.15561539 -0.01369909 -0.06140265 -0.09834171  0.05903566\n",
      " -0.20864631 -0.16638182 -0.12573399 -0.20910615  0.11121456 -0.3241589\n",
      " -0.00090891 -0.05873983  0.04782439 -0.02608832  0.06260299  0.08014936]\n"
     ]
    }
   ],
   "source": [
    "# 1차원 변형 한 배열\n",
    "reshapeNparr = nparr.reshape(30)\n",
    "print(reshapeNparr)"
   ]
  },
  {
   "cell_type": "code",
   "execution_count": 32,
   "metadata": {},
   "outputs": [
    {
     "name": "stdout",
     "output_type": "stream",
     "text": [
      "[ 0.10115225 -0.12716019 -0.1143262  -0.14842928  0.20241631  0.05235377\n",
      " -0.29985971 -0.09974467  0.17798578  0.10494596 -0.08307164  0.11287277\n",
      "  0.08062484 -0.15561539 -0.01369909 -0.06140265 -0.09834171  0.05903566\n",
      " -0.20864631 -0.16638182 -0.12573399 -0.20910615  0.11121456 -0.3241589\n",
      " -0.00090891 -0.05873983  0.04782439 -0.02608832  0.06260299  0.08014936]\n"
     ]
    }
   ],
   "source": [
    "print(nparr.reshape(-1))"
   ]
  },
  {
   "cell_type": "markdown",
   "metadata": {},
   "source": [
    "### [슬라이스 연산 newaxis 키워드 사용]"
   ]
  },
  {
   "cell_type": "code",
   "execution_count": 33,
   "metadata": {},
   "outputs": [
    {
     "name": "stdout",
     "output_type": "stream",
     "text": [
      "[[[ 0.10115225 -0.12716019 -0.1143262  -0.14842928  0.20241631]\n",
      "  [ 0.05235377 -0.29985971 -0.09974467  0.17798578  0.10494596]]\n",
      "\n",
      " [[-0.08307164  0.11287277  0.08062484 -0.15561539 -0.01369909]\n",
      "  [-0.06140265 -0.09834171  0.05903566 -0.20864631 -0.16638182]]\n",
      "\n",
      " [[-0.12573399 -0.20910615  0.11121456 -0.3241589  -0.00090891]\n",
      "  [-0.05873983  0.04782439 -0.02608832  0.06260299  0.08014936]]]\n",
      "nparr ndim :  3\n",
      "nparr shape :  (3, 2, 5)\n",
      "nparr size :  30\n"
     ]
    }
   ],
   "source": [
    "# 원본 배열 확인\n",
    "print(nparr)\n",
    "print(\"nparr ndim : \",nparr.ndim)\n",
    "print(\"nparr shape : \",nparr.shape)\n",
    "print(\"nparr size : \",nparr.size)"
   ]
  },
  {
   "cell_type": "code",
   "execution_count": 34,
   "metadata": {},
   "outputs": [
    {
     "name": "stdout",
     "output_type": "stream",
     "text": [
      "[[[[ 0.10115225 -0.12716019 -0.1143262  -0.14842928  0.20241631]\n",
      "   [ 0.05235377 -0.29985971 -0.09974467  0.17798578  0.10494596]]\n",
      "\n",
      "  [[-0.08307164  0.11287277  0.08062484 -0.15561539 -0.01369909]\n",
      "   [-0.06140265 -0.09834171  0.05903566 -0.20864631 -0.16638182]]\n",
      "\n",
      "  [[-0.12573399 -0.20910615  0.11121456 -0.3241589  -0.00090891]\n",
      "   [-0.05873983  0.04782439 -0.02608832  0.06260299  0.08014936]]]]\n",
      "re1 ndim :  4\n",
      "re1 shape :  (1, 3, 2, 5)\n",
      "re1 size :  30\n"
     ]
    }
   ],
   "source": [
    "# np.newaxis를 이용한 reshape\n",
    "# 차원이 1개 들어남\n",
    "re1 = nparr[np.newaxis, : ]\n",
    "print(re1)\n",
    "print(\"re1 ndim : \",re1.ndim)\n",
    "print(\"re1 shape : \",re1.shape)\n",
    "print(\"re1 size : \",re1.size)"
   ]
  },
  {
   "cell_type": "code",
   "execution_count": 35,
   "metadata": {},
   "outputs": [
    {
     "name": "stdout",
     "output_type": "stream",
     "text": [
      "[[[[ 0.10115225 -0.12716019 -0.1143262  -0.14842928  0.20241631]\n",
      "   [ 0.05235377 -0.29985971 -0.09974467  0.17798578  0.10494596]]]\n",
      "\n",
      "\n",
      " [[[-0.08307164  0.11287277  0.08062484 -0.15561539 -0.01369909]\n",
      "   [-0.06140265 -0.09834171  0.05903566 -0.20864631 -0.16638182]]]\n",
      "\n",
      "\n",
      " [[[-0.12573399 -0.20910615  0.11121456 -0.3241589  -0.00090891]\n",
      "   [-0.05873983  0.04782439 -0.02608832  0.06260299  0.08014936]]]]\n",
      "re2 ndim :  4\n",
      "re2 shape :  (3, 1, 2, 5)\n",
      "re2 size :  30\n"
     ]
    }
   ],
   "source": [
    "re2 = nparr[: ,np.newaxis]\n",
    "print(re2)\n",
    "print(\"re2 ndim : \",re2.ndim)\n",
    "print(\"re2 shape : \",re2.shape)\n",
    "print(\"re2 size : \",re2.size)"
   ]
  },
  {
   "cell_type": "code",
   "execution_count": null,
   "metadata": {},
   "outputs": [],
   "source": []
  },
  {
   "cell_type": "code",
   "execution_count": null,
   "metadata": {},
   "outputs": [],
   "source": []
  },
  {
   "cell_type": "markdown",
   "metadata": {},
   "source": [
    "### [Numpy DOC 예제]"
   ]
  },
  {
   "cell_type": "code",
   "execution_count": 46,
   "metadata": {},
   "outputs": [
    {
     "data": {
      "text/plain": [
       "True"
      ]
     },
     "execution_count": 46,
     "metadata": {},
     "output_type": "execute_result"
    }
   ],
   "source": [
    "np.newaxis is None"
   ]
  },
  {
   "cell_type": "code",
   "execution_count": 47,
   "metadata": {},
   "outputs": [
    {
     "name": "stdout",
     "output_type": "stream",
     "text": [
      "[0 1 2]\n",
      "x.ndim :  1\n",
      "x.shape :  (3,)\n",
      "x.size :  3\n"
     ]
    }
   ],
   "source": [
    "x = np.arange(0,3)\n",
    "print(x)\n",
    "print(\"x.ndim : \",x.ndim)\n",
    "print(\"x.shape : \",x.shape)\n",
    "print(\"x.size : \",x.size)"
   ]
  },
  {
   "cell_type": "code",
   "execution_count": 48,
   "metadata": {},
   "outputs": [
    {
     "name": "stdout",
     "output_type": "stream",
     "text": [
      "[[0]\n",
      " [1]\n",
      " [2]]\n",
      "rex1.ndim :  2\n",
      "rex1.shape :  (3, 1)\n",
      "rex1.size :  3\n"
     ]
    }
   ],
   "source": [
    "rex1 = x[:,np.newaxis]\n",
    "print(rex1)\n",
    "print(\"rex1.ndim : \",rex1.ndim)\n",
    "print(\"rex1.shape : \",rex1.shape)\n",
    "print(\"rex1.size : \",rex1.size)"
   ]
  },
  {
   "cell_type": "code",
   "execution_count": 49,
   "metadata": {},
   "outputs": [
    {
     "name": "stdout",
     "output_type": "stream",
     "text": [
      "[[[0]]\n",
      "\n",
      " [[1]]\n",
      "\n",
      " [[2]]]\n",
      "rex2.ndim :  3\n",
      "rex2.shape :  (3, 1, 1)\n",
      "rex2.size :  3\n"
     ]
    }
   ],
   "source": [
    "rex2 = x[:,np.newaxis, np.newaxis]\n",
    "print(rex2)\n",
    "print(\"rex2.ndim : \",rex2.ndim)\n",
    "print(\"rex2.shape : \",rex2.shape)\n",
    "print(\"rex2.size : \",rex2.size)"
   ]
  },
  {
   "cell_type": "code",
   "execution_count": 50,
   "metadata": {},
   "outputs": [
    {
     "name": "stdout",
     "output_type": "stream",
     "text": [
      "[[[[0]]]\n",
      "\n",
      "\n",
      " [[[1]]]\n",
      "\n",
      "\n",
      " [[[2]]]]\n",
      "rex3.ndim :  4\n",
      "rex3.shape :  (3, 1, 1, 1)\n",
      "rex3.size :  3\n"
     ]
    }
   ],
   "source": [
    "rex3 = x[:,np.newaxis, np.newaxis, np.newaxis]\n",
    "print(rex3)\n",
    "print(\"rex3.ndim : \",rex3.ndim)\n",
    "print(\"rex3.shape : \",rex3.shape)\n",
    "print(\"rex3.size : \",rex3.size)"
   ]
  },
  {
   "cell_type": "code",
   "execution_count": 51,
   "metadata": {},
   "outputs": [
    {
     "name": "stdout",
     "output_type": "stream",
     "text": [
      "rex3.shape :  (3, 1, 1, 1)\n",
      "x.shape    :  (3,)\n"
     ]
    }
   ],
   "source": [
    "print(\"rex3.shape : \",rex3.shape)\n",
    "print(\"x.shape    : \",x.shape)"
   ]
  },
  {
   "cell_type": "code",
   "execution_count": 52,
   "metadata": {},
   "outputs": [
    {
     "name": "stdout",
     "output_type": "stream",
     "text": [
      "[[0 0 0]\n",
      " [0 1 2]\n",
      " [0 2 4]]\n",
      "y.ndim :  2\n",
      "y.shape :  (3, 3)\n",
      "y.size :  9\n"
     ]
    }
   ],
   "source": [
    "y = rex1 * x\n",
    "print(y)\n",
    "print(\"y.ndim : \",y.ndim)\n",
    "print(\"y.shape : \",y.shape)\n",
    "print(\"y.size : \",y.size)"
   ]
  },
  {
   "cell_type": "code",
   "execution_count": 65,
   "metadata": {},
   "outputs": [
    {
     "name": "stdout",
     "output_type": "stream",
     "text": [
      "x                 :  [0 1 2]      shape :  (3,)\n",
      "x[np.newaxis,:]   :  [[0 1 2]]    shape :  (1, 3)\n",
      "x[np.newaxis]     :  [[0 1 2]]    shape :  (1, 3)\n",
      "x[np.newaxis]     :  [[0 1 2]]    shape :  (1, 3)\n",
      "x[:,np.newaxis]   => \n",
      " [[0]\n",
      " [1]\n",
      " [2]]        shape :  (3, 1)\n",
      "\n",
      "\n"
     ]
    }
   ],
   "source": [
    "print(\"x                 : \",x,\"     shape : \",x.shape)\n",
    "print(\"x[np.newaxis,:]   : \",x[np.newaxis, : ],\"   shape : \",x[np.newaxis, : ].shape)      \n",
    "print(\"x[np.newaxis]     : \",x[np.newaxis],\"   shape : \",x[np.newaxis].shape)\n",
    "print(\"x[np.newaxis]     : \",x[None],\"   shape : \",x[None].shape)\n",
    "print(\"x[:,np.newaxis]   => \\n\",x[:,np.newaxis],\"       shape : \",x[:,np.newaxis].shape)\n",
    "print(\"\\n\")"
   ]
  },
  {
   "cell_type": "code",
   "execution_count": null,
   "metadata": {},
   "outputs": [],
   "source": []
  }
 ],
 "metadata": {
  "kernelspec": {
   "display_name": "Python 3",
   "language": "python",
   "name": "python3"
  },
  "language_info": {
   "codemirror_mode": {
    "name": "ipython",
    "version": 3
   },
   "file_extension": ".py",
   "mimetype": "text/x-python",
   "name": "python",
   "nbconvert_exporter": "python",
   "pygments_lexer": "ipython3",
   "version": "3.6.8"
  }
 },
 "nbformat": 4,
 "nbformat_minor": 2
}
