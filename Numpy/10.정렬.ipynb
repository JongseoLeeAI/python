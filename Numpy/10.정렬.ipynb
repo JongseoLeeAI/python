{
 "cells": [
  {
   "cell_type": "markdown",
   "metadata": {},
   "source": [
    "# 정렬\n",
    "* 정렬 알고리즘 종류 : 삽입정렬(insertion sorts), 선택정렬(selection sort), 병합정렬(merge sorts), 퀵정렬(quick sorts), 버블정렬(bubble sorts) 등등"
   ]
  },
  {
   "cell_type": "code",
   "execution_count": 2,
   "metadata": {},
   "outputs": [],
   "source": [
    "import numpy as np\n",
    "import random"
   ]
  },
  {
   "cell_type": "markdown",
   "metadata": {},
   "source": [
    "#### 안정정렬, 불안정정렬 ? \n",
    "- 정렬의 안정적 특성 : 정렬 안된 상태에서 **같은 키값**을 가진 데이터가 **정렬 후**에도 **순서가 유지**되면 **안정적 특성**을 가진다 라고 함"
   ]
  },
  {
   "cell_type": "markdown",
   "metadata": {},
   "source": [
    "[Reference](https://seongjaemoon.github.io/python/2017/12/16/pythonSort.html)\n",
    "### [ 정렬 알고리즘]\n",
    "1. 삽입정렬\n",
    "2. 버블정렬\n",
    "3. 선택정렬\n",
    "4. 퀵정렬\n",
    "5. 병합정렬\n",
    "6. 쉘정렬\n",
    "7. 기수정렬\n",
    "\n",
    "### [ 파이선 내장 (리스트)정렬함수]\n",
    "1. 리스트.sort() : 리스트 메소드\n",
    "2. sorted(리스트) : 파이선 내장 함수"
   ]
  },
  {
   "cell_type": "markdown",
   "metadata": {},
   "source": [
    "___"
   ]
  },
  {
   "cell_type": "markdown",
   "metadata": {},
   "source": [
    "### [ 정렬 알고리즘]"
   ]
  },
  {
   "cell_type": "markdown",
   "metadata": {},
   "source": [
    "- **삽입정렬** (안정정렬)\n",
    "  - 데이터가 많아질수록 효율이 나빠짐 \n",
    "  - 최대 복잡도 : O(n^2)"
   ]
  },
  {
   "cell_type": "markdown",
   "metadata": {},
   "source": [
    "###### 예) 삽입정렬"
   ]
  },
  {
   "cell_type": "code",
   "execution_count": 32,
   "metadata": {},
   "outputs": [
    {
     "name": "stdout",
     "output_type": "stream",
     "text": [
      "[1, 7, 4, 3, 2]\n"
     ]
    }
   ],
   "source": [
    "a = random.sample(range(1,10), 5)\n",
    "print(a)"
   ]
  },
  {
   "cell_type": "code",
   "execution_count": 33,
   "metadata": {},
   "outputs": [
    {
     "name": "stdout",
     "output_type": "stream",
     "text": [
      "a[i] :  7\n",
      "  a[j] :  7\n",
      "a[i] :  4\n",
      "  a[j] :  4\n",
      "  a[j] :  4\n",
      "a[i] :  3\n",
      "  a[j] :  3\n",
      "  a[j] :  3\n",
      "  a[j] :  3\n",
      "a[i] :  2\n",
      "  a[j] :  2\n",
      "  a[j] :  2\n",
      "  a[j] :  2\n",
      "  a[j] :  2\n"
     ]
    }
   ],
   "source": [
    "for i in range(1,len(a)):         # 리스트 크기 만큼 반복\n",
    "    print(\"a[i] : \",a[i])\n",
    "    for j in range(i, 0, -1):     # 리스트 인덱스 값에서 1씩 줄어들면서 삽입 위치 찾음\n",
    "        print(\"  a[j] : \",a[j])\n",
    "        if a[j] < a[j-1] :          # 현재 인덱스의 값이 현재 인덱스-1 번째 값 보다 작다면...\n",
    "            a[j], a[j-1] = a[j-1] , a[j]    # 두 값을 교체 \n",
    "        else :\n",
    "            break"
   ]
  },
  {
   "cell_type": "code",
   "execution_count": 34,
   "metadata": {},
   "outputs": [
    {
     "name": "stdout",
     "output_type": "stream",
     "text": [
      "[1, 2, 3, 4, 7]\n"
     ]
    }
   ],
   "source": [
    "print(a)"
   ]
  },
  {
   "cell_type": "markdown",
   "metadata": {},
   "source": [
    "* 삽입정렬 함수로 생성"
   ]
  },
  {
   "cell_type": "code",
   "execution_count": 35,
   "metadata": {},
   "outputs": [],
   "source": [
    "def sort_insertionSorts(arr=None):\n",
    "    a = None\n",
    "    \n",
    "    if arr == None:\n",
    "        a = random.sample(range(1,10), 5)\n",
    "    else :\n",
    "        a = arr\n",
    "    \n",
    "    print(\"original array \\t: \",a)\n",
    "    \n",
    "    for i in range(1,len(a)):         # 리스트 크기 만큼 반복\n",
    "        for j in range(i, 0, -1):     # 리스트 인덱스 값에서 1씩 줄어들면서 삽입 위치 찾음\n",
    "            if a[j] < a[j-1] :          # 현재 인덱스의 값이 현재 인덱스-1 번째 값보다 작다면...\n",
    "                a[j], a[j-1] = a[j-1] , a[j]    # 두 값을 교체 \n",
    "            else :\n",
    "                break\n",
    "    \n",
    "    print(\"sorted array \\t: \",a)\n",
    "    return a"
   ]
  },
  {
   "cell_type": "code",
   "execution_count": 36,
   "metadata": {},
   "outputs": [
    {
     "name": "stdout",
     "output_type": "stream",
     "text": [
      "original array \t:  [7, 8, 3, 1, 5]\n",
      "sorted array \t:  [1, 3, 5, 7, 8]\n"
     ]
    },
    {
     "data": {
      "text/plain": [
       "[1, 3, 5, 7, 8]"
      ]
     },
     "execution_count": 36,
     "metadata": {},
     "output_type": "execute_result"
    }
   ],
   "source": [
    "sort_insertionSorts()"
   ]
  },
  {
   "cell_type": "code",
   "execution_count": null,
   "metadata": {},
   "outputs": [],
   "source": []
  },
  {
   "cell_type": "code",
   "execution_count": null,
   "metadata": {},
   "outputs": [],
   "source": []
  },
  {
   "cell_type": "markdown",
   "metadata": {},
   "source": [
    "- **버블(거품)정렬** (안정정렬)\n",
    "  - 모든 원소를 하나하나 비교하여 swap 작업을 반복\n",
    "  - 최대 복잡도 : O(n^2)"
   ]
  },
  {
   "cell_type": "markdown",
   "metadata": {},
   "source": [
    "###### 예) 버블정렬"
   ]
  },
  {
   "cell_type": "code",
   "execution_count": 37,
   "metadata": {},
   "outputs": [
    {
     "name": "stdout",
     "output_type": "stream",
     "text": [
      "[3, 5, 9, 8, 4]\n"
     ]
    }
   ],
   "source": [
    "a = random.sample(range(1,10), 5)\n",
    "print(a)"
   ]
  },
  {
   "cell_type": "code",
   "execution_count": 38,
   "metadata": {},
   "outputs": [],
   "source": [
    "for i in range(len(a)-1):           # 리스트 크기-1 만큼 반복\n",
    "    for j in range(i+1, len(a)):    # 해당 인덱스+1 번째부터, 리스트 크기만큼 반복\n",
    "        if a[i] > a[j]:               # 현재 인덱스의 값이 현재 인덱스+1 번째 값 보다 크다면...\n",
    "            a[i], a[j] = a[j], a[i]   # 두 값을 교체"
   ]
  },
  {
   "cell_type": "code",
   "execution_count": 39,
   "metadata": {},
   "outputs": [
    {
     "name": "stdout",
     "output_type": "stream",
     "text": [
      "[3, 4, 5, 8, 9]\n"
     ]
    }
   ],
   "source": [
    "print(a)"
   ]
  },
  {
   "cell_type": "markdown",
   "metadata": {},
   "source": [
    "* 버블정렬 함수로..."
   ]
  },
  {
   "cell_type": "code",
   "execution_count": 40,
   "metadata": {},
   "outputs": [],
   "source": [
    "def sort_bubbleSorts(arr=None) : \n",
    "    a = None\n",
    "    \n",
    "    if arr == None:\n",
    "        a = random.sample(range(1,10), 5)\n",
    "    else :\n",
    "        a = arr\n",
    "    \n",
    "    print(\"original array \\t: \",a)\n",
    "    \n",
    "    for i in range(len(a)-1):           # 리스트 크기-1 만큼 반복\n",
    "        for j in range(i+1, len(a)):    # 해당 인덱스+1 번째부터, 리스트 크기만큼 반복\n",
    "            if a[i] > a[j]:               # 현재 인덱스의 값이 현재 인덱스+1 번째 값보다 크다면...\n",
    "                a[i], a[j] = a[j], a[i]   # 두 값을 교체\n",
    "                \n",
    "    print(\"sorted array \\t: \",a)\n",
    "    return a "
   ]
  },
  {
   "cell_type": "code",
   "execution_count": 31,
   "metadata": {},
   "outputs": [
    {
     "name": "stdout",
     "output_type": "stream",
     "text": [
      "original array \t:  [4, 5, 2, 7, 3]\n",
      "sorted array \t:  [2, 3, 4, 5, 7]\n"
     ]
    },
    {
     "data": {
      "text/plain": [
       "[2, 3, 4, 5, 7]"
      ]
     },
     "execution_count": 31,
     "metadata": {},
     "output_type": "execute_result"
    }
   ],
   "source": [
    "sort_bubbleSorts()"
   ]
  },
  {
   "cell_type": "code",
   "execution_count": null,
   "metadata": {},
   "outputs": [],
   "source": []
  },
  {
   "cell_type": "code",
   "execution_count": null,
   "metadata": {},
   "outputs": [],
   "source": []
  },
  {
   "cell_type": "markdown",
   "metadata": {},
   "source": [
    "- **선택정렬** (불안정정렬)\n",
    "  - 나보다 작은 항목을 선택하고 자기 자리로 바꾸는 정렬\n",
    "  - 최대 복잡도 : O(n^2)"
   ]
  },
  {
   "cell_type": "markdown",
   "metadata": {},
   "source": [
    "###### 예) 선택정렬"
   ]
  },
  {
   "cell_type": "code",
   "execution_count": 41,
   "metadata": {},
   "outputs": [
    {
     "name": "stdout",
     "output_type": "stream",
     "text": [
      "[8, 9, 3, 2, 5]\n"
     ]
    }
   ],
   "source": [
    "a = random.sample(range(1,10), 5)\n",
    "print(a)"
   ]
  },
  {
   "cell_type": "code",
   "execution_count": 42,
   "metadata": {},
   "outputs": [],
   "source": [
    "for i in range(len(a)-1):           # 리스트 크기-1 만큼 반복\n",
    "    for j in range(i+1, len(a)):    # 해당 인덱스+1 번째 부터 리스트 크기만큼 반복\n",
    "        if a[i] > a[j]:               # 현재 인덱스의 값이 현재 인덱스+1 번째 값보다 크다면...\n",
    "            a[i], a[j] = a[j], a[i]   # 두 값을 교체            "
   ]
  },
  {
   "cell_type": "code",
   "execution_count": 43,
   "metadata": {},
   "outputs": [
    {
     "name": "stdout",
     "output_type": "stream",
     "text": [
      "[2, 3, 5, 8, 9]\n"
     ]
    }
   ],
   "source": [
    "print(a)"
   ]
  },
  {
   "cell_type": "markdown",
   "metadata": {},
   "source": [
    "* 선택정렬 함수로..."
   ]
  },
  {
   "cell_type": "code",
   "execution_count": 49,
   "metadata": {},
   "outputs": [],
   "source": [
    "def sort_selectionSotrs(arr = None):\n",
    "    a = None\n",
    "    \n",
    "    if arr == None:\n",
    "        a = random.sample(range(1,10), 5)\n",
    "    else :\n",
    "        a = arr\n",
    "    \n",
    "    print(\"original array \\t: \",a)\n",
    "    \n",
    "    for i in range(len(a)-1):           # 리스트 크기-1 만큼 반복\n",
    "        for j in range(i+1, len(a)):    # 해당 인덱스+1 번째 부터 리스트 크기만큼 반복\n",
    "            if a[i] > a[j]:               # 현재 인덱스의 값이 현재 인덱스+1 번째 값보다 크다면...\n",
    "                a[i], a[j] = a[j], a[i]   # 두 값을 교체            \n",
    "                \n",
    "    print(\"sorted array \\t: \",a)\n",
    "    return a"
   ]
  },
  {
   "cell_type": "code",
   "execution_count": 50,
   "metadata": {},
   "outputs": [
    {
     "name": "stdout",
     "output_type": "stream",
     "text": [
      "original array \t:  [3, 8, 5, 4, 6]\n",
      "sorted array \t:  [3, 4, 5, 6, 8]\n"
     ]
    },
    {
     "data": {
      "text/plain": [
       "[3, 4, 5, 6, 8]"
      ]
     },
     "execution_count": 50,
     "metadata": {},
     "output_type": "execute_result"
    }
   ],
   "source": [
    "sort_selectionSotrs()"
   ]
  },
  {
   "cell_type": "code",
   "execution_count": null,
   "metadata": {},
   "outputs": [],
   "source": []
  },
  {
   "cell_type": "code",
   "execution_count": null,
   "metadata": {},
   "outputs": [],
   "source": []
  },
  {
   "cell_type": "markdown",
   "metadata": {},
   "source": [
    "- **퀵정렬** (불안정정렬)\n",
    "  - 재귀함수를 통해 구현됨\n",
    "  - 최대 복잡도 : O(nlogn)"
   ]
  },
  {
   "cell_type": "markdown",
   "metadata": {},
   "source": [
    "###### 예) 퀵정렬"
   ]
  },
  {
   "cell_type": "code",
   "execution_count": 51,
   "metadata": {},
   "outputs": [
    {
     "name": "stdout",
     "output_type": "stream",
     "text": [
      "[1, 7, 8, 5, 3]\n"
     ]
    }
   ],
   "source": [
    "a = random.sample(range(1,10), 5)\n",
    "print(a)"
   ]
  },
  {
   "cell_type": "code",
   "execution_count": 53,
   "metadata": {},
   "outputs": [],
   "source": [
    "def quickSort(arr, start, end):      # 재귀함수(리스트 , 시작인덱스, 종료인덱스)\n",
    "    if start < end :                 # 시작인덱스가 종료인덱스 보다 작을 경우\n",
    "        left = start                 # left 변수에 시작인덱스 지정\n",
    "        pivot = a[end]               # pivot값은 리스트의 마지막 원소 값\n",
    "        \n",
    "        for i in range(start, end):                    # 시작인덱스부터 종료인덱스까지 반복\n",
    "            if arr[i] < pivot:                         # 현재인덱스 값이 pivot(리스트 마지막 원소 값) 보다 작다면...\n",
    "                arr[i], arr[left] = arr[left], arr[i]  # 현재인덱스와 left 인덱스의 값을 교체 \n",
    "                left += 1                              # 인덱스를 증가하여 위치를 다음 인덱스로 바꿈\n",
    "        \n",
    "        arr[left], arr[end] = arr[end], arr[left]      # left인덱스와 끝 인덱스 값을 교체\n",
    "        print(left)\n",
    "        quickSort(arr, start, left-1)  # 재귀 호출(리스트, 시작인덱스, left-1)\n",
    "        quickSort(arr, left+1, end)    # 재귀 호출(리스트, left+1, 종료인덱스)"
   ]
  },
  {
   "cell_type": "code",
   "execution_count": 54,
   "metadata": {},
   "outputs": [
    {
     "name": "stdout",
     "output_type": "stream",
     "text": [
      "1\n",
      "3\n",
      "\n",
      "\n",
      "[1, 3, 5, 7, 8]\n"
     ]
    }
   ],
   "source": [
    "quickSort(a, 0, len(a)-1)\n",
    "print(\"\\n\")\n",
    "print(a)"
   ]
  },
  {
   "cell_type": "code",
   "execution_count": null,
   "metadata": {},
   "outputs": [],
   "source": []
  },
  {
   "cell_type": "code",
   "execution_count": null,
   "metadata": {},
   "outputs": [],
   "source": []
  },
  {
   "cell_type": "markdown",
   "metadata": {},
   "source": [
    "- **병합정렬**\n",
    "  - 재귀함수를 통해 구현됨\n",
    "  - 최대 복잡도 : O(logn)"
   ]
  },
  {
   "cell_type": "markdown",
   "metadata": {},
   "source": [
    "###### 예) 병합정렬"
   ]
  },
  {
   "cell_type": "code",
   "execution_count": 10,
   "metadata": {},
   "outputs": [
    {
     "name": "stdout",
     "output_type": "stream",
     "text": [
      "[4, 2, 7, 5, 6]\n"
     ]
    }
   ],
   "source": [
    "a = random.sample(range(1,10), 5)\n",
    "print(a)"
   ]
  },
  {
   "cell_type": "code",
   "execution_count": 11,
   "metadata": {},
   "outputs": [],
   "source": [
    "def mergeSort(arr):\n",
    "    if len(arr) > 1:              # 배열의 길이가 1보다 클경우에만 재귀함수 호출을 반복함\n",
    "        mid = len(arr)//2         # 중간값을 전체 길이의 절반의 값을 취함\n",
    "        la, ra = arr[:mid], arr[mid:]   #la(left area), ra(right area) 중간값을 기준으로 좌우로 나눔\n",
    "        mergeSort(la)             # 왼쪽 서브리스트의 값을 기준으로 병합정렬 재귀 호출\n",
    "        mergeSort(ra)             # 오른쪽 서브리스트의 값을 기준으로 병합정렬 재귀 호출\n",
    "        li, ri , i = 0, 0, 0      # li(left index), ri(right index), i(index)정렬을 위한 변수 선언\n",
    "        \n",
    "        while li < len(la) and ri < len(ra):  # 서브리스트의 정렬이 끝날때까지 반복\n",
    "            if la[li] < ra[ri]:               # 오른쪽 리스트의 값이 클 경우\n",
    "                arr[i] = la[li]                  # 왼쪽 리스트의 해당 인덱스의 값을 할당\n",
    "                li += 1                         # 왼쪽 리스트의 인덱스 1증가\n",
    "            else:                             # 왼쪽 리스트의 값이 클 경우\n",
    "                arr[i] = ra[ri]                  # 오른쪽 리스트의 해당 인덱스의 값을 할당\n",
    "                ri += 1                         # 오른쪽 리스트의 인덱스 1증가\n",
    "            i += 1                            # 기준 인덱스 1증가\n",
    "        \n",
    "        arr[i:] = la[li:] if li != len(la) else ra[ri:]\n",
    "        # 왼쪽 리스트의 인덱스의 값이 서브리스트의 값과 같지 않을 경우라면 정렬 끝\n",
    "        # 왼쪽 서브 리스트의 값을 리스트에 덮어쓰기, 그렇지 않은 경우라면 오른쪽 서브 리스트의 값 할당"
   ]
  },
  {
   "cell_type": "code",
   "execution_count": 12,
   "metadata": {},
   "outputs": [
    {
     "name": "stdout",
     "output_type": "stream",
     "text": [
      "[2, 4, 5, 6, 7]\n"
     ]
    }
   ],
   "source": [
    "mergeSort(a)\n",
    "print(a)"
   ]
  },
  {
   "cell_type": "markdown",
   "metadata": {},
   "source": []
  },
  {
   "cell_type": "code",
   "execution_count": null,
   "metadata": {},
   "outputs": [],
   "source": []
  },
  {
   "cell_type": "markdown",
   "metadata": {},
   "source": [
    "* 쉘 정렬(불안정 정렬)\n",
    "  - 삽입 정렬을 개선한 확장판 버전\n",
    "  - 일정한 구간을 나눠서 그 구간에서 삽잊 정렬을 실행\n",
    "  - 최대 복잡도 : O(n^2) -> O(nlog2n)이 최선"
   ]
  },
  {
   "cell_type": "code",
   "execution_count": 13,
   "metadata": {},
   "outputs": [
    {
     "name": "stdout",
     "output_type": "stream",
     "text": [
      "[6, 1, 5, 9, 8]\n"
     ]
    }
   ],
   "source": [
    "a = random.sample(range(1,10), 5)\n",
    "print(a)"
   ]
  },
  {
   "cell_type": "code",
   "execution_count": 14,
   "metadata": {},
   "outputs": [],
   "source": [
    "def InsertionSort(x, start, gap):                # 삽입정렬 구현\n",
    "    for target in range(start+gap, len(x), gap): # (시작인덱스+차이, 리스트 크기만큼 반복, 차이까지)\n",
    "        val = x[target]                          # 리스트의 값\n",
    "        i = target                               # 인덱스 저장\n",
    "        while i > start:                           #  증감 값 보다 인덱스가 크다면 반복\n",
    "            if x[i-gap] > val:                       # 리스트의 비교 인덱스 값 보다 크다면\n",
    "                x[i] = x[i-gap]                      #  해당 인덱스 값 할당\n",
    "            else:                                  # 리스트의 비교 인덱스 값 보다 작다면\n",
    "                break                                # 반복 중지\n",
    "            i -= gap                               # 중간 값만큼 빼주기\n",
    "        x[i] = val                               # 해당 값 삽입\n",
    "\n",
    "def shellSort(x): #\n",
    "    gap = len(x) // 2 # 리스트를 2로 나눈 몫 (중간 값) 취함\n",
    "    while gap > 0: #\n",
    "        for start in range(gap): # 중간 값의 크기만큼 반복\n",
    "            InsertionSort(x, start, gap) # 삽입정렬 메소드 호출 (리스트, 증감 값, 중간 값)\n",
    "        gap = gap // 2 # 리스트를 2로 나눈 몫 (중간 값) 취함 (반으로 줄여나간다.)\n"
   ]
  },
  {
   "cell_type": "code",
   "execution_count": 16,
   "metadata": {},
   "outputs": [
    {
     "name": "stdout",
     "output_type": "stream",
     "text": [
      "[1, 5, 6, 8, 9]\n"
     ]
    }
   ],
   "source": [
    "shellSort(a)\n",
    "print(a) "
   ]
  },
  {
   "cell_type": "code",
   "execution_count": null,
   "metadata": {},
   "outputs": [],
   "source": []
  },
  {
   "cell_type": "code",
   "execution_count": null,
   "metadata": {},
   "outputs": [],
   "source": []
  },
  {
   "cell_type": "markdown",
   "metadata": {},
   "source": [
    "* 기수 정렬(불안정 정렬)\n",
    "  - MSB -> LSB 큰 자리수부터 정렬\n",
    "  - LSB -> MSB 작은 자리수 부터 정렬, 2가지 방식 \n",
    "  - 최대 복잡도 : O(d(n+k))\n",
    "    - d: 자리수 \n",
    "    - d 자리수 숫자 n개가 주어졌을때 최대 k값을 가질 수 있음"
   ]
  },
  {
   "cell_type": "markdown",
   "metadata": {},
   "source": [
    "###### 예) 기수 정렬"
   ]
  },
  {
   "cell_type": "code",
   "execution_count": 18,
   "metadata": {},
   "outputs": [
    {
     "name": "stdout",
     "output_type": "stream",
     "text": [
      "[7, 9, 2, 8, 3]\n"
     ]
    }
   ],
   "source": [
    "a = random.sample(range(1,10), 5)\n",
    "print(a)"
   ]
  },
  {
   "cell_type": "code",
   "execution_count": 19,
   "metadata": {},
   "outputs": [],
   "source": [
    "def radixSort(a):\n",
    "    isSort = False # 정렬 완료시 True\n",
    "    index = 1 # 시작 인덱스\n",
    "    while not isSort: # 정렬이 되지 않았다면 반복\n",
    "        isSort = True # 정렬 상태 확인 변수\n",
    "        sortList = [list()for _ in range(10)] # 빈 리스트 선언\n",
    "\n",
    "        for num in a: # 리스트의 크기만큼 반복\n",
    "            number = (int)(num/index)%10 # 자리 수를 기준으로 정렬하기 위한 변수 할당\n",
    "            sortList[number].append(num) # 자리 수를 기준으로 리스트에 인덱스 선언\n",
    "            if isSort and number > 0: # 정렬 되지 않았다면 && 자리 수 변수가 0보다 크다면\n",
    "                isSort = False # 정렬 안 됨~\n",
    "\n",
    "        i = 0 # 인덱스 증가용 변수 선언\n",
    "        for number1 in sortList: # 정렬 리스트 크기만큼 반복\n",
    "            for num in number1: # 증감 값의 크기만큼 반복\n",
    "                a[i] = num # 리스트에 인덱스 값 넣기\n",
    "                i += 1 # 인덱스 증가\n",
    "        index *= 10 # 자리 수 증가"
   ]
  },
  {
   "cell_type": "code",
   "execution_count": 20,
   "metadata": {},
   "outputs": [
    {
     "name": "stdout",
     "output_type": "stream",
     "text": [
      "[2, 3, 7, 8, 9]\n"
     ]
    }
   ],
   "source": [
    "radixSort(a)\n",
    "print(a)"
   ]
  },
  {
   "cell_type": "raw",
   "metadata": {},
   "source": []
  },
  {
   "cell_type": "code",
   "execution_count": null,
   "metadata": {},
   "outputs": [],
   "source": []
  },
  {
   "cell_type": "markdown",
   "metadata": {},
   "source": [
    "### [ 파이선 내장 (리스트)정렬함수]\n",
    "1. 리스트.sort() : 리스트 메소드\n",
    "  - `sort(*, key=None, reverse=False)`\n",
    "\n",
    "2. sorted(리스트) : 파이선 내장 함수\n",
    "  - `sorted(iterable, *, key=None, reverse=False)`\n"
   ]
  },
  {
   "cell_type": "markdown",
   "metadata": {},
   "source": [
    "* 리스트 선언"
   ]
  },
  {
   "cell_type": "code",
   "execution_count": 22,
   "metadata": {},
   "outputs": [
    {
     "name": "stdout",
     "output_type": "stream",
     "text": [
      "> 정렬 전 원본 데이터 리스트\n",
      "[15, 18, 11, 4, 13, 19, 6, 17, 7, 12]\n"
     ]
    }
   ],
   "source": [
    "a = random.sample(range(1,20), 10)\n",
    "print(\"> 정렬 전 원본 데이터 리스트\")\n",
    "print(a)"
   ]
  },
  {
   "cell_type": "markdown",
   "metadata": {},
   "source": [
    "* sort()"
   ]
  },
  {
   "cell_type": "code",
   "execution_count": 28,
   "metadata": {},
   "outputs": [
    {
     "name": "stdout",
     "output_type": "stream",
     "text": [
      "[4, 6, 7, 11, 12, 13, 15, 17, 18, 19]\n"
     ]
    }
   ],
   "source": [
    "# 오른 차순 정렬 \n",
    "a.sort()\n",
    "print(a)"
   ]
  },
  {
   "cell_type": "code",
   "execution_count": 29,
   "metadata": {},
   "outputs": [
    {
     "name": "stdout",
     "output_type": "stream",
     "text": [
      "[19, 18, 17, 15, 13, 12, 11, 7, 6, 4]\n"
     ]
    }
   ],
   "source": [
    "# 내림 차순 정렬\n",
    "a.sort(reverse=True)\n",
    "print(a)"
   ]
  },
  {
   "cell_type": "markdown",
   "metadata": {},
   "source": [
    "* sorted() "
   ]
  },
  {
   "cell_type": "code",
   "execution_count": 31,
   "metadata": {},
   "outputs": [
    {
     "name": "stdout",
     "output_type": "stream",
     "text": [
      "[4, 6, 7, 11, 12, 13, 15, 17, 18, 19]\n"
     ]
    }
   ],
   "source": [
    "# sorted() 파이썬 내장 정렬 함수 사용\n",
    "print(sorted(a))"
   ]
  },
  {
   "cell_type": "code",
   "execution_count": 32,
   "metadata": {},
   "outputs": [
    {
     "name": "stdout",
     "output_type": "stream",
     "text": [
      "['a', 'is', \"Moon's\", 'This', 'world']\n"
     ]
    }
   ],
   "source": [
    "# sorted 함수를 이용한 키 값 기준 정렬\n",
    "print(sorted(\"This is a Moon's world\".split(), key=str.lower)) "
   ]
  },
  {
   "cell_type": "code",
   "execution_count": 38,
   "metadata": {},
   "outputs": [
    {
     "name": "stdout",
     "output_type": "stream",
     "text": [
      "[('bcd', 'B', 1), ('abc', 'A', 3), ('cde', 'C', 15)]\n"
     ]
    }
   ],
   "source": [
    "# 불특정 tuple을 갖는 리스트 생성\n",
    "b= [('abc','A',3), ('bcd','B',1), ('cde','C',15)] \n",
    "# tuple의 2번째(2번째 인덱스)) 요소를 가지고 정렬\n",
    "# 1, 3, 15 <- 정수를 가지고 정렬 함\n",
    "print(sorted(b, key=lambda b: b[2])) "
   ]
  },
  {
   "cell_type": "code",
   "execution_count": null,
   "metadata": {},
   "outputs": [],
   "source": []
  }
 ],
 "metadata": {
  "kernelspec": {
   "display_name": "Python 3",
   "language": "python",
   "name": "python3"
  },
  "language_info": {
   "codemirror_mode": {
    "name": "ipython",
    "version": 3
   },
   "file_extension": ".py",
   "mimetype": "text/x-python",
   "name": "python",
   "nbconvert_exporter": "python",
   "pygments_lexer": "ipython3",
   "version": "3.6.8"
  }
 },
 "nbformat": 4,
 "nbformat_minor": 2
}
