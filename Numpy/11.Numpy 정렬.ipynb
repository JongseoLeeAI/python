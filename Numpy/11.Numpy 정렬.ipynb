{
 "cells": [
  {
   "cell_type": "markdown",
   "metadata": {},
   "source": [
    "# Numpy 정렬"
   ]
  },
  {
   "cell_type": "markdown",
   "metadata": {},
   "source": [
    "* python에서 제공하는 리스트 정렬 함수 sort, sorted 제공\n",
    "* 그러나, Numpy의 np.sort 가 더 효율적\n",
    "* 관련 정렬 함수 \n",
    "  - np.sort()\n",
    "  - np.argsort()\n",
    "  - np.lexsort()\n",
    "  - np.searchsorted()\n",
    "  - np.partition()"
   ]
  },
  {
   "cell_type": "code",
   "execution_count": 1,
   "metadata": {},
   "outputs": [],
   "source": [
    "import numpy as np"
   ]
  },
  {
   "cell_type": "markdown",
   "metadata": {},
   "source": [
    "### [ np.sort ]\n",
    "- **np.sort**\n",
    "  - 내부적으로 퀵 정렬 알고리즘을 사용하지만 kind 파라미터를 이용하여 병합정렬, 힙정렬 등도 사용 가능\n",
    "  - 선언 \n",
    "    - `numpy.sort(a, axis=-1, kind='quicksort', order=None)`\n",
    "    - a : 정렬할 배열\n",
    "    - kind = {'quicksort', 'mergesort', 'heapsort', 'stable' }    "
   ]
  },
  {
   "cell_type": "markdown",
   "metadata": {},
   "source": [
    "###### 예) np.sort"
   ]
  },
  {
   "cell_type": "code",
   "execution_count": 10,
   "metadata": {},
   "outputs": [],
   "source": [
    "x = np.array([2,1,4,3,5])\n",
    "print(x)\n",
    "print(\"ndim : \",x.ndim)\n",
    "print(\"shape : \",x.shape)\n",
    "print(\"size : \",x.size)"
   ]
  },
  {
   "cell_type": "markdown",
   "metadata": {},
   "source": [
    "* Numpy 정렬 `np.sort(배열)` 사용"
   ]
  },
  {
   "cell_type": "code",
   "execution_count": 13,
   "metadata": {},
   "outputs": [
    {
     "name": "stdout",
     "output_type": "stream",
     "text": [
      "정렬된 상태 :  [1 2 3 4 5]\n",
      "원본 배열 :  [2 1 4 3 5]\n"
     ]
    }
   ],
   "source": [
    "print(\"정렬된 상태 : \", np.sort(x))\n",
    "print(\"원본 배열 : \",x)"
   ]
  },
  {
   "cell_type": "markdown",
   "metadata": {},
   "source": [
    "* np.sort 는 원본 배열을 정렬하게 되지 않고 정렬된 배열을 반환한다"
   ]
  },
  {
   "cell_type": "markdown",
   "metadata": {},
   "source": [
    "* python 리스트 정렬 함수 `리스트.sort()` 를 사용하면 원본 배열이 정렬됨"
   ]
  },
  {
   "cell_type": "code",
   "execution_count": 16,
   "metadata": {},
   "outputs": [
    {
     "name": "stdout",
     "output_type": "stream",
     "text": [
      "원본배열 :  [2, 1, 4, 3, 5]\n",
      "None\n",
      "정렬된 상태 :  [1, 2, 3, 4, 5]\n"
     ]
    }
   ],
   "source": [
    "# python sort() 사용\n",
    "a = [2,1,4,3,5]\n",
    "print(\"원본배열 : \",a)\n",
    "print(a.sort())       # 리스트 함수를 사용하면 Return 없음\n",
    "print(\"정렬된 상태 : \",a)"
   ]
  },
  {
   "cell_type": "markdown",
   "metadata": {},
   "source": [
    "* python 정렬 내장 함수 `sorted(리스트)`를 사용하면 원본은 그대로 있고 정렬된 리스트가 반환됨"
   ]
  },
  {
   "cell_type": "code",
   "execution_count": 19,
   "metadata": {},
   "outputs": [
    {
     "name": "stdout",
     "output_type": "stream",
     "text": [
      "원본배열 :  [2, 1, 4, 3, 5]\n",
      "정렬된 상태 :  [1, 2, 3, 4, 5]\n",
      "원본배열 :  [2, 1, 4, 3, 5]\n"
     ]
    }
   ],
   "source": [
    "b = [2,1,4,3,5]\n",
    "print(\"원본배열 : \",b)\n",
    "print(\"정렬된 상태 : \", sorted(b)) # 내장 함수 sorted()를 사용하면 리스트 Return\n",
    "print(\"원본배열 : \",b)"
   ]
  },
  {
   "cell_type": "code",
   "execution_count": null,
   "metadata": {},
   "outputs": [],
   "source": []
  },
  {
   "cell_type": "markdown",
   "metadata": {},
   "source": [
    "### [ np.argsort ]\n",
    "- **np.argsort**\n",
    "  - 정렬된 요소의 인덱스를 반환\n",
    "  - 선언 \n",
    "    - `numpy.argsort(a, axis=-1, kind='quicksort', order=None)`\n",
    "    - a : 정렬할 배열\n",
    "    - kind = {'quicksort', 'mergesort', 'heapsort', 'stable' }"
   ]
  },
  {
   "cell_type": "markdown",
   "metadata": {},
   "source": [
    "###### 예) np.argsort"
   ]
  },
  {
   "cell_type": "code",
   "execution_count": 20,
   "metadata": {},
   "outputs": [
    {
     "name": "stdout",
     "output_type": "stream",
     "text": [
      "[2 1 4 3 5]\n",
      "ndim :  1\n",
      "shape :  (5,)\n",
      "size :  5\n"
     ]
    }
   ],
   "source": [
    "x = np.array([2,1,4,3,5])\n",
    "print(x)\n",
    "print(\"ndim : \",x.ndim)\n",
    "print(\"shape : \",x.shape)\n",
    "print(\"size : \",x.size)"
   ]
  },
  {
   "cell_type": "markdown",
   "metadata": {},
   "source": [
    "* x 배열의 인덱스와 그 값 \n",
    "<pre><code>\n",
    "x[0] = 2               1 = x[1] => 1\n",
    "x[1] = 1               2 = x[0] => 0\n",
    "x[2] = 4    --정렬-->   3 = x[3] => 3\n",
    "x[3] = 3               4 = x[2] => 2\n",
    "x[4] = 5               5 = x[4] => 4\n",
    "</code></pre>"
   ]
  },
  {
   "cell_type": "code",
   "execution_count": 24,
   "metadata": {},
   "outputs": [
    {
     "name": "stdout",
     "output_type": "stream",
     "text": [
      "[1 0 3 2 4]\n",
      "\n",
      "\n",
      "1\n",
      "2\n",
      "3\n",
      "4\n",
      "5\n"
     ]
    }
   ],
   "source": [
    "# 정렬된 배열의 인덱스 출력\n",
    "print(np.argsort(x))\n",
    "print(\"\\n\")\n",
    "# 정렬된 배열의 인덱스를 가지고 배열의 값 출력\n",
    "for index in np.argsort(x):\n",
    "    print(x[index])"
   ]
  },
  {
   "cell_type": "code",
   "execution_count": null,
   "metadata": {},
   "outputs": [],
   "source": []
  },
  {
   "cell_type": "markdown",
   "metadata": {},
   "source": [
    "### [ np.lexsort ]\n",
    "- **np.lexsort**\n",
    "  - 여러키를 사용하여 정렬된 요소의 인덱스를 반환\n",
    "  - 선언 \n",
    "    - `numpy.lexsort(keys, axis=-1)`\n",
    "    - key : 정렬할 배열을 리스트나 튜플로 입력, 키로 입력된 자료형의 마지막 항목이 기준이 됨([i,j,k] 일때 k 가 기준)\n",
    "    - axis : 정렬할 축 "
   ]
  },
  {
   "cell_type": "markdown",
   "metadata": {},
   "source": [
    "###### 예) np.lexsort - 이름 정렬"
   ]
  },
  {
   "cell_type": "code",
   "execution_count": 34,
   "metadata": {},
   "outputs": [
    {
     "name": "stdout",
     "output_type": "stream",
     "text": [
      "[1 2 0]\n",
      "<class 'numpy.ndarray'>\n"
     ]
    }
   ],
   "source": [
    "surnames =    ['Hertz',    'Galilei', 'Hertz']\n",
    "first_names = ['Heinrich', 'Galileo', 'Gustav']\n",
    "ind = np.lexsort([first_names, surnames])\n",
    "print(ind)\n",
    "print(type(ind))"
   ]
  },
  {
   "cell_type": "code",
   "execution_count": 35,
   "metadata": {},
   "outputs": [
    {
     "name": "stdout",
     "output_type": "stream",
     "text": [
      "['Galilei, Galileo', 'Hertz, Gustav', 'Hertz, Heinrich']\n",
      "<class 'list'>\n"
     ]
    }
   ],
   "source": [
    "result = [surnames[i] + \", \" + first_names[i] for i in ind]\n",
    "print(result)\n",
    "print(type(result))"
   ]
  },
  {
   "cell_type": "markdown",
   "metadata": {},
   "source": [
    "###### 예) np.lexsort - 두개의 숫자 배열 정렬"
   ]
  },
  {
   "cell_type": "code",
   "execution_count": 37,
   "metadata": {},
   "outputs": [
    {
     "name": "stdout",
     "output_type": "stream",
     "text": [
      "[2 0 4 6 5 3 1]\n"
     ]
    }
   ],
   "source": [
    "a = [1,5,1,4,3,4,4] # 1 column\n",
    "b = [9,4,0,4,0,2,1] # 2 column\n",
    "c = [10,20,30,40,50,60,70] # 3 column\n",
    "ind = np.lexsort([c, b, a]) # Sort by a, then by b,c\n",
    "print(ind)"
   ]
  },
  {
   "cell_type": "code",
   "execution_count": 38,
   "metadata": {},
   "outputs": [
    {
     "name": "stdout",
     "output_type": "stream",
     "text": [
      "[(1, 0, 30), (1, 9, 10), (3, 0, 50), (4, 1, 70), (4, 2, 60), (4, 4, 40), (5, 4, 20)]\n"
     ]
    }
   ],
   "source": [
    "result = [(a[i],b[i],c[i]) for i in ind]\n",
    "print(result)"
   ]
  },
  {
   "cell_type": "markdown",
   "metadata": {},
   "source": [
    "* **동일한 키값을 가질때 다음 기준의 키를 이용하여 정렬을 할 수 있음**"
   ]
  },
  {
   "cell_type": "code",
   "execution_count": null,
   "metadata": {},
   "outputs": [],
   "source": []
  },
  {
   "cell_type": "markdown",
   "metadata": {},
   "source": [
    "### [ np.searchsorted]\n",
    "- **np.searchsorted**\n",
    "  - 정렬된 배열에 값을 추가할때 어느 위치에 입력을 해야 순서가 그대로 정렬될지 입력할 위치를 반환\n",
    "  - 선언 \n",
    "    - `numpy.searchsorted(a, v, side='left', sorter=None)`\n",
    "    - a : 입력할 배열(정렬된 배열) => 정렬안된 배열은 무조건 오름차순으로 정렬해서 입력해야함\n",
    "    - v : a에 삽입할 값\n",
    "    - side : {'left', 'right'} \n",
    "    - left는 첫번째 적합한 위치를 찾았을때 그 인덱스 반환\n",
    "    - right는 마지막 적합한 위치를 찾았을때 그 인덱스 반환"
   ]
  },
  {
   "cell_type": "markdown",
   "metadata": {},
   "source": [
    "###### 예) np.searchsorted 1"
   ]
  },
  {
   "cell_type": "code",
   "execution_count": 43,
   "metadata": {},
   "outputs": [
    {
     "data": {
      "text/plain": [
       "2"
      ]
     },
     "execution_count": 43,
     "metadata": {},
     "output_type": "execute_result"
    }
   ],
   "source": [
    "# 입력된 배열에 3이 들어갈 위치 반환 (default side = left)\n",
    "np.searchsorted([1,2,3,4,5], 3)"
   ]
  },
  {
   "cell_type": "code",
   "execution_count": 46,
   "metadata": {},
   "outputs": [
    {
     "data": {
      "text/plain": [
       "3"
      ]
     },
     "execution_count": 46,
     "metadata": {},
     "output_type": "execute_result"
    }
   ],
   "source": [
    "# 입력된 배열에 3이 들어갈 위치 반환 side = right\n",
    "np.searchsorted([1,2,3,4,5], 3, side='right')"
   ]
  },
  {
   "cell_type": "code",
   "execution_count": 47,
   "metadata": {},
   "outputs": [
    {
     "data": {
      "text/plain": [
       "array([0, 5, 1, 2])"
      ]
     },
     "execution_count": 47,
     "metadata": {},
     "output_type": "execute_result"
    }
   ],
   "source": [
    "# 입력된 배열에 -10, 10, 2, 3 이 들어갈 위치를 배열로 반환\n",
    "np.searchsorted([1,2,3,4,5], [-10, 10, 2, 3])"
   ]
  },
  {
   "cell_type": "markdown",
   "metadata": {},
   "source": [
    "###### 예) np.searchsorted 2"
   ]
  },
  {
   "cell_type": "code",
   "execution_count": 48,
   "metadata": {},
   "outputs": [
    {
     "name": "stdout",
     "output_type": "stream",
     "text": [
      "[ 0  2  4  6  8 10 12 14 16 18]\n"
     ]
    }
   ],
   "source": [
    "sample = np.arange(0, 20, 2)\n",
    "print(sample)"
   ]
  },
  {
   "cell_type": "code",
   "execution_count": 68,
   "metadata": {},
   "outputs": [
    {
     "name": "stdout",
     "output_type": "stream",
     "text": [
      "입력할 위치의 index 는  4\n",
      "8 은  6 과  8 사이에 입력\n"
     ]
    }
   ],
   "source": [
    "value = 8\n",
    "result = np.searchsorted(sample, value)\n",
    "print(\"입력할 위치의 index 는 \",result)\n",
    "print(value,\"은 \", sample[result-1],\"과 \",sample[result],\"사이에 입력\")"
   ]
  },
  {
   "cell_type": "code",
   "execution_count": 69,
   "metadata": {},
   "outputs": [
    {
     "name": "stdout",
     "output_type": "stream",
     "text": [
      "입력할 위치의 index 는  5\n",
      "8 은  8 과  10 사이에 입력\n"
     ]
    }
   ],
   "source": [
    "value = 8\n",
    "result = np.searchsorted(sample, value, side='right')\n",
    "print(\"입력할 위치의 index 는 \",result)\n",
    "print(value,\"은 \", sample[result-1],\"과 \",sample[result],\"사이에 입력\")"
   ]
  },
  {
   "cell_type": "markdown",
   "metadata": {},
   "source": [
    "###### 예) np.searchsorted 3"
   ]
  },
  {
   "cell_type": "code",
   "execution_count": 73,
   "metadata": {},
   "outputs": [
    {
     "name": "stdout",
     "output_type": "stream",
     "text": [
      "[1, 1, 1, 4, 4, 5, 4, 7, 7, 7]\n"
     ]
    }
   ],
   "source": [
    "arr = [1,1,1,4,4,5,4,7,7,7]\n",
    "print(arr)"
   ]
  },
  {
   "cell_type": "code",
   "execution_count": 74,
   "metadata": {},
   "outputs": [
    {
     "name": "stdout",
     "output_type": "stream",
     "text": [
      "입력할 위치의 index 는  3\n",
      "4 은  1 과  4 사이에 입력\n"
     ]
    }
   ],
   "source": [
    "value = 4\n",
    "result = np.searchsorted(arr, value)\n",
    "print(\"입력할 위치의 index 는 \",result)\n",
    "print(value,\"은 \", arr[result-1],\"과 \",arr[result],\"사이에 입력\")"
   ]
  },
  {
   "cell_type": "code",
   "execution_count": 75,
   "metadata": {},
   "outputs": [
    {
     "name": "stdout",
     "output_type": "stream",
     "text": [
      "입력할 위치의 index 는  5\n",
      "4 은  4 과  5 사이에 입력\n"
     ]
    }
   ],
   "source": [
    "value = 4\n",
    "result = np.searchsorted(arr, value, side='right')\n",
    "print(\"입력할 위치의 index 는 \",result)\n",
    "print(value,\"은 \", arr[result-1],\"과 \",arr[result],\"사이에 입력\")"
   ]
  },
  {
   "cell_type": "markdown",
   "metadata": {},
   "source": [
    "* **입력할 위치를 찾을때 왼쪽부터 찾기를 시작함(index 0 부터 위치를 찾음)**\n",
    "* 그래서 정렬된 배열이  입력값(`a`)으로 들어가야함"
   ]
  },
  {
   "cell_type": "code",
   "execution_count": null,
   "metadata": {},
   "outputs": [],
   "source": []
  },
  {
   "cell_type": "markdown",
   "metadata": {},
   "source": [
    "### [ np.partition]\n",
    "- **np.partition**\n",
    "  - 전체 배열을 정렬할 필요가 없으면 단순희 배열안에서 k개(kth)만큼만 정렬이 필요할때 사용\n",
    "  - k번째 인덱스 까지만 정렬된 데이터가 나오며 나머지는 랜덤하게 채워진 배열이 반환됨(k개 정렬된 값들은 그것들 사이에 정렬은 안됨)\n",
    "  - 선언 \n",
    "    - `numpy.partition(a, kth, axis=-1, kind='introselect', order=None)`\n",
    "    - a : 정렬할 배열\n",
    "    - kth : 어디까지 정렬할지 입력"
   ]
  },
  {
   "cell_type": "markdown",
   "metadata": {},
   "source": [
    "###### 예) np.partition"
   ]
  },
  {
   "cell_type": "code",
   "execution_count": 76,
   "metadata": {},
   "outputs": [
    {
     "data": {
      "text/plain": [
       "array([2, 1, 3, 4, 6, 5, 7])"
      ]
     },
     "execution_count": 76,
     "metadata": {},
     "output_type": "execute_result"
    }
   ],
   "source": [
    "x = np.array([7, 2, 3, 1, 6, 5, 4])\n",
    "np.partition(x, 3)"
   ]
  },
  {
   "cell_type": "code",
   "execution_count": 78,
   "metadata": {},
   "outputs": [
    {
     "name": "stdout",
     "output_type": "stream",
     "text": [
      "[[6 3 7 4 6 9]\n",
      " [2 6 7 4 3 7]\n",
      " [7 2 5 4 1 7]\n",
      " [5 1 4 0 9 5]]\n"
     ]
    },
    {
     "data": {
      "text/plain": [
       "array([[3, 4, 6, 7, 6, 9],\n",
       "       [2, 3, 4, 7, 6, 7],\n",
       "       [1, 2, 4, 5, 7, 7],\n",
       "       [0, 1, 4, 5, 9, 5]])"
      ]
     },
     "execution_count": 78,
     "metadata": {},
     "output_type": "execute_result"
    }
   ],
   "source": [
    "rand = np.random.RandomState(42)\n",
    "X = rand.randint(0, 10, (4, 6))\n",
    "print(X)\n",
    "np.partition(X, 2, axis=1)"
   ]
  },
  {
   "cell_type": "code",
   "execution_count": null,
   "metadata": {},
   "outputs": [],
   "source": []
  },
  {
   "cell_type": "markdown",
   "metadata": {},
   "source": [
    "## Example: k-Nearest Neighbors"
   ]
  },
  {
   "cell_type": "markdown",
   "metadata": {},
   "source": [
    "* 2차원 평면에 10개의 점을 생성"
   ]
  },
  {
   "cell_type": "code",
   "execution_count": 135,
   "metadata": {},
   "outputs": [
    {
     "name": "stdout",
     "output_type": "stream",
     "text": [
      "[[0.37454012 0.95071431]\n",
      " [0.73199394 0.59865848]\n",
      " [0.15601864 0.15599452]\n",
      " [0.05808361 0.86617615]\n",
      " [0.60111501 0.70807258]\n",
      " [0.02058449 0.96990985]\n",
      " [0.83244264 0.21233911]\n",
      " [0.18182497 0.18340451]\n",
      " [0.30424224 0.52475643]\n",
      " [0.43194502 0.29122914]]\n",
      "ndim :  2\n",
      "shape :  (10, 2)\n",
      "size :  20\n"
     ]
    }
   ],
   "source": [
    "rand = np.random.RandomState(42)\n",
    "X = rand.rand(10, 2)\n",
    "print(X)\n",
    "print(\"ndim : \",X.ndim)\n",
    "print(\"shape : \",X.shape)\n",
    "print(\"size : \",X.size)"
   ]
  },
  {
   "cell_type": "markdown",
   "metadata": {},
   "source": [
    "* 10개의 점의 분포 확인"
   ]
  },
  {
   "cell_type": "code",
   "execution_count": 136,
   "metadata": {},
   "outputs": [
    {
     "data": {
      "image/png": "[encoded data removed]",
      "text/plain": [
       "<Figure size 432x288 with 1 Axes>"
      ]
     },
     "metadata": {},
     "output_type": "display_data"
    }
   ],
   "source": [
    "%matplotlib inline\n",
    "import matplotlib.pyplot as plt\n",
    "import seaborn; seaborn.set() # Plot styling\n",
    "plt.scatter(X[:, 0], X[:, 1], s=100);"
   ]
  },
  {
   "cell_type": "markdown",
   "metadata": {},
   "source": [
    "* 각 점들 사이의 거리 계산\n",
    "  * 두점사이의거리제곱 = 각 차원간의 차이를 제곱해서 더한값"
   ]
  },
  {
   "cell_type": "markdown",
   "metadata": {},
   "source": [
    "___\n",
    "dist_sq(두점사이의 거리의 제곱) 중간과정 "
   ]
  },
  {
   "cell_type": "code",
   "execution_count": 137,
   "metadata": {},
   "outputs": [
    {
     "name": "stdout",
     "output_type": "stream",
     "text": [
      "[[[0.37454012 0.95071431]]\n",
      "\n",
      " [[0.73199394 0.59865848]]\n",
      "\n",
      " [[0.15601864 0.15599452]]\n",
      "\n",
      " [[0.05808361 0.86617615]]\n",
      "\n",
      " [[0.60111501 0.70807258]]\n",
      "\n",
      " [[0.02058449 0.96990985]]\n",
      "\n",
      " [[0.83244264 0.21233911]]\n",
      "\n",
      " [[0.18182497 0.18340451]]\n",
      "\n",
      " [[0.30424224 0.52475643]]\n",
      "\n",
      " [[0.43194502 0.29122914]]]\n",
      "(10, 1, 2)\n"
     ]
    }
   ],
   "source": [
    "#(10,2) - > (10,1,2) 로 차원 추가\n",
    "print(X[:, np.newaxis, :])\n",
    "print(X[:, np.newaxis, :].shape)"
   ]
  },
  {
   "cell_type": "code",
   "execution_count": 138,
   "metadata": {},
   "outputs": [
    {
     "name": "stdout",
     "output_type": "stream",
     "text": [
      "[[[0.37454012 0.95071431]\n",
      "  [0.73199394 0.59865848]\n",
      "  [0.15601864 0.15599452]\n",
      "  [0.05808361 0.86617615]\n",
      "  [0.60111501 0.70807258]\n",
      "  [0.02058449 0.96990985]\n",
      "  [0.83244264 0.21233911]\n",
      "  [0.18182497 0.18340451]\n",
      "  [0.30424224 0.52475643]\n",
      "  [0.43194502 0.29122914]]]\n",
      "(1, 10, 2)\n"
     ]
    }
   ],
   "source": [
    "# (10,2) -> (1, 10, 2) 로 차원 추가\n",
    "print(X[np.newaxis, :, : ])\n",
    "print(X[np.newaxis, :, : ].shape)"
   ]
  },
  {
   "cell_type": "code",
   "execution_count": 139,
   "metadata": {},
   "outputs": [
    {
     "name": "stdout",
     "output_type": "stream",
     "text": [
      "[[[ 0.          0.        ]\n",
      "  [-0.35745382  0.35205582]\n",
      "  [ 0.21852148  0.79471979]\n",
      "  [ 0.31645651  0.08453816]\n",
      "  [-0.22657489  0.24264173]\n",
      "  [ 0.35395562 -0.01919555]\n",
      "  [-0.45790252  0.7383752 ]\n",
      "  [ 0.19271515  0.7673098 ]\n",
      "  [ 0.07029788  0.42595787]\n",
      "  [-0.0574049   0.65948517]]\n",
      "\n",
      " [[ 0.35745382 -0.35205582]\n",
      "  [ 0.          0.        ]\n",
      "  [ 0.5759753   0.44266396]\n",
      "  [ 0.67391033 -0.26751766]\n",
      "  [ 0.13087893 -0.10941409]\n",
      "  [ 0.71140945 -0.37125137]\n",
      "  [-0.1004487   0.38631937]\n",
      "  [ 0.55016897  0.41525397]\n",
      "  [ 0.4277517   0.07390205]\n",
      "  [ 0.30004892  0.30742934]]\n",
      "\n",
      " [[-0.21852148 -0.79471979]\n",
      "  [-0.5759753  -0.44266396]\n",
      "  [ 0.          0.        ]\n",
      "  [ 0.09793503 -0.71018163]\n",
      "  [-0.44509637 -0.55207806]\n",
      "  [ 0.13543415 -0.81391533]\n",
      "  [-0.676424   -0.05634459]\n",
      "  [-0.02580633 -0.02740999]\n",
      "  [-0.1482236  -0.36876191]\n",
      "  [-0.27592638 -0.13523462]]\n",
      "\n",
      " [[-0.31645651 -0.08453816]\n",
      "  [-0.67391033  0.26751766]\n",
      "  [-0.09793503  0.71018163]\n",
      "  [ 0.          0.        ]\n",
      "  [-0.5430314   0.15810357]\n",
      "  [ 0.03749912 -0.10373371]\n",
      "  [-0.77435903  0.65383704]\n",
      "  [-0.12374136  0.68277164]\n",
      "  [-0.24615863  0.34141971]\n",
      "  [-0.37386141  0.57494701]]\n",
      "\n",
      " [[ 0.22657489 -0.24264173]\n",
      "  [-0.13087893  0.10941409]\n",
      "  [ 0.44509637  0.55207806]\n",
      "  [ 0.5430314  -0.15810357]\n",
      "  [ 0.          0.        ]\n",
      "  [ 0.58053052 -0.26183727]\n",
      "  [-0.23132763  0.49573347]\n",
      "  [ 0.41929004  0.52466807]\n",
      "  [ 0.29687277  0.18331615]\n",
      "  [ 0.16916999  0.41684344]]\n",
      "\n",
      " [[-0.35395562  0.01919555]\n",
      "  [-0.71140945  0.37125137]\n",
      "  [-0.13543415  0.81391533]\n",
      "  [-0.03749912  0.10373371]\n",
      "  [-0.58053052  0.26183727]\n",
      "  [ 0.          0.        ]\n",
      "  [-0.81185815  0.75757074]\n",
      "  [-0.16124047  0.78650534]\n",
      "  [-0.28365775  0.44515342]\n",
      "  [-0.41136052  0.67868071]]\n",
      "\n",
      " [[ 0.45790252 -0.7383752 ]\n",
      "  [ 0.1004487  -0.38631937]\n",
      "  [ 0.676424    0.05634459]\n",
      "  [ 0.77435903 -0.65383704]\n",
      "  [ 0.23132763 -0.49573347]\n",
      "  [ 0.81185815 -0.75757074]\n",
      "  [ 0.          0.        ]\n",
      "  [ 0.65061767  0.0289346 ]\n",
      "  [ 0.5282004  -0.31241732]\n",
      "  [ 0.40049762 -0.07889003]]\n",
      "\n",
      " [[-0.19271515 -0.7673098 ]\n",
      "  [-0.55016897 -0.41525397]\n",
      "  [ 0.02580633  0.02740999]\n",
      "  [ 0.12374136 -0.68277164]\n",
      "  [-0.41929004 -0.52466807]\n",
      "  [ 0.16124047 -0.78650534]\n",
      "  [-0.65061767 -0.0289346 ]\n",
      "  [ 0.          0.        ]\n",
      "  [-0.12241728 -0.34135192]\n",
      "  [-0.25012005 -0.10782463]]\n",
      "\n",
      " [[-0.07029788 -0.42595787]\n",
      "  [-0.4277517  -0.07390205]\n",
      "  [ 0.1482236   0.36876191]\n",
      "  [ 0.24615863 -0.34141971]\n",
      "  [-0.29687277 -0.18331615]\n",
      "  [ 0.28365775 -0.44515342]\n",
      "  [-0.5282004   0.31241732]\n",
      "  [ 0.12241728  0.34135192]\n",
      "  [ 0.          0.        ]\n",
      "  [-0.12770278  0.23352729]]\n",
      "\n",
      " [[ 0.0574049  -0.65948517]\n",
      "  [-0.30004892 -0.30742934]\n",
      "  [ 0.27592638  0.13523462]\n",
      "  [ 0.37386141 -0.57494701]\n",
      "  [-0.16916999 -0.41684344]\n",
      "  [ 0.41136052 -0.67868071]\n",
      "  [-0.40049762  0.07889003]\n",
      "  [ 0.25012005  0.10782463]\n",
      "  [ 0.12770278 -0.23352729]\n",
      "  [ 0.          0.        ]]]\n"
     ]
    }
   ],
   "source": [
    "step1 = X[:, np.newaxis, :] - X[np.newaxis, :, :]\n",
    "print(step1)"
   ]
  },
  {
   "cell_type": "code",
   "execution_count": 140,
   "metadata": {},
   "outputs": [
    {
     "name": "stdout",
     "output_type": "stream",
     "text": [
      "[[[0.00000000e+00 0.00000000e+00]\n",
      "  [1.27773236e-01 1.23943302e-01]\n",
      "  [4.77516365e-02 6.31579538e-01]\n",
      "  [1.00144721e-01 7.14670060e-03]\n",
      "  [5.13361821e-02 5.88750085e-02]\n",
      "  [1.25284584e-01 3.68468977e-04]\n",
      "  [2.09674720e-01 5.45197930e-01]\n",
      "  [3.71391297e-02 5.88764324e-01]\n",
      "  [4.94179135e-03 1.81440111e-01]\n",
      "  [3.29532252e-03 4.34920684e-01]]\n",
      "\n",
      " [[1.27773236e-01 1.23943302e-01]\n",
      "  [0.00000000e+00 0.00000000e+00]\n",
      "  [3.31747548e-01 1.95951385e-01]\n",
      "  [4.54155132e-01 7.15656993e-02]\n",
      "  [1.71292943e-02 1.19714439e-02]\n",
      "  [5.06103402e-01 1.37827578e-01]\n",
      "  [1.00899411e-02 1.49242658e-01]\n",
      "  [3.02685901e-01 1.72435863e-01]\n",
      "  [1.82971516e-01 5.46151337e-03]\n",
      "  [9.00293563e-02 9.45128016e-02]]\n",
      "\n",
      " [[4.77516365e-02 6.31579538e-01]\n",
      "  [3.31747548e-01 1.95951385e-01]\n",
      "  [0.00000000e+00 0.00000000e+00]\n",
      "  [9.59126976e-03 5.04357941e-01]\n",
      "  [1.98110780e-01 3.04790182e-01]\n",
      "  [1.83424079e-02 6.62458167e-01]\n",
      "  [4.57549428e-01 3.17471286e-03]\n",
      "  [6.65966501e-04 7.51307525e-04]\n",
      "  [2.19702363e-02 1.35985347e-01]\n",
      "  [7.61353662e-02 1.82884024e-02]]\n",
      "\n",
      " [[1.00144721e-01 7.14670060e-03]\n",
      "  [4.54155132e-01 7.15656993e-02]\n",
      "  [9.59126976e-03 5.04357941e-01]\n",
      "  [0.00000000e+00 0.00000000e+00]\n",
      "  [2.94883101e-01 2.49967382e-02]\n",
      "  [1.40618384e-03 1.07606818e-02]\n",
      "  [5.99631905e-01 4.27502868e-01]\n",
      "  [1.53119229e-02 4.66177107e-01]\n",
      "  [6.05940715e-02 1.16567421e-01]\n",
      "  [1.39772351e-01 3.30564059e-01]]\n",
      "\n",
      " [[5.13361821e-02 5.88750085e-02]\n",
      "  [1.71292943e-02 1.19714439e-02]\n",
      "  [1.98110780e-01 3.04790182e-01]\n",
      "  [2.94883101e-01 2.49967382e-02]\n",
      "  [0.00000000e+00 0.00000000e+00]\n",
      "  [3.37015682e-01 6.85587582e-02]\n",
      "  [5.35124720e-02 2.45751670e-01]\n",
      "  [1.75804141e-01 2.75276582e-01]\n",
      "  [8.81334408e-02 3.36048094e-02]\n",
      "  [2.86184866e-02 1.73758451e-01]]\n",
      "\n",
      " [[1.25284584e-01 3.68468977e-04]\n",
      "  [5.06103402e-01 1.37827578e-01]\n",
      "  [1.83424079e-02 6.62458167e-01]\n",
      "  [1.40618384e-03 1.07606818e-02]\n",
      "  [3.37015682e-01 6.85587582e-02]\n",
      "  [0.00000000e+00 0.00000000e+00]\n",
      "  [6.59113650e-01 5.73913428e-01]\n",
      "  [2.59984901e-02 6.18590653e-01]\n",
      "  [8.04617184e-02 1.98161568e-01]\n",
      "  [1.69217481e-01 4.60607509e-01]]\n",
      "\n",
      " [[2.09674720e-01 5.45197930e-01]\n",
      "  [1.00899411e-02 1.49242658e-01]\n",
      "  [4.57549428e-01 3.17471286e-03]\n",
      "  [5.99631905e-01 4.27502868e-01]\n",
      "  [5.35124720e-02 2.45751670e-01]\n",
      "  [6.59113650e-01 5.73913428e-01]\n",
      "  [0.00000000e+00 0.00000000e+00]\n",
      "  [4.23303357e-01 8.37211125e-04]\n",
      "  [2.78995660e-01 9.76045824e-02]\n",
      "  [1.60398345e-01 6.22363676e-03]]\n",
      "\n",
      " [[3.71391297e-02 5.88764324e-01]\n",
      "  [3.02685901e-01 1.72435863e-01]\n",
      "  [6.65966501e-04 7.51307525e-04]\n",
      "  [1.53119229e-02 4.66177107e-01]\n",
      "  [1.75804141e-01 2.75276582e-01]\n",
      "  [2.59984901e-02 6.18590653e-01]\n",
      "  [4.23303357e-01 8.37211125e-04]\n",
      "  [0.00000000e+00 0.00000000e+00]\n",
      "  [1.49859894e-02 1.16521135e-01]\n",
      "  [6.25600401e-02 1.16261509e-02]]\n",
      "\n",
      " [[4.94179135e-03 1.81440111e-01]\n",
      "  [1.82971516e-01 5.46151337e-03]\n",
      "  [2.19702363e-02 1.35985347e-01]\n",
      "  [6.05940715e-02 1.16567421e-01]\n",
      "  [8.81334408e-02 3.36048094e-02]\n",
      "  [8.04617184e-02 1.98161568e-01]\n",
      "  [2.78995660e-01 9.76045824e-02]\n",
      "  [1.49859894e-02 1.16521135e-01]\n",
      "  [0.00000000e+00 0.00000000e+00]\n",
      "  [1.63079989e-02 5.45349958e-02]]\n",
      "\n",
      " [[3.29532252e-03 4.34920684e-01]\n",
      "  [9.00293563e-02 9.45128016e-02]\n",
      "  [7.61353662e-02 1.82884024e-02]\n",
      "  [1.39772351e-01 3.30564059e-01]\n",
      "  [2.86184866e-02 1.73758451e-01]\n",
      "  [1.69217481e-01 4.60607509e-01]\n",
      "  [1.60398345e-01 6.22363676e-03]\n",
      "  [6.25600401e-02 1.16261509e-02]\n",
      "  [1.63079989e-02 5.45349958e-02]\n",
      "  [0.00000000e+00 0.00000000e+00]]]\n"
     ]
    }
   ],
   "source": [
    "step2 = step1 **2 \n",
    "print(step2)"
   ]
  },
  {
   "cell_type": "markdown",
   "metadata": {},
   "source": [
    "* np.sum() axis = -1 은 우리 예제에서 3차원 이기때문에 axis=2와 동일함"
   ]
  },
  {
   "cell_type": "code",
   "execution_count": 141,
   "metadata": {},
   "outputs": [
    {
     "name": "stdout",
     "output_type": "stream",
     "text": [
      "[[ True  True  True  True  True  True  True  True  True  True]\n",
      " [ True  True  True  True  True  True  True  True  True  True]\n",
      " [ True  True  True  True  True  True  True  True  True  True]\n",
      " [ True  True  True  True  True  True  True  True  True  True]\n",
      " [ True  True  True  True  True  True  True  True  True  True]\n",
      " [ True  True  True  True  True  True  True  True  True  True]\n",
      " [ True  True  True  True  True  True  True  True  True  True]\n",
      " [ True  True  True  True  True  True  True  True  True  True]\n",
      " [ True  True  True  True  True  True  True  True  True  True]\n",
      " [ True  True  True  True  True  True  True  True  True  True]]\n"
     ]
    }
   ],
   "source": [
    "step3_r = np.sum(step2,axis=-1)\n",
    "step3_r2 = np.sum(step2,axis=2)\n",
    "print(step3_r == step3_r2)"
   ]
  },
  {
   "cell_type": "code",
   "execution_count": 142,
   "metadata": {},
   "outputs": [
    {
     "name": "stdout",
     "output_type": "stream",
     "text": [
      "[[0.         0.25171654 0.67933117 0.10729142 0.11021119 0.12565305\n",
      "  0.75487265 0.62590345 0.1863819  0.43821601]\n",
      " [0.25171654 0.         0.52769893 0.52572083 0.02910074 0.64393098\n",
      "  0.1593326  0.47512176 0.18843303 0.18454216]\n",
      " [0.67933117 0.52769893 0.         0.51394921 0.50290096 0.68080058\n",
      "  0.46072414 0.00141727 0.15795558 0.09442377]\n",
      " [0.10729142 0.52572083 0.51394921 0.         0.31987984 0.01216687\n",
      "  1.02713477 0.48148903 0.17716149 0.47033641]\n",
      " [0.11021119 0.02910074 0.50290096 0.31987984 0.         0.40557444\n",
      "  0.29926414 0.45108072 0.12173825 0.20237694]\n",
      " [0.12565305 0.64393098 0.68080058 0.01216687 0.40557444 0.\n",
      "  1.23302708 0.64458914 0.27862329 0.62982499]\n",
      " [0.75487265 0.1593326  0.46072414 1.02713477 0.29926414 1.23302708\n",
      "  0.         0.42414057 0.37660024 0.16662198]\n",
      " [0.62590345 0.47512176 0.00141727 0.48148903 0.45108072 0.64458914\n",
      "  0.42414057 0.         0.13150712 0.07418619]\n",
      " [0.1863819  0.18843303 0.15795558 0.17716149 0.12173825 0.27862329\n",
      "  0.37660024 0.13150712 0.         0.07084299]\n",
      " [0.43821601 0.18454216 0.09442377 0.47033641 0.20237694 0.62982499\n",
      "  0.16662198 0.07418619 0.07084299 0.        ]]\n"
     ]
    }
   ],
   "source": [
    "print(step3_r)"
   ]
  },
  {
   "cell_type": "code",
   "execution_count": 143,
   "metadata": {},
   "outputs": [
    {
     "name": "stdout",
     "output_type": "stream",
     "text": [
      "[[0.         0.25171654 0.67933117 0.10729142 0.11021119 0.12565305\n",
      "  0.75487265 0.62590345 0.1863819  0.43821601]\n",
      " [0.25171654 0.         0.52769893 0.52572083 0.02910074 0.64393098\n",
      "  0.1593326  0.47512176 0.18843303 0.18454216]\n",
      " [0.67933117 0.52769893 0.         0.51394921 0.50290096 0.68080058\n",
      "  0.46072414 0.00141727 0.15795558 0.09442377]\n",
      " [0.10729142 0.52572083 0.51394921 0.         0.31987984 0.01216687\n",
      "  1.02713477 0.48148903 0.17716149 0.47033641]\n",
      " [0.11021119 0.02910074 0.50290096 0.31987984 0.         0.40557444\n",
      "  0.29926414 0.45108072 0.12173825 0.20237694]\n",
      " [0.12565305 0.64393098 0.68080058 0.01216687 0.40557444 0.\n",
      "  1.23302708 0.64458914 0.27862329 0.62982499]\n",
      " [0.75487265 0.1593326  0.46072414 1.02713477 0.29926414 1.23302708\n",
      "  0.         0.42414057 0.37660024 0.16662198]\n",
      " [0.62590345 0.47512176 0.00141727 0.48148903 0.45108072 0.64458914\n",
      "  0.42414057 0.         0.13150712 0.07418619]\n",
      " [0.1863819  0.18843303 0.15795558 0.17716149 0.12173825 0.27862329\n",
      "  0.37660024 0.13150712 0.         0.07084299]\n",
      " [0.43821601 0.18454216 0.09442377 0.47033641 0.20237694 0.62982499\n",
      "  0.16662198 0.07418619 0.07084299 0.        ]]\n"
     ]
    }
   ],
   "source": [
    "print(step3_r2)"
   ]
  },
  {
   "cell_type": "markdown",
   "metadata": {},
   "source": [
    "dist_sq(두점사이의 거리의 제곱) 중간과정 끝 \n",
    "___"
   ]
  },
  {
   "cell_type": "code",
   "execution_count": 144,
   "metadata": {},
   "outputs": [],
   "source": [
    "dist_sq = np.sum((X[:, np.newaxis, :] - X[np.newaxis, :, :]) ** 2, axis=-1)"
   ]
  },
  {
   "cell_type": "code",
   "execution_count": 145,
   "metadata": {},
   "outputs": [
    {
     "name": "stdout",
     "output_type": "stream",
     "text": [
      "[[0.         0.25171654 0.67933117 0.10729142 0.11021119 0.12565305\n",
      "  0.75487265 0.62590345 0.1863819  0.43821601]\n",
      " [0.25171654 0.         0.52769893 0.52572083 0.02910074 0.64393098\n",
      "  0.1593326  0.47512176 0.18843303 0.18454216]\n",
      " [0.67933117 0.52769893 0.         0.51394921 0.50290096 0.68080058\n",
      "  0.46072414 0.00141727 0.15795558 0.09442377]\n",
      " [0.10729142 0.52572083 0.51394921 0.         0.31987984 0.01216687\n",
      "  1.02713477 0.48148903 0.17716149 0.47033641]\n",
      " [0.11021119 0.02910074 0.50290096 0.31987984 0.         0.40557444\n",
      "  0.29926414 0.45108072 0.12173825 0.20237694]\n",
      " [0.12565305 0.64393098 0.68080058 0.01216687 0.40557444 0.\n",
      "  1.23302708 0.64458914 0.27862329 0.62982499]\n",
      " [0.75487265 0.1593326  0.46072414 1.02713477 0.29926414 1.23302708\n",
      "  0.         0.42414057 0.37660024 0.16662198]\n",
      " [0.62590345 0.47512176 0.00141727 0.48148903 0.45108072 0.64458914\n",
      "  0.42414057 0.         0.13150712 0.07418619]\n",
      " [0.1863819  0.18843303 0.15795558 0.17716149 0.12173825 0.27862329\n",
      "  0.37660024 0.13150712 0.         0.07084299]\n",
      " [0.43821601 0.18454216 0.09442377 0.47033641 0.20237694 0.62982499\n",
      "  0.16662198 0.07418619 0.07084299 0.        ]]\n",
      "ndim :  2\n",
      "shape :  (10, 10)\n",
      "size :  100\n"
     ]
    }
   ],
   "source": [
    "print(dist_sq)\n",
    "print(\"ndim : \",dist_sq.ndim)\n",
    "print(\"shape : \", dist_sq.shape)\n",
    "print(\"size : \",dist_sq.size)"
   ]
  },
  {
   "cell_type": "markdown",
   "metadata": {},
   "source": [
    "___\n",
    "np.sum((X[:, np.newaxis, :] - X[np.newaxis, :, :]) ** 2, axis=-1) 의 상세 단계 확인"
   ]
  },
  {
   "cell_type": "code",
   "execution_count": 146,
   "metadata": {},
   "outputs": [
    {
     "data": {
      "text/plain": [
       "(10, 10, 2)"
      ]
     },
     "execution_count": 146,
     "metadata": {},
     "output_type": "execute_result"
    }
   ],
   "source": [
    "# 각 쌍의 점 사이의 좌표의 차이를 계산\n",
    "differences = X[:, np.newaxis, :] - X[np.newaxis, :, :]\n",
    "differences.shape"
   ]
  },
  {
   "cell_type": "code",
   "execution_count": 85,
   "metadata": {},
   "outputs": [
    {
     "data": {
      "text/plain": [
       "(10, 10, 2)"
      ]
     },
     "execution_count": 85,
     "metadata": {},
     "output_type": "execute_result"
    }
   ],
   "source": [
    "# 좌표의 차이를 제곱함\n",
    "sq_differences = differences ** 2\n",
    "sq_differences.shape"
   ]
  },
  {
   "cell_type": "code",
   "execution_count": 148,
   "metadata": {},
   "outputs": [
    {
     "data": {
      "text/plain": [
       "(10, 10)"
      ]
     },
     "execution_count": 148,
     "metadata": {},
     "output_type": "execute_result"
    }
   ],
   "source": [
    "# 제곱 거리를 구하기 위해 좌표 차이를 더함\n",
    "dist_sq = sq_differences.sum(-1)\n",
    "dist_sq.shape"
   ]
  },
  {
   "cell_type": "markdown",
   "metadata": {},
   "source": [
    "확인 끝\n",
    "___"
   ]
  },
  {
   "cell_type": "code",
   "execution_count": 149,
   "metadata": {},
   "outputs": [
    {
     "data": {
      "text/plain": [
       "array([0., 0., 0., 0., 0., 0., 0., 0., 0., 0.])"
      ]
     },
     "execution_count": 149,
     "metadata": {},
     "output_type": "execute_result"
    }
   ],
   "source": [
    "# 자기 자신과의 거리가 0인지 확인 하기 위함\n",
    "dist_sq.diagonal()"
   ]
  },
  {
   "cell_type": "code",
   "execution_count": 152,
   "metadata": {},
   "outputs": [
    {
     "name": "stdout",
     "output_type": "stream",
     "text": [
      "[[0 3 9 7 1 4 2 5 6 8]\n",
      " [1 4 7 9 3 6 8 5 0 2]\n",
      " [2 1 4 6 3 0 8 9 7 5]\n",
      " [3 9 7 0 1 4 5 8 6 2]\n",
      " [4 1 8 5 6 7 9 3 0 2]\n",
      " [5 8 6 4 1 7 9 3 2 0]\n",
      " [6 8 5 4 1 7 9 3 2 0]\n",
      " [7 9 3 1 4 0 5 8 6 2]\n",
      " [8 5 6 4 1 7 9 3 2 0]\n",
      " [9 7 3 0 1 4 5 8 6 2]]\n"
     ]
    }
   ],
   "source": [
    "# 제곱 거리의 값들을  argsort를 이용하여 크기 순으로 정렬한 인덱스를 반환함\n",
    "nearest = np.argsort(dist_sq, axis=1)\n",
    "print(nearest)"
   ]
  },
  {
   "cell_type": "markdown",
   "metadata": {},
   "source": [
    "* `numpy.argpartition(a, kth, axis=-1, kind='introselect', order=None)`"
   ]
  },
  {
   "cell_type": "code",
   "execution_count": 153,
   "metadata": {},
   "outputs": [],
   "source": [
    "K = 2\n",
    "nearest_partition = np.argpartition(dist_sq, K + 1, axis=1)"
   ]
  },
  {
   "cell_type": "code",
   "execution_count": 154,
   "metadata": {},
   "outputs": [
    {
     "data": {
      "image/png": "[encoded data removed]",
      "text/plain": [
       "<Figure size 432x288 with 1 Axes>"
      ]
     },
     "metadata": {},
     "output_type": "display_data"
    }
   ],
   "source": [
    "plt.scatter(X[:, 0], X[:, 1], s=100)\n",
    "\n",
    "# draw lines from each point to its two nearest neighbors\n",
    "K = 2\n",
    "\n",
    "for i in range(X.shape[0]):\n",
    "    for j in nearest_partition[i, :K+1]:\n",
    "        # plot a line from X[i] to X[j]\n",
    "        # use some zip magic to make it happen:\n",
    "        plt.plot(*zip(X[j], X[i]), color='black')"
   ]
  },
  {
   "cell_type": "code",
   "execution_count": null,
   "metadata": {},
   "outputs": [],
   "source": []
  },
  {
   "cell_type": "code",
   "execution_count": null,
   "metadata": {},
   "outputs": [],
   "source": []
  }
 ],
 "metadata": {
  "kernelspec": {
   "display_name": "Python 3",
   "language": "python",
   "name": "python3"
  },
  "language_info": {
   "codemirror_mode": {
    "name": "ipython",
    "version": 3
   },
   "file_extension": ".py",
   "mimetype": "text/x-python",
   "name": "python",
   "nbconvert_exporter": "python",
   "pygments_lexer": "ipython3",
   "version": "3.6.8"
  }
 },
 "nbformat": 4,
 "nbformat_minor": 2
}
